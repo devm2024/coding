{
 "cells": [
  {
   "cell_type": "markdown",
   "metadata": {},
   "source": [
    "## Finding middle element in a linked list\n",
    "Given a singly linked list, find middle of the linked list. For example, if given linked list is 1->2->3->4->5 then output should be 3. \n",
    "\n",
    "If there are even nodes, then there would be two middle nodes, we need to print second middle element. For example, if given linked list is 1->2->3->4->5->6 then output should be 4.\n",
    "\n",
    "Input:\n",
    "You have to complete the method which takes one argument: the head of the linked list. You should not read any input from stdin/console.\n",
    "The struct Node has a data part which stores the data and a next pointer which points to the next element of the linked list. \n",
    "There are multiple test cases. For each test case, this method will be called individually."
   ]
  },
  {
   "cell_type": "code",
   "execution_count": 21,
   "metadata": {},
   "outputs": [],
   "source": [
    "class Node:\n",
    "    def __init__(self,val):\n",
    "        self.data = val\n",
    "        self.next = None\n",
    "        \n",
    "class LinkedList:\n",
    "    def __init__(self):\n",
    "        self.head = None\n",
    "        \n",
    "    def insert(self,val):\n",
    "        # pointer to none with val as head if head is none\n",
    "        # else point to previous head. make temp node with val pointing towards none. \n",
    "        # then replace next with previous node\n",
    "        if self.head is None:\n",
    "            self.head = Node(val)\n",
    "        else:\n",
    "            new_node = Node(val)\n",
    "            tmp = self.head\n",
    "            while(tmp.next):\n",
    "                tmp=tmp.next\n",
    "            tmp.next = new_node\n",
    "\n",
    "def create_linked_list(arr):\n",
    "    lis = LinkedList()\n",
    "    for i in range(len(arr)):\n",
    "        lis.insert(arr[i])\n",
    "    return lis.head"
   ]
  },
  {
   "cell_type": "code",
   "execution_count": 22,
   "metadata": {},
   "outputs": [],
   "source": [
    "link_list1 = create_linked_list([1,2,3,4,5])"
   ]
  },
  {
   "cell_type": "code",
   "execution_count": 25,
   "metadata": {},
   "outputs": [
    {
     "data": {
      "text/plain": [
       "3"
      ]
     },
     "execution_count": 25,
     "metadata": {},
     "output_type": "execute_result"
    }
   ],
   "source": [
    "link_list1.next.next.data"
   ]
  },
  {
   "cell_type": "code",
   "execution_count": 38,
   "metadata": {},
   "outputs": [],
   "source": [
    "def find_mid(head):\n",
    "    def find_len(head):  \n",
    "        t = 0\n",
    "        tmp = head\n",
    "        while(tmp):\n",
    "            t+=1\n",
    "            tmp=tmp.next\n",
    "        return t\n",
    "    \n",
    "    len_list = find_len(head)\n",
    "    idx = len_list//2  # works for both even and odd cases\n",
    "    \n",
    "    tmp=head\n",
    "    for i in range(idx):\n",
    "        tmp = tmp.next\n",
    "    return tmp.data"
   ]
  },
  {
   "cell_type": "code",
   "execution_count": 39,
   "metadata": {},
   "outputs": [
    {
     "data": {
      "text/plain": [
       "3"
      ]
     },
     "execution_count": 39,
     "metadata": {},
     "output_type": "execute_result"
    }
   ],
   "source": [
    "find_mid(link_list1)"
   ]
  },
  {
   "cell_type": "markdown",
   "metadata": {},
   "source": [
    "## Reverse a linked list\n",
    "                                  \n",
    "Given pointer to the head node of a linked list, the task is to reverse the linked list.\n",
    "\n",
    "Input:\n",
    "You need to complete a method reverse() that takes head as argument and returns new head.\n",
    "There are multiple test cases. For each test case, this method will be called individually.  The first line of input contains number of test cases.  Every test case has two lines, number of nodes first line and data values in next line.\n",
    "\n",
    "Output:\n",
    "Reverse the linked list and return head of the modified list."
   ]
  },
  {
   "cell_type": "code",
   "execution_count": 69,
   "metadata": {},
   "outputs": [],
   "source": [
    "class Node:\n",
    "    def __init__(self,val):\n",
    "        self.data = val\n",
    "        self.next = None\n",
    "        \n",
    "class LinkedList:\n",
    "    def __init__(self):\n",
    "        self.head = None\n",
    "        \n",
    "    def insert(self,val):\n",
    "        # pointer to none with val as head if head is none\n",
    "        # else point to previous head. make temp node with val pointing towards none. \n",
    "        # then replace next with previous node\n",
    "        if self.head is None:\n",
    "            self.head = Node(val)\n",
    "        else:\n",
    "            new_node = Node(val)\n",
    "            tmp = self.head\n",
    "            while(tmp.next):\n",
    "                tmp=tmp.next\n",
    "            tmp.next = new_node\n",
    "    \n",
    "    def create_list(self, arr):\n",
    "        for val in arr:\n",
    "            self.insert(val)\n",
    "        return self.head\n",
    "    \n",
    "    reverse_list = reverse_insert\n",
    "    \n",
    "    def print_list(self):\n",
    "        tmp=self.head\n",
    "        while(tmp):\n",
    "            print(tmp.data, end=\"->\")\n",
    "            tmp=tmp.next"
   ]
  },
  {
   "cell_type": "code",
   "execution_count": 70,
   "metadata": {},
   "outputs": [],
   "source": [
    "# from head, keep doing next and put them into new list\n",
    "def reverse_insert(self):\n",
    "    if self.head is None:\n",
    "        return None\n",
    "    \n",
    "    tmp = self.head\n",
    "    new_node = Node(tmp.data)  # 1 -> None\n",
    "    while(tmp.next):   \n",
    "        # need 2 -> 1 -> None from tmp.next where tmp.next.data = 2 \n",
    "        tmp = tmp.next\n",
    "        new_new_node = Node(tmp.data)  # 2 -> None, 3 -> None\n",
    "        new_new_node.next = new_node # 2 -> 1 -> None, 3 -> 2 -> 1 -> None\n",
    "        new_node = new_new_node # 2 -> 1 -> None, 3 -> 2 -> 1 -> None\n",
    "    \n",
    "    self.head = new_node"
   ]
  },
  {
   "cell_type": "code",
   "execution_count": 71,
   "metadata": {},
   "outputs": [],
   "source": [
    "lis = LinkedList()"
   ]
  },
  {
   "cell_type": "code",
   "execution_count": 72,
   "metadata": {},
   "outputs": [],
   "source": [
    "head = lis.create_list([1,2,3,4,5])"
   ]
  },
  {
   "cell_type": "code",
   "execution_count": 73,
   "metadata": {},
   "outputs": [
    {
     "name": "stdout",
     "output_type": "stream",
     "text": [
      "1->2->3->4->5->"
     ]
    }
   ],
   "source": [
    "lis.print_list()"
   ]
  },
  {
   "cell_type": "code",
   "execution_count": 74,
   "metadata": {},
   "outputs": [],
   "source": [
    "lis.reverse_list()"
   ]
  },
  {
   "cell_type": "code",
   "execution_count": 75,
   "metadata": {},
   "outputs": [
    {
     "name": "stdout",
     "output_type": "stream",
     "text": [
      "5->4->3->2->1->"
     ]
    }
   ],
   "source": [
    "lis.print_list()"
   ]
  },
  {
   "cell_type": "markdown",
   "metadata": {},
   "source": [
    "### Remove Dups: \n",
    "Write code to remove duplicates from an unsorted linked list.  \n",
    "How would you solve this problem if a temporary buffer is not allowed?"
   ]
  },
  {
   "cell_type": "code",
   "execution_count": 3,
   "metadata": {},
   "outputs": [],
   "source": [
    "class Node:\n",
    "    def __init__(self,val,next_node=None,pre_node=None):\n",
    "        self.data=val\n",
    "        self.next=next_node\n",
    "        self.previous=pre_node"
   ]
  },
  {
   "cell_type": "code",
   "execution_count": null,
   "metadata": {},
   "outputs": [],
   "source": [
    "# double sides linked list\n",
    "class Linkedlist:\n",
    "    def __init__(self):\n",
    "        self.head=None\n",
    "        self.tail=None\n",
    "        \n",
    "    def add(self,val):\n",
    "        if not self.head:\n",
    "            self.head = self.tail = Node(val)\n",
    "        else:\n",
    "            # walk to the tail from head\n",
    "            self.tail=Node(val)\n",
    "            self.tail=self.tail.next\n",
    "            return self.tail\n",
    "        \n",
    "    def add_multiple(self,vals):\n",
    "        for v in vals:\n",
    "            self.add(v)\n",
    "            \n",
    "    def __str__(self):\n",
    "        values = [str(x) for x in self]\n",
    "        return ' -> '.join(values)"
   ]
  }
 ],
 "metadata": {
  "kernelspec": {
   "display_name": "Python 3",
   "language": "python",
   "name": "python3"
  },
  "language_info": {
   "codemirror_mode": {
    "name": "ipython",
    "version": 3
   },
   "file_extension": ".py",
   "mimetype": "text/x-python",
   "name": "python",
   "nbconvert_exporter": "python",
   "pygments_lexer": "ipython3",
   "version": "3.7.0"
  },
  "toc": {
   "base_numbering": 1,
   "nav_menu": {},
   "number_sections": true,
   "sideBar": true,
   "skip_h1_title": false,
   "title_cell": "Table of Contents",
   "title_sidebar": "Contents",
   "toc_cell": false,
   "toc_position": {},
   "toc_section_display": true,
   "toc_window_display": false
  }
 },
 "nbformat": 4,
 "nbformat_minor": 2
}
