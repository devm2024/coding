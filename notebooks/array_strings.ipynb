{
 "cells": [
  {
   "cell_type": "markdown",
   "metadata": {},
   "source": [
    "## Find median in a stream\n",
    "\n",
    "                            \n",
    "Given an input stream of n integers the task is to insert integers to stream and print the median of the new stream formed by each insertion of x to the stream.\n",
    "\n"
   ]
  },
  {
   "cell_type": "markdown",
   "metadata": {},
   "source": [
    "```Flow in stream : 5, 15, 1, 3 \n",
    "5 goes to stream --> median 5 (5)\n",
    "15 goes to stream --> median 10 (5, 15)\n",
    "1 goes to stream --> median 5 (5, 15, 1)\n",
    "3 goes to stream --> median 4 (5, 15, 1, 3)```"
   ]
  },
  {
   "cell_type": "markdown",
   "metadata": {},
   "source": [
    "Simple brute force solution is to keep on appending new elemnts to list -> sorting them -> finding median based on whether even elements or odd elements. This is n.log(n) for sorting + n for median search. therefore n times elements are being added. therefore n.(n.log(n)) time complexity solution. let's try to optimize it"
   ]
  },
  {
   "cell_type": "code",
   "execution_count": 4,
   "metadata": {},
   "outputs": [],
   "source": [
    "def insert_sorted(arr,x):\n",
    "    \"\"\"\n",
    "    Insert item x in list arr, and keep it sorted assuming arr is sorted.\n",
    "    \"\"\"\n",
    "    arr.append(x)\n",
    "    i = len(arr)-1\n",
    "    key = arr[i]\n",
    "    j = i-1\n",
    "    \n",
    "    while j>=0 and arr[j]>key:\n",
    "        arr[j+1] = arr[j]\n",
    "        j=j-1\n",
    "    arr[j+1] = key\n",
    "    return arr"
   ]
  },
  {
   "cell_type": "code",
   "execution_count": 7,
   "metadata": {},
   "outputs": [],
   "source": [
    "new_ar = insert_sorted([3,5,15,25],10)"
   ]
  },
  {
   "cell_type": "code",
   "execution_count": 8,
   "metadata": {},
   "outputs": [
    {
     "data": {
      "text/plain": [
       "[3, 5, 10, 15, 25]"
      ]
     },
     "execution_count": 8,
     "metadata": {},
     "output_type": "execute_result"
    }
   ],
   "source": [
    "new_ar"
   ]
  },
  {
   "cell_type": "code",
   "execution_count": 13,
   "metadata": {},
   "outputs": [],
   "source": [
    "if len(new_ar)%2 == 0:\n",
    "    med = (new_ar[len(new_ar)//2] + new_ar[len(new_ar)//2-1])/2.\n",
    "else:\n",
    "    med = new_ar[len(new_ar)//2]"
   ]
  },
  {
   "cell_type": "code",
   "execution_count": 14,
   "metadata": {},
   "outputs": [
    {
     "data": {
      "text/plain": [
       "10"
      ]
     },
     "execution_count": 14,
     "metadata": {},
     "output_type": "execute_result"
    }
   ],
   "source": [
    "med"
   ]
  },
  {
   "cell_type": "markdown",
   "metadata": {},
   "source": [
    "time complexity of this should be n^2 (n for each step of insertion sort and n elements in stream). We can optimize it even better"
   ]
  },
  {
   "cell_type": "markdown",
   "metadata": {},
   "source": [
    "can use `insort` inbuilt function from `bisect` library instead of custom insert_sorted to make it faster. \n"
   ]
  },
  {
   "cell_type": "code",
   "execution_count": 16,
   "metadata": {},
   "outputs": [],
   "source": [
    "from bisect import insort"
   ]
  },
  {
   "cell_type": "markdown",
   "metadata": {},
   "source": [
    "## Is palindrome"
   ]
  },
  {
   "cell_type": "code",
   "execution_count": 37,
   "metadata": {},
   "outputs": [],
   "source": [
    "st = '12ISAasw; 1'"
   ]
  },
  {
   "cell_type": "code",
   "execution_count": 38,
   "metadata": {},
   "outputs": [],
   "source": [
    "import re\n",
    "import string"
   ]
  },
  {
   "cell_type": "code",
   "execution_count": 47,
   "metadata": {},
   "outputs": [
    {
     "data": {
      "text/plain": [
       "'12ISAasw1'"
      ]
     },
     "execution_count": 47,
     "metadata": {},
     "output_type": "execute_result"
    }
   ],
   "source": [
    "re.sub(f\"([{string.punctuation}] )\",'', st.strip(''))"
   ]
  },
  {
   "cell_type": "code",
   "execution_count": 52,
   "metadata": {},
   "outputs": [
    {
     "data": {
      "text/plain": [
       "'12ISAasw1'"
      ]
     },
     "execution_count": 52,
     "metadata": {},
     "output_type": "execute_result"
    }
   ],
   "source": [
    "re.sub(\"([%s] )\"%(string.punctuation),'', st.strip(''))"
   ]
  },
  {
   "cell_type": "code",
   "execution_count": 76,
   "metadata": {},
   "outputs": [],
   "source": [
    "#code\n",
    "import re\n",
    "import string\n",
    "\n",
    "def is_palindrome(st):\n",
    "    st2 = re.sub(\"([{}“”¨«»®´·º½¾¿¡§£₤‘’ ])\".format(string.punctuation),'', st.strip(''))\n",
    "    st2 = st2.lower()\n",
    "    if st2 == st2[::-1]: return 'YES'\n",
    "    else: return 'NO'"
   ]
  },
  {
   "cell_type": "code",
   "execution_count": 77,
   "metadata": {},
   "outputs": [
    {
     "data": {
      "text/plain": [
       "'YES'"
      ]
     },
     "execution_count": 77,
     "metadata": {},
     "output_type": "execute_result"
    }
   ],
   "source": [
    "is_palindrome('I am :IronnorI Ma, i')"
   ]
  },
  {
   "cell_type": "markdown",
   "metadata": {},
   "source": [
    "## k largest(or smallest) elements in an array | added Min Heap method\n",
    "Question: Write an efficient program for printing k largest elements in an array. Elements in array can be in any order.\n",
    "For example, if given array is [1, 23, 12, 9, 30, 2, 50] and you are asked for the largest 3 elements i.e., k = 3 then your program should print 50, 30 and 23."
   ]
  },
  {
   "cell_type": "markdown",
   "metadata": {},
   "source": [
    "* Simplest method is to sort is (n.log(n)) and pick first k (k). overall time complexity will be `n.log(n)`. Let's optimize it. \n",
    "* Other apporach is to do bubble sort instead of quicksort. but run outer loop only k times as we are done after k iterations as we only need k smallest/largest which will be thrown towards right. time complexity for this will be `k.n` (better than quicksort if k < log(n))\n",
    "* using min/max heap (heapify)"
   ]
  },
  {
   "cell_type": "markdown",
   "metadata": {},
   "source": [
    "This method is mainly an optimization of method 1. Instead of using temp[] array, use Min Heap.\n",
    "\n",
    "1) Build a Min Heap MH of the first k elements (arr[0] to arr[k-1]) of the given array. O(k)\n",
    "\n",
    "2) For each element, after the kth element (arr[k] to arr[n-1]), compare it with root of MH.\n",
    "……a) If the element is greater than the root then make it root and call heapify for MH\n",
    "……b) Else ignore it.\n",
    "// The step 2 is O((n-k)*logk)\n",
    "\n",
    "3) Finally, MH has k largest elements and root of the MH is the kth largest element.\n",
    "\n",
    "Time Complexity: O(k + (n-k)Logk) without sorted output. If sorted output is needed then O(k + (n-k)Logk + kLogk)\n",
    "\n",
    "All of the above methods can also be used to find the kth largest (or smallest) element."
   ]
  },
  {
   "cell_type": "code",
   "execution_count": 15,
   "metadata": {},
   "outputs": [],
   "source": [
    "import heapq"
   ]
  },
  {
   "cell_type": "code",
   "execution_count": 24,
   "metadata": {},
   "outputs": [],
   "source": [
    "arr = [1, 13, 12, 9, 30, 23, 50] "
   ]
  },
  {
   "cell_type": "code",
   "execution_count": 25,
   "metadata": {},
   "outputs": [],
   "source": [
    "k=3"
   ]
  },
  {
   "cell_type": "code",
   "execution_count": 26,
   "metadata": {},
   "outputs": [],
   "source": [
    "arr_sub = arr[:k]"
   ]
  },
  {
   "cell_type": "code",
   "execution_count": 27,
   "metadata": {},
   "outputs": [],
   "source": [
    "heapq.heapify(arr_sub)"
   ]
  },
  {
   "cell_type": "code",
   "execution_count": 28,
   "metadata": {},
   "outputs": [
    {
     "data": {
      "text/plain": [
       "[1, 13, 12]"
      ]
     },
     "execution_count": 28,
     "metadata": {},
     "output_type": "execute_result"
    }
   ],
   "source": [
    "arr_sub"
   ]
  },
  {
   "cell_type": "code",
   "execution_count": 29,
   "metadata": {},
   "outputs": [],
   "source": [
    "arr_rem = arr[k:]"
   ]
  },
  {
   "cell_type": "code",
   "execution_count": 30,
   "metadata": {},
   "outputs": [
    {
     "name": "stdout",
     "output_type": "stream",
     "text": [
      "[9, 13, 12]\n",
      "[12, 13, 30]\n",
      "[13, 23, 30]\n",
      "[23, 50, 30]\n"
     ]
    }
   ],
   "source": [
    "for i in range(len(arr_rem)):\n",
    "    if arr_rem[i] > arr_sub[0]:\n",
    "        arr_sub[0] = arr_rem[i]\n",
    "        heapq.heapify(arr_sub)\n",
    "        print(arr_sub)"
   ]
  },
  {
   "cell_type": "code",
   "execution_count": 23,
   "metadata": {},
   "outputs": [
    {
     "data": {
      "text/plain": [
       "[23, 50, 30]"
      ]
     },
     "execution_count": 23,
     "metadata": {},
     "output_type": "execute_result"
    }
   ],
   "source": [
    "arr_sub"
   ]
  },
  {
   "cell_type": "markdown",
   "metadata": {},
   "source": [
    "## Find triplets with zero sum\n",
    "Given an array A of N elements. The task is to complete the function which returns true if triplets exists in array A whose sum is zero else returns false.\n",
    "Output:\n",
    "For each test case, output will be 1 if triplet exists else 0."
   ]
  },
  {
   "cell_type": "markdown",
   "metadata": {},
   "source": [
    "search for 0-(sum of 2 elems), if found, return true. but this will have n.n-1 for different possible combinations and o(n) for search in list -> n^3 by brute force. \n",
    "\n",
    "not optimized though"
   ]
  },
  {
   "cell_type": "code",
   "execution_count": 209,
   "metadata": {},
   "outputs": [],
   "source": [
    "st_ar = '6 56 93 -12 26 78 79 58 53 52 51 55 77 -2 61 -26 91 16 100 -8 72'"
   ]
  },
  {
   "cell_type": "code",
   "execution_count": 210,
   "metadata": {},
   "outputs": [],
   "source": [
    "arr = st_ar.split(' ')"
   ]
  },
  {
   "cell_type": "code",
   "execution_count": 211,
   "metadata": {},
   "outputs": [],
   "source": [
    "arr = [int(a) for a in arr]"
   ]
  },
  {
   "cell_type": "code",
   "execution_count": 197,
   "metadata": {},
   "outputs": [],
   "source": [
    "def findTriplets(arr):\n",
    "    for i in range(len(arr)):\n",
    "        for j in range(i+1,len(arr)):\n",
    "            su = arr[i] + arr[j]\n",
    "            if -su in arr[j+1:]: return True\n",
    "    return False"
   ]
  },
  {
   "cell_type": "code",
   "execution_count": 199,
   "metadata": {},
   "outputs": [
    {
     "data": {
      "text/plain": [
       "False"
      ]
     },
     "execution_count": 199,
     "metadata": {},
     "output_type": "execute_result"
    }
   ],
   "source": [
    "findTriplets(arr)"
   ]
  },
  {
   "cell_type": "markdown",
   "metadata": {},
   "source": [
    "Can optimize it by first sorting the list (n.log(n)). now when we go into first loop. rather than using a 2nd innner loop and then looking up in list (which adds n^2), we do binary search which does look up and loop together (only adds n). total n^2"
   ]
  },
  {
   "cell_type": "code",
   "execution_count": 214,
   "metadata": {},
   "outputs": [],
   "source": [
    "def find_triplets_optimized(arr):\n",
    "    arr.sort()\n",
    "    for i in range(len(arr)-2):  # 2 spaces left - one for left, i.e i+1 and one for right n\n",
    "        l=i+1\n",
    "        r=len(arr)-1\n",
    "        while l<r:\n",
    "            if arr[i]+arr[l]+arr[r] < 0: \n",
    "                l+=1\n",
    "            elif arr[i]+arr[l]+arr[r] > 0:\n",
    "                r-=1\n",
    "            else:\n",
    "                return True\n",
    "    return False"
   ]
  },
  {
   "cell_type": "code",
   "execution_count": 215,
   "metadata": {},
   "outputs": [
    {
     "data": {
      "text/plain": [
       "False"
      ]
     },
     "execution_count": 215,
     "metadata": {},
     "output_type": "execute_result"
    }
   ],
   "source": [
    "find_triplets_optimized(arr)"
   ]
  },
  {
   "cell_type": "markdown",
   "metadata": {},
   "source": [
    "## Longest valid Parentheses\n",
    "Given a string S consisting of opening and closing parenthesis '(' and ')'. Find length of the longest valid parenthesis substring.\n",
    "\n"
   ]
  },
  {
   "cell_type": "markdown",
   "metadata": {},
   "source": [
    "can be solved with O(n) with indexing"
   ]
  },
  {
   "cell_type": "code",
   "execution_count": 228,
   "metadata": {},
   "outputs": [],
   "source": [
    "st = ')()())'"
   ]
  },
  {
   "cell_type": "code",
   "execution_count": 233,
   "metadata": {},
   "outputs": [],
   "source": [
    "def longest_valid_par(st):\n",
    "    stck = []\n",
    "    ctr = 0\n",
    "    for i,s in enumerate(st):\n",
    "        stck.append(s)\n",
    "        if i>0 and stck[-2] == '(' and stck[-1] == ')':\n",
    "            print(stck)\n",
    "            ctr+=2\n",
    "    return ctr"
   ]
  },
  {
   "cell_type": "code",
   "execution_count": 234,
   "metadata": {},
   "outputs": [
    {
     "name": "stdout",
     "output_type": "stream",
     "text": [
      "[')', '(', ')']\n",
      "[')', '(', ')', '(', ')']\n"
     ]
    },
    {
     "data": {
      "text/plain": [
       "4"
      ]
     },
     "execution_count": 234,
     "metadata": {},
     "output_type": "execute_result"
    }
   ],
   "source": [
    "longest_valid_par(st)"
   ]
  },
  {
   "cell_type": "markdown",
   "metadata": {},
   "source": [
    "Above code is wrong and will not work for some cases like `(())` : valid substring are 4. but it will give 2"
   ]
  },
  {
   "cell_type": "code",
   "execution_count": 239,
   "metadata": {
    "scrolled": true
   },
   "outputs": [
    {
     "name": "stdout",
     "output_type": "stream",
     "text": [
      "['(', '(', ')']\n"
     ]
    },
    {
     "data": {
      "text/plain": [
       "2"
      ]
     },
     "execution_count": 239,
     "metadata": {},
     "output_type": "execute_result"
    }
   ],
   "source": [
    "longest_valid_par('(())')"
   ]
  },
  {
   "cell_type": "markdown",
   "metadata": {},
   "source": [
    "can be solved using `stacks`, keep on stacking, pop the last one and see if it matches `)` after `(`"
   ]
  },
  {
   "cell_type": "code",
   "execution_count": 243,
   "metadata": {},
   "outputs": [],
   "source": [
    "def longest_valid_par(st):\n",
    "    stck = []\n",
    "    ctr = 0\n",
    "    for i,s in enumerate(st):\n",
    "        if s == '(':\n",
    "            stck.append(s)\n",
    "        elif s == ')' and len(stck)>0:  \n",
    "            stck.pop()\n",
    "            ctr+=2\n",
    "    return ctr"
   ]
  },
  {
   "cell_type": "code",
   "execution_count": 262,
   "metadata": {},
   "outputs": [
    {
     "data": {
      "text/plain": [
       "32"
      ]
     },
     "execution_count": 262,
     "metadata": {},
     "output_type": "execute_result"
    }
   ],
   "source": [
    "longest_valid_par(')(((())(()()(()))))()(()))(((()))((()(')"
   ]
  },
  {
   "cell_type": "code",
   "execution_count": 247,
   "metadata": {},
   "outputs": [
    {
     "data": {
      "text/plain": [
       "2"
      ]
     },
     "execution_count": 247,
     "metadata": {},
     "output_type": "execute_result"
    }
   ],
   "source": [
    "longest_valid_par(')()')"
   ]
  },
  {
   "cell_type": "markdown",
   "metadata": {},
   "source": [
    "Above answer is still wrong as it will count cases where it encounters invalid parenthesis in between, then again gets some valid ones. Question is not to find number of valid parenthesis. But longest length upto which all parenthesis is valid, without encountering any invalid one. So, we will restart the count when it encounters an invalid one."
   ]
  },
  {
   "cell_type": "code",
   "execution_count": 267,
   "metadata": {},
   "outputs": [],
   "source": [
    "def solve(parenthesis):\n",
    "    stack = []\n",
    "    cur = 0\n",
    "    ret = 0\n",
    "    for i, e in enumerate(parenthesis):\n",
    "        if e == '(':\n",
    "            stack.append(cur)\n",
    "            cur = 0\n",
    "        elif e == ')' and len(stack) > 0:\n",
    "            cur += stack.pop() + 2\n",
    "            ret = max(ret, cur)\n",
    "        elif e == ')' and len(stack) == 0:  # restarts\n",
    "            cur = 0\n",
    "    return ret"
   ]
  },
  {
   "cell_type": "code",
   "execution_count": 268,
   "metadata": {},
   "outputs": [
    {
     "data": {
      "text/plain": [
       "24"
      ]
     },
     "execution_count": 268,
     "metadata": {},
     "output_type": "execute_result"
    }
   ],
   "source": [
    "solve(')(((())(()()(()))))()(()))(((()))((()(')"
   ]
  },
  {
   "cell_type": "code",
   "execution_count": null,
   "metadata": {},
   "outputs": [],
   "source": []
  }
 ],
 "metadata": {
  "kernelspec": {
   "display_name": "Python 3",
   "language": "python",
   "name": "python3"
  },
  "language_info": {
   "codemirror_mode": {
    "name": "ipython",
    "version": 3
   },
   "file_extension": ".py",
   "mimetype": "text/x-python",
   "name": "python",
   "nbconvert_exporter": "python",
   "pygments_lexer": "ipython3",
   "version": "3.7.0"
  },
  "toc": {
   "base_numbering": 1,
   "nav_menu": {},
   "number_sections": true,
   "sideBar": true,
   "skip_h1_title": false,
   "title_cell": "Table of Contents",
   "title_sidebar": "Contents",
   "toc_cell": false,
   "toc_position": {},
   "toc_section_display": true,
   "toc_window_display": false
  }
 },
 "nbformat": 4,
 "nbformat_minor": 2
}
