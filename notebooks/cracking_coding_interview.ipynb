{
 "cells": [
  {
   "cell_type": "markdown",
   "metadata": {},
   "source": [
    "## BigO"
   ]
  },
  {
   "cell_type": "markdown",
   "metadata": {},
   "source": [
    "### Amortized time\n",
    "We want to insert elements in an array which is full. What we do? One possible solution is to double the size of array to have new empty cells. But array is immutable. So we create entirely new array of size 2n. Copy first n, then insert new elements. So cost of O(1) if not at the edge and O(N) when at the edge as we now need to double it"
   ]
  },
  {
   "cell_type": "markdown",
   "metadata": {},
   "source": [
    "### Finding if a number is prime or not\n",
    "If a number X is divisible by any number a greated than sqrt of X, then it must also be divisible by another number b < sqrt X. As a.b is making X (a>sqrt(X), so b<sqrt(X).  \n",
    "\n",
    "Therefore bigO for this algorithm will be `O(sqrt(n))`, not O(n)"
   ]
  },
  {
   "cell_type": "markdown",
   "metadata": {},
   "source": [
    "### Find all permutations of a string"
   ]
  },
  {
   "cell_type": "code",
   "execution_count": 2,
   "metadata": {},
   "outputs": [],
   "source": [
    "def permutations(string, prefix):\n",
    "    if len(string) == 0:\n",
    "        print(prefix)\n",
    "    else: \n",
    "        for i in range(len(string)):\n",
    "            rem = string[:i] + string[i+1:]\n",
    "            permutations(rem, prefix+string[i])"
   ]
  },
  {
   "cell_type": "code",
   "execution_count": 5,
   "metadata": {},
   "outputs": [
    {
     "name": "stdout",
     "output_type": "stream",
     "text": [
      "xxabcd\n",
      "xxabdc\n",
      "xxacbd\n",
      "xxacdb\n",
      "xxadbc\n",
      "xxadcb\n",
      "xxbacd\n",
      "xxbadc\n",
      "xxbcad\n",
      "xxbcda\n",
      "xxbdac\n",
      "xxbdca\n",
      "xxcabd\n",
      "xxcadb\n",
      "xxcbad\n",
      "xxcbda\n",
      "xxcdab\n",
      "xxcdba\n",
      "xxdabc\n",
      "xxdacb\n",
      "xxdbac\n",
      "xxdbca\n",
      "xxdcab\n",
      "xxdcba\n"
     ]
    }
   ],
   "source": [
    "permutations('abcd','xx')"
   ]
  },
  {
   "cell_type": "markdown",
   "metadata": {},
   "source": [
    "Time complexity: `n!(for base case, all leaves of call tree). n(before base case, n path nodes for each leaf).n(printing n len string and concatenating for each node)`\n",
    "O(n!.n^2)"
   ]
  },
  {
   "cell_type": "markdown",
   "metadata": {},
   "source": [
    "### prints all Fibonacci numbers from 0 to n."
   ]
  },
  {
   "cell_type": "code",
   "execution_count": 6,
   "metadata": {},
   "outputs": [],
   "source": [
    "def fib(n):\n",
    "    if n<=0: return 0\n",
    "    elif n==1: return 1\n",
    "    else: return fib(n-1) + fib(n-2)"
   ]
  },
  {
   "cell_type": "code",
   "execution_count": 7,
   "metadata": {},
   "outputs": [],
   "source": [
    "def print_fibno(n):\n",
    "    for i in range(n):\n",
    "        print(fib(i))"
   ]
  },
  {
   "cell_type": "code",
   "execution_count": 9,
   "metadata": {},
   "outputs": [
    {
     "name": "stdout",
     "output_type": "stream",
     "text": [
      "0\n",
      "1\n",
      "1\n",
      "2\n",
      "3\n"
     ]
    }
   ],
   "source": [
    "print_fibno(5)"
   ]
  },
  {
   "cell_type": "markdown",
   "metadata": {},
   "source": [
    "Time complexity: n.2^n -- WRONG  \n",
    "ACTUAL-> 2+2^2+2^3 .. 2^n -> 2^(n+1) -- exponential"
   ]
  },
  {
   "cell_type": "markdown",
   "metadata": {},
   "source": [
    "But in above algorithm, we can cache previously stored fibonachis as we are redundantly recalculating a lot of fibs"
   ]
  },
  {
   "cell_type": "code",
   "execution_count": 11,
   "metadata": {},
   "outputs": [],
   "source": [
    "# can save previous results in a memo (cache)\n",
    "# initialize memo with 0 values for n elements in list\n",
    "\n",
    "def fib_memo(n,memo):\n",
    "    if n<=0: return 0\n",
    "    elif n==1: return 1\n",
    "    elif memo[n]>0: return memo[n]  # if that element is already calculated jsut return from cache\n",
    "    else: \n",
    "        memo[n] = fib_memo(n-1,memo) + fib_memo(n-2,memo)\n",
    "        return memo[n]"
   ]
  },
  {
   "cell_type": "code",
   "execution_count": 16,
   "metadata": {},
   "outputs": [
    {
     "name": "stdout",
     "output_type": "stream",
     "text": [
      "0\n",
      "1\n",
      "1\n",
      "2\n",
      "3\n"
     ]
    }
   ],
   "source": [
    "n=5\n",
    "memo = [0 for i in range(n)]\n",
    "for i in range(n):\n",
    "    print(fib_memo(i,memo))"
   ]
  },
  {
   "cell_type": "markdown",
   "metadata": {},
   "source": [
    "Now time is O(n) as just looking up previous results"
   ]
  },
  {
   "cell_type": "markdown",
   "metadata": {},
   "source": [
    "### smaller string 5 and a bigger string b\n",
    "Example: Given a smaller string 5 and a bigger string b, design an algorithm to find all permuta- tions of the shorter string within the longer one. Print the location of each permutation."
   ]
  },
  {
   "cell_type": "code",
   "execution_count": 39,
   "metadata": {},
   "outputs": [],
   "source": [
    "s='abbc'\n",
    "b='cbabadcbbabbcbabaabccbabc'"
   ]
  },
  {
   "cell_type": "markdown",
   "metadata": {},
   "source": [
    "brute force is `O(s!.b)` i.e. checking all permutations of s in b. optimal is `O(b)`"
   ]
  },
  {
   "cell_type": "code",
   "execution_count": 40,
   "metadata": {},
   "outputs": [],
   "source": [
    "from collections import defaultdict"
   ]
  },
  {
   "cell_type": "code",
   "execution_count": 49,
   "metadata": {},
   "outputs": [],
   "source": [
    "def find_valid_perms(s,b): \n",
    "    valid_perms = []\n",
    "    cnt_dic = defaultdict(lambda: 0)\n",
    "    for i in s:\n",
    "        cnt_dic[i]+=1\n",
    "    \n",
    "    for i in range(len(b)-len(s)+1):\n",
    "        inter_str = b[i:i+len(s)]\n",
    "        inter_dic = defaultdict(lambda: 0)\n",
    "        for j in inter_str:\n",
    "            inter_dic[j] += 1\n",
    "        if inter_dic==cnt_dic:\n",
    "            valid_perms.append(inter_str)\n",
    "    return valid_perms"
   ]
  },
  {
   "cell_type": "code",
   "execution_count": 50,
   "metadata": {},
   "outputs": [
    {
     "data": {
      "text/plain": [
       "['cbab', 'cbba', 'abbc', 'bcba', 'cbab', 'cbab', 'babc']"
      ]
     },
     "execution_count": 50,
     "metadata": {},
     "output_type": "execute_result"
    }
   ],
   "source": [
    "find_valid_perms(s,b)"
   ]
  },
  {
   "cell_type": "markdown",
   "metadata": {},
   "source": [
    "## Strings and arrays"
   ]
  },
  {
   "cell_type": "markdown",
   "metadata": {},
   "source": [
    "### Is Unique:\n",
    "Implement an algorithm to determine if a string has all unique characters. What if you cannot use additional data structures? "
   ]
  },
  {
   "cell_type": "markdown",
   "metadata": {},
   "source": [
    "Can be solved in O(n2) by brute force. but the optimized version can be made using `hash table`"
   ]
  },
  {
   "cell_type": "code",
   "execution_count": 51,
   "metadata": {},
   "outputs": [],
   "source": [
    "s = 'acslfjwmdla'"
   ]
  },
  {
   "cell_type": "code",
   "execution_count": 52,
   "metadata": {},
   "outputs": [],
   "source": [
    "cnt_dic = defaultdict(lambda:0)"
   ]
  },
  {
   "cell_type": "code",
   "execution_count": 65,
   "metadata": {},
   "outputs": [],
   "source": [
    "def check_non_unique(s):\n",
    "    cnt_dic = defaultdict(lambda:0)\n",
    "    for w in s:\n",
    "        cnt_dic[w]+=1\n",
    "        if cnt_dic[w]>1:\n",
    "            return False\n",
    "    return True"
   ]
  },
  {
   "cell_type": "code",
   "execution_count": 75,
   "metadata": {},
   "outputs": [],
   "source": [
    "st_list = [('23ds2'), ('hb 627jh=j ()'),('abcd'), ('s4fad'), ('')]"
   ]
  },
  {
   "cell_type": "code",
   "execution_count": 76,
   "metadata": {},
   "outputs": [
    {
     "name": "stdout",
     "output_type": "stream",
     "text": [
      "False\n",
      "False\n",
      "True\n",
      "True\n",
      "True\n"
     ]
    }
   ],
   "source": [
    "for el in st_list:\n",
    "    print(check_non_unique(el))"
   ]
  },
  {
   "cell_type": "markdown",
   "metadata": {},
   "source": [
    "### Check permutation\n",
    "Given two strings, write a method to decide if one is a permutation of the\n",
    "other."
   ]
  },
  {
   "cell_type": "markdown",
   "metadata": {},
   "source": [
    "both strings basically should have same number of each character. "
   ]
  },
  {
   "cell_type": "markdown",
   "metadata": {},
   "source": [
    "O(s1+s2)"
   ]
  },
  {
   "cell_type": "code",
   "execution_count": 98,
   "metadata": {},
   "outputs": [],
   "source": [
    "s1 = 'aabcd'\n",
    "s2 = 'dabca'"
   ]
  },
  {
   "cell_type": "code",
   "execution_count": 99,
   "metadata": {},
   "outputs": [],
   "source": [
    "def make_cnt_dict(s):\n",
    "    cnt_dict = defaultdict(lambda:0)\n",
    "    for w in s:\n",
    "        cnt_dict[w]+=1\n",
    "    return cnt_dict"
   ]
  },
  {
   "cell_type": "code",
   "execution_count": 100,
   "metadata": {},
   "outputs": [],
   "source": [
    "d1=make_cnt_dict(s1)\n",
    "d2=make_cnt_dict(s2)"
   ]
  },
  {
   "cell_type": "code",
   "execution_count": 101,
   "metadata": {},
   "outputs": [
    {
     "data": {
      "text/plain": [
       "defaultdict(<function __main__.make_cnt_dict.<locals>.<lambda>()>,\n",
       "            {'a': 2, 'b': 1, 'c': 1, 'd': 1})"
      ]
     },
     "execution_count": 101,
     "metadata": {},
     "output_type": "execute_result"
    }
   ],
   "source": [
    "d1"
   ]
  },
  {
   "cell_type": "code",
   "execution_count": 102,
   "metadata": {},
   "outputs": [
    {
     "data": {
      "text/plain": [
       "defaultdict(<function __main__.make_cnt_dict.<locals>.<lambda>()>,\n",
       "            {'d': 1, 'a': 2, 'b': 1, 'c': 1})"
      ]
     },
     "execution_count": 102,
     "metadata": {},
     "output_type": "execute_result"
    }
   ],
   "source": [
    "d2"
   ]
  },
  {
   "cell_type": "code",
   "execution_count": 103,
   "metadata": {},
   "outputs": [
    {
     "data": {
      "text/plain": [
       "True"
      ]
     },
     "execution_count": 103,
     "metadata": {},
     "output_type": "execute_result"
    }
   ],
   "source": [
    "d1==d2"
   ]
  },
  {
   "cell_type": "markdown",
   "metadata": {},
   "source": [
    "Other tips\n",
    "* Simplest would be to say false if lengths do not match. So can add that condition alos"
   ]
  },
  {
   "cell_type": "markdown",
   "metadata": {},
   "source": [
    "### URLify: \n",
    "Write a method to replace all spaces in a string with '%20: You may assume that the string has sufficient space at the end to hold the additional characters, and that you are given the \"true\" length of the string. "
   ]
  },
  {
   "cell_type": "markdown",
   "metadata": {},
   "source": [
    "O(n)"
   ]
  },
  {
   "cell_type": "code",
   "execution_count": 121,
   "metadata": {},
   "outputs": [],
   "source": [
    "st = \" sdasaq  zas \""
   ]
  },
  {
   "cell_type": "code",
   "execution_count": 122,
   "metadata": {},
   "outputs": [
    {
     "data": {
      "text/plain": [
       "'%20sdasaq%20%20zas%20'"
      ]
     },
     "execution_count": 122,
     "metadata": {},
     "output_type": "execute_result"
    }
   ],
   "source": [
    "st_new = []\n",
    "for w in st:\n",
    "    if w == ' ':\n",
    "        st_new.append('%20')\n",
    "    else:\n",
    "        st_new.append(w)\n",
    "''.join(st_new)"
   ]
  },
  {
   "cell_type": "markdown",
   "metadata": {},
   "source": [
    "But above solution is not replacing string inplace. If need to replace string inplace"
   ]
  },
  {
   "cell_type": "markdown",
   "metadata": {},
   "source": [
    "### Palindrome Permutation:\n",
    "Given a string, write a function to check if it is a permutation of a palin- drome. A palindrome is a word or phrase that is the same forwards and backwards. \n",
    "A permutation is a rearrangement of letters.The palindrome does not need to be limited to just dictionary words."
   ]
  },
  {
   "cell_type": "markdown",
   "metadata": {},
   "source": [
    "### String Compression\n",
    "Implement a method to perform basic string compression using the counts of repeated characters. For example, the string aabcccccaaa would become a2b1c5a3. If the \"compressed\" string would not become smaller than the original string, your method should return the original string. You can assume the string has only uppercase and lowercase letters (a - z).\n"
   ]
  },
  {
   "cell_type": "code",
   "execution_count": 153,
   "metadata": {},
   "outputs": [],
   "source": [
    "st = 'aabcccccaaa'"
   ]
  },
  {
   "cell_type": "code",
   "execution_count": 157,
   "metadata": {},
   "outputs": [],
   "source": [
    "fill_list = []\n",
    "for w in range(len(st)):\n",
    "    if w==0:\n",
    "        fill_list.append(st[w])\n",
    "        ctr=1\n",
    "    elif st[w-1] == st[w]:\n",
    "        ctr+=1\n",
    "    elif st[w-1]!=st[w]:\n",
    "        fill_list.append(ctr)\n",
    "        fill_list.append(st[w])\n",
    "        ctr=1    \n",
    "fill_list.append(ctr)"
   ]
  },
  {
   "cell_type": "code",
   "execution_count": 158,
   "metadata": {},
   "outputs": [
    {
     "data": {
      "text/plain": [
       "['a', 2, 'b', 1, 'c', 5, 'a', 3]"
      ]
     },
     "execution_count": 158,
     "metadata": {},
     "output_type": "execute_result"
    }
   ],
   "source": [
    "fill_list"
   ]
  },
  {
   "cell_type": "markdown",
   "metadata": {},
   "source": [
    "### Zero Matrix: \n",
    "Write an algorithm such that if an element in an MxN matrix is 0, its entire row and\n",
    "column are set to O."
   ]
  },
  {
   "cell_type": "code",
   "execution_count": 162,
   "metadata": {},
   "outputs": [],
   "source": [
    "M = [\n",
    "            [1, 2, 3, 4, 0],\n",
    "            [6, 0, 8, 9, 10],\n",
    "            [11, 12, 13, 14, 15],\n",
    "            [16, 0, 18, 19, 20],\n",
    "            [21, 22, 23, 24, 25]\n",
    "        ]"
   ]
  },
  {
   "cell_type": "code",
   "execution_count": 164,
   "metadata": {},
   "outputs": [
    {
     "data": {
      "text/plain": [
       "5"
      ]
     },
     "execution_count": 164,
     "metadata": {},
     "output_type": "execute_result"
    }
   ],
   "source": [
    "len(M[0])"
   ]
  },
  {
   "cell_type": "code",
   "execution_count": 167,
   "metadata": {},
   "outputs": [],
   "source": [
    "x=[]\n",
    "y=[]\n",
    "\n",
    "# e.g i=0,j=4\n",
    "for i in range(len(M)):\n",
    "    for j in range(len(M[0])):\n",
    "        if M[i][j]==0:\n",
    "            x.append(i)\n",
    "            y.append(j)\n",
    "\n",
    "for xi in x:\n",
    "    for i in range(len(M[0])):\n",
    "        M[xi][i] = 0\n",
    "\n",
    "for yi in y:\n",
    "    for i in range(len(M)):\n",
    "        M[i][yi] = 0"
   ]
  },
  {
   "cell_type": "code",
   "execution_count": 168,
   "metadata": {},
   "outputs": [
    {
     "data": {
      "text/plain": [
       "[[0, 0, 0, 0, 0],\n",
       " [0, 0, 0, 0, 0],\n",
       " [11, 0, 13, 14, 0],\n",
       " [0, 0, 0, 0, 0],\n",
       " [21, 0, 23, 24, 0]]"
      ]
     },
     "execution_count": 168,
     "metadata": {},
     "output_type": "execute_result"
    }
   ],
   "source": [
    "M"
   ]
  },
  {
   "cell_type": "code",
   "execution_count": 169,
   "metadata": {},
   "outputs": [
    {
     "data": {
      "text/plain": [
       "'aabcccccaaa'"
      ]
     },
     "execution_count": 169,
     "metadata": {},
     "output_type": "execute_result"
    }
   ],
   "source": [
    "st"
   ]
  },
  {
   "cell_type": "code",
   "execution_count": 170,
   "metadata": {},
   "outputs": [
    {
     "data": {
      "text/plain": [
       "3"
      ]
     },
     "execution_count": 170,
     "metadata": {},
     "output_type": "execute_result"
    }
   ],
   "source": [
    "st.find('ccc')"
   ]
  },
  {
   "cell_type": "markdown",
   "metadata": {},
   "source": [
    "## Stacks/ Queues"
   ]
  },
  {
   "cell_type": "markdown",
   "metadata": {},
   "source": [
    "### Stack Min: \n",
    "How would you design a stack which, in addition to push and pop, has a function min which returns the minimum element? Push, pop and min should all operate in 0(1) time."
   ]
  },
  {
   "cell_type": "code",
   "execution_count": null,
   "metadata": {},
   "outputs": [],
   "source": [
    "class Stack:\n",
    "    def __init__(self, ):\n",
    "        self."
   ]
  },
  {
   "cell_type": "code",
   "execution_count": null,
   "metadata": {},
   "outputs": [],
   "source": []
  },
  {
   "cell_type": "markdown",
   "metadata": {},
   "source": [
    "## Graphs and Trees"
   ]
  },
  {
   "cell_type": "markdown",
   "metadata": {},
   "source": [
    "### Route Between Nodes:\n",
    "Given a directed graph, design an algorithm to find out whether there is a route between two nodes."
   ]
  },
  {
   "cell_type": "code",
   "execution_count": null,
   "metadata": {},
   "outputs": [],
   "source": [
    "graph = {1: [2,3,4].\n",
    "        2: []} "
   ]
  },
  {
   "cell_type": "markdown",
   "metadata": {},
   "source": [
    "- keep on checking neighbours using dfs/bfs.\n",
    "- stop when found\n",
    "- else retur False\n"
   ]
  },
  {
   "cell_type": "code",
   "execution_count": 172,
   "metadata": {},
   "outputs": [],
   "source": [
    "import queue"
   ]
  },
  {
   "cell_type": "code",
   "execution_count": 177,
   "metadata": {},
   "outputs": [],
   "source": [
    "q=queue.Queue(2)"
   ]
  },
  {
   "cell_type": "code",
   "execution_count": 178,
   "metadata": {},
   "outputs": [
    {
     "data": {
      "text/plain": [
       "True"
      ]
     },
     "execution_count": 178,
     "metadata": {},
     "output_type": "execute_result"
    }
   ],
   "source": [
    "q.empty()"
   ]
  },
  {
   "cell_type": "code",
   "execution_count": 194,
   "metadata": {},
   "outputs": [],
   "source": [
    "class Graph:\n",
    "    def __init__(self,V):\n",
    "        self.V=V\n",
    "        self.graph = defaultdict(list)\n",
    "    \n",
    "    def add_edge(self,u,v):\n",
    "        self.graph[u].append(v)\n",
    "        \n",
    "    def print_graph(self):\n",
    "        print(self.graph)\n",
    "        \n",
    "    def bfs(self,start,end):\n",
    "        visited = [False for _ in range(self.V)]\n",
    "        que = queue.Queue(maxsize=self.V)\n",
    "        visited[start-1]=True\n",
    "        que.put(start)\n",
    "        \n",
    "        while not que.empty():\n",
    "            r = que.get()\n",
    "            for ri in self.graph[r]:\n",
    "                if visited[ri-1] == False:\n",
    "                    if ri == end:\n",
    "                        return True\n",
    "                    else:\n",
    "                        visited[ri-1]=True\n",
    "                        que.put(ri)\n",
    "        return False"
   ]
  },
  {
   "cell_type": "code",
   "execution_count": 195,
   "metadata": {},
   "outputs": [],
   "source": [
    "g = Graph(6)"
   ]
  },
  {
   "cell_type": "code",
   "execution_count": 196,
   "metadata": {},
   "outputs": [],
   "source": [
    "g.add_edge(1,2)\n",
    "g.add_edge(1,3)\n",
    "g.add_edge(1,4)\n",
    "g.add_edge(2,5)\n",
    "g.add_edge(5,6)"
   ]
  },
  {
   "cell_type": "code",
   "execution_count": 197,
   "metadata": {},
   "outputs": [
    {
     "name": "stdout",
     "output_type": "stream",
     "text": [
      "defaultdict(<class 'list'>, {1: [2, 3, 4], 2: [5], 5: [6]})\n"
     ]
    }
   ],
   "source": [
    "g.print_graph()"
   ]
  },
  {
   "cell_type": "code",
   "execution_count": 198,
   "metadata": {
    "scrolled": true
   },
   "outputs": [
    {
     "data": {
      "text/plain": [
       "True"
      ]
     },
     "execution_count": 198,
     "metadata": {},
     "output_type": "execute_result"
    }
   ],
   "source": [
    "g.bfs(1,6)"
   ]
  },
  {
   "cell_type": "code",
   "execution_count": 199,
   "metadata": {},
   "outputs": [
    {
     "data": {
      "text/plain": [
       "False"
      ]
     },
     "execution_count": 199,
     "metadata": {},
     "output_type": "execute_result"
    }
   ],
   "source": [
    "g.bfs(4,6)"
   ]
  },
  {
   "cell_type": "markdown",
   "metadata": {},
   "source": [
    "### Minimal Tree: \n",
    "Given a sorted (increasing order) array with unique integer elements, write an algorithm to create a binary search tree with minimal height."
   ]
  },
  {
   "cell_type": "markdown",
   "metadata": {},
   "source": [
    "minimim time would be `int(log(n)`. "
   ]
  },
  {
   "cell_type": "code",
   "execution_count": 277,
   "metadata": {},
   "outputs": [],
   "source": [
    "class Node:\n",
    "    def __init__(self,val):\n",
    "        self.val=val\n",
    "        self.left=None\n",
    "        self.right=None\n",
    "        \n",
    "    def __str__(self):\n",
    "        return str(self.left)+':L ' + \"V:\" + str(self.val) + \" R:\" + str(self.right)+'\\n'\n",
    "        \n",
    "def tree_from_sorted_array(array,start,end):\n",
    "    if start>end:\n",
    "        return ''\n",
    "    mid = (start+end)//2\n",
    "    root = Node(array[mid])\n",
    "    root.left = tree_from_sorted_array(array, start,mid-1)\n",
    "    root.right = tree_from_sorted_array(array, mid+1,end)\n",
    "    return root"
   ]
  },
  {
   "cell_type": "code",
   "execution_count": 281,
   "metadata": {},
   "outputs": [],
   "source": [
    "array = [1,5,9,13,15,25,27,31,34]"
   ]
  },
  {
   "cell_type": "code",
   "execution_count": 282,
   "metadata": {},
   "outputs": [],
   "source": [
    "min_tree = tree_from_sorted_array(array,0,len(array)-1)"
   ]
  },
  {
   "cell_type": "code",
   "execution_count": 283,
   "metadata": {},
   "outputs": [
    {
     "name": "stdout",
     "output_type": "stream",
     "text": [
      ":L V:1 R:\n",
      ":L V:5 R::L V:9 R::L V:13 R:\n",
      "\n",
      "\n",
      ":L V:15 R::L V:25 R:\n",
      ":L V:27 R::L V:31 R::L V:34 R:\n",
      "\n",
      "\n",
      "\n",
      "\n"
     ]
    }
   ],
   "source": [
    "print(min_tree)"
   ]
  },
  {
   "cell_type": "markdown",
   "metadata": {},
   "source": [
    "### List of Depths: \n",
    "Given a binary tree, design an algorithm which creates a linked list of all the nodes at each depth (e.g., if you have a tree with depth 0, you'll have 0 linked lists).\n"
   ]
  },
  {
   "cell_type": "code",
   "execution_count": 372,
   "metadata": {},
   "outputs": [],
   "source": [
    "from collections import deque\n",
    "from math import log2"
   ]
  },
  {
   "cell_type": "code",
   "execution_count": 395,
   "metadata": {},
   "outputs": [],
   "source": [
    "# don't need visited flag in binary tree\n",
    "# \n",
    "def bfs_tree(tree_node):\n",
    "    que = []\n",
    "    root = tree_node\n",
    "    print(root.val)\n",
    "    level=0\n",
    "    que.append(root)\n",
    "\n",
    "    while len(que)>0:\n",
    "        print('qsize',len(que))\n",
    "        if log2(len(que)).is_integer():\n",
    "            print('level:',int(log2(len(que))))\n",
    "        r = que.pop(0)\n",
    "        level+=1\n",
    "        for ri in [r.left, r.right]:\n",
    "            if ri != None:\n",
    "                print(ri.val)\n",
    "                que.append(ri)   "
   ]
  },
  {
   "cell_type": "code",
   "execution_count": 396,
   "metadata": {},
   "outputs": [],
   "source": [
    "tree_node = Node(1)\n",
    "tree_node.left = Node(2)\n",
    "tree_node.right = Node(3)\n",
    "tree_node.left.left = Node(4)\n",
    "tree_node.left.right = Node(5)\n",
    "tree_node.right.left = Node(6)\n",
    "tree_node.right.right = Node(7)"
   ]
  },
  {
   "cell_type": "code",
   "execution_count": 397,
   "metadata": {},
   "outputs": [
    {
     "name": "stdout",
     "output_type": "stream",
     "text": [
      "1\n",
      "qsize 1\n",
      "level: 0\n",
      "2\n",
      "3\n",
      "qsize 2\n",
      "level: 1\n",
      "4\n",
      "5\n",
      "qsize 3\n",
      "6\n",
      "7\n",
      "qsize 4\n",
      "level: 2\n",
      "qsize 3\n",
      "qsize 2\n",
      "level: 1\n",
      "qsize 1\n",
      "level: 0\n"
     ]
    }
   ],
   "source": [
    "bfs_tree(tree_node)"
   ]
  },
  {
   "cell_type": "markdown",
   "metadata": {},
   "source": [
    "### Paths with Sum: \n",
    "You are given a binary tree in which each node contains an integer value (which might be positive or negative). Design an algorithm to count the number of paths that sum to a given value. The path does not need to start or end at the root or a leaf, but it must go downwards (traveling only from parent nodes to child nodes)."
   ]
  },
  {
   "cell_type": "markdown",
   "metadata": {},
   "source": [
    "Idea is to do `preorder` tree traversal and keep track of a `path` vector and check if it's sum become k or not. Print when sum becomes k "
   ]
  },
  {
   "cell_type": "code",
   "execution_count": 431,
   "metadata": {},
   "outputs": [],
   "source": [
    "class Node:\n",
    "    def __init__(self,val):\n",
    "        self.val=val\n",
    "        self.left=None\n",
    "        self.right=None\n",
    "    \n",
    "    def path_sum_utils(self,path,root,k):\n",
    "        # root none condition\n",
    "        if root==None:\n",
    "            return\n",
    "        \n",
    "        # add root to path\n",
    "        path.append(root.val)\n",
    "        \n",
    "        # check this funciton on left nodes\n",
    "        self.path_sum_utils(path,root.left,k)\n",
    "        \n",
    "        # check this funciton on right nodes\n",
    "        self.path_sum_utils(path,root.right,k)\n",
    "        \n",
    "        # check sum of path and print if it's k\n",
    "        # it can terminate anywhere. so keep check in loop\n",
    "        s = 0\n",
    "        for i in range(len(path)-1,-1,-1):\n",
    "            s+=path[i]\n",
    "            if s==k:\n",
    "                print(path[i:])\n",
    "                \n",
    "        # remove last element from path\n",
    "        path.pop()\n",
    "                     \n",
    "    def path_sum(self,root,k):\n",
    "        path=[]\n",
    "        self.path_sum_utils(path,root,k)"
   ]
  },
  {
   "cell_type": "code",
   "execution_count": 432,
   "metadata": {},
   "outputs": [
    {
     "data": {
      "text/plain": [
       "[10, 9, 8, 7, 6, 5, 4, 3, 2, 1]"
      ]
     },
     "execution_count": 432,
     "metadata": {},
     "output_type": "execute_result"
    }
   ],
   "source": [
    "list(range(10,0,-1))"
   ]
  },
  {
   "cell_type": "code",
   "execution_count": 433,
   "metadata": {},
   "outputs": [],
   "source": [
    "n=Node(1)\n",
    "n.left=Node(3)\n",
    "n.left.left=Node(2)\n",
    "n.left.right=Node(1)\n",
    "n.left.right.left=Node(1)\n",
    "n.right=Node(-1)\n",
    "n.right.left=Node(4)\n",
    "n.right.right=Node(5)\n",
    "n.right.left.left=Node(1)\n",
    "n.right.left.right=Node(2)\n",
    "n.right.right.right=Node(6)"
   ]
  },
  {
   "cell_type": "code",
   "execution_count": 434,
   "metadata": {},
   "outputs": [
    {
     "name": "stdout",
     "output_type": "stream",
     "text": [
      "[3, 2]\n",
      "[3, 1, 1]\n",
      "[1, 3, 1]\n",
      "[4, 1]\n",
      "[1, -1, 4, 1]\n",
      "[-1, 4, 2]\n",
      "[5]\n",
      "[1, -1, 5]\n"
     ]
    }
   ],
   "source": [
    "n.path_sum(n,5)"
   ]
  },
  {
   "cell_type": "markdown",
   "metadata": {},
   "source": [
    "### Build Order: \n",
    "You are given a list of projects and a list of dependencies (which is a list of pairs of projects, where the second project is dependent on the first project). All of a project's dependencies must be built before the project is. Find a build order that will allow the projects to be built. If there is no valid build order, return an error."
   ]
  },
  {
   "cell_type": "markdown",
   "metadata": {},
   "source": [
    "Input:  \n",
    "projects: a, b, c, d, e, f   \n",
    "dependencies: (a, d), (f, b), (b, d), (f, a), (d, c)   \n",
    "Output: f, e, a, b, d, c  "
   ]
  },
  {
   "cell_type": "markdown",
   "metadata": {},
   "source": [
    "Iterate through list, start from each node in list and try to do BFS, If a BFS is found that covers all the paths, return that path, otherwise, return error. If a node is not connected to any other node, just put it in beginning. \n",
    "Complexity: O(n.n) (n for iterating through each element and other n for each BFS)"
   ]
  },
  {
   "cell_type": "code",
   "execution_count": 1,
   "metadata": {},
   "outputs": [],
   "source": [
    "from collections import defaultdict"
   ]
  },
  {
   "cell_type": "code",
   "execution_count": 58,
   "metadata": {},
   "outputs": [],
   "source": [
    "class Graph:\n",
    "    def __init__(self,vert_list):\n",
    "        self.vert_list = vert_list\n",
    "        self.graph = defaultdict(list)\n",
    "    \n",
    "    def add_edge(self,u,v):\n",
    "        self.graph[u].append(v)\n",
    "    \n",
    "    def bfs_utils(self,start):\n",
    "        que=[]\n",
    "        path=[]\n",
    "        visited = {el:False for el in self.vert_list}\n",
    "        que.append(start)\n",
    "        visited[start] = True\n",
    "        \n",
    "        while que:\n",
    "            first = que.pop(0)\n",
    "            for child in self.graph[first]:\n",
    "                if visited[child] == False:\n",
    "                    que.append(child)\n",
    "                    visited[child] = True\n",
    "                    path.append(child)\n",
    "        return path\n",
    "    \n",
    "    def get_bfs_path(self):\n",
    "        final_path = []\n",
    "        \n",
    "        dependent_list = []\n",
    "        for sublist in g.graph.values():\n",
    "            for item in sublist:\n",
    "                if item not in dependent_list:\n",
    "                    dependent_list.append(item)\n",
    "        \n",
    "        for n in self.vert_list:\n",
    "            if n not in dependent_list:\n",
    "                final_path.append(n)\n",
    "        \n",
    "        for n in self.vert_list:\n",
    "            check_path = self.bfs_utils(n)\n",
    "            if sorted(check_path) == sorted(dependent_list):\n",
    "                final_path = final_path + check_path\n",
    "        return final_path"
   ]
  },
  {
   "cell_type": "code",
   "execution_count": 59,
   "metadata": {},
   "outputs": [],
   "source": [
    "g = Graph(['a','b','c','d','e','f'])"
   ]
  },
  {
   "cell_type": "code",
   "execution_count": 60,
   "metadata": {},
   "outputs": [],
   "source": [
    "g.add_edge('a','d')\n",
    "g.add_edge('f','a')\n",
    "g.add_edge('f','b')\n",
    "g.add_edge('b','d')\n",
    "g.add_edge('d','c')"
   ]
  },
  {
   "cell_type": "code",
   "execution_count": 61,
   "metadata": {},
   "outputs": [
    {
     "data": {
      "text/plain": [
       "['a', 'b', 'd', 'c']"
      ]
     },
     "execution_count": 61,
     "metadata": {},
     "output_type": "execute_result"
    }
   ],
   "source": [
    "g.bfs_utils('f')"
   ]
  },
  {
   "cell_type": "code",
   "execution_count": 62,
   "metadata": {},
   "outputs": [
    {
     "data": {
      "text/plain": [
       "['e', 'f', 'a', 'b', 'd', 'c']"
      ]
     },
     "execution_count": 62,
     "metadata": {},
     "output_type": "execute_result"
    }
   ],
   "source": [
    "g.get_bfs_path()"
   ]
  },
  {
   "cell_type": "code",
   "execution_count": null,
   "metadata": {},
   "outputs": [],
   "source": []
  },
  {
   "cell_type": "code",
   "execution_count": null,
   "metadata": {},
   "outputs": [],
   "source": []
  },
  {
   "cell_type": "code",
   "execution_count": null,
   "metadata": {},
   "outputs": [],
   "source": []
  },
  {
   "cell_type": "code",
   "execution_count": null,
   "metadata": {},
   "outputs": [],
   "source": []
  }
 ],
 "metadata": {
  "kernelspec": {
   "display_name": "Python 3",
   "language": "python",
   "name": "python3"
  },
  "language_info": {
   "codemirror_mode": {
    "name": "ipython",
    "version": 3
   },
   "file_extension": ".py",
   "mimetype": "text/x-python",
   "name": "python",
   "nbconvert_exporter": "python",
   "pygments_lexer": "ipython3",
   "version": "3.7.0"
  },
  "toc": {
   "base_numbering": 1,
   "nav_menu": {},
   "number_sections": true,
   "sideBar": true,
   "skip_h1_title": false,
   "title_cell": "Table of Contents",
   "title_sidebar": "Contents",
   "toc_cell": false,
   "toc_position": {},
   "toc_section_display": true,
   "toc_window_display": false
  }
 },
 "nbformat": 4,
 "nbformat_minor": 2
}
