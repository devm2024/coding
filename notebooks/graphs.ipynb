{
 "cells": [
  {
   "cell_type": "markdown",
   "metadata": {},
   "source": [
    "### Topological sort"
   ]
  },
  {
   "cell_type": "markdown",
   "metadata": {},
   "source": [
    "<img src=\"../images/topo_sort.png\"  width=\"600\">"
   ]
  },
  {
   "cell_type": "markdown",
   "metadata": {},
   "source": [
    "<img src=\"../images/topo_sort2.png\"  width=\"600\">"
   ]
  },
  {
   "cell_type": "markdown",
   "metadata": {},
   "source": [
    "Think of **dependency**"
   ]
  },
  {
   "cell_type": "code",
   "execution_count": 22,
   "metadata": {},
   "outputs": [],
   "source": [
    "from collections import defaultdict \n",
    "\n",
    "class Graph:\n",
    "    def __init__(self, vertices):\n",
    "        self.V = vertices  # number of vertices\n",
    "        self.graph  = defaultdict(list)  # dictionary contaiing adjacency list\n",
    "    \n",
    "    def add_edge(self, u,v):\n",
    "        self.graph[u].append(v)\n",
    "\n",
    "    # A recursive function used by topologicalSort \n",
    "    def topologicalSortUtil(self,v,visited,stack): \n",
    "  \n",
    "        # Mark the current node as visited. \n",
    "        visited[v] = True\n",
    "  \n",
    "        # Recur for all the vertices adjacent to this vertex \n",
    "        for i in self.graph[v]: \n",
    "            if visited[i] == False: \n",
    "                self.topologicalSortUtil(i,visited,stack) \n",
    "  \n",
    "        # Push current vertex to stack which stores result \n",
    "        stack.insert(0,v) \n",
    "  \n",
    "    # The function to do Topological Sort. It uses recursive  \n",
    "    # topologicalSortUtil() \n",
    "    def topologicalSort(self): \n",
    "        # Mark all the vertices as not visited \n",
    "        visited = [False]*self.V \n",
    "        stack = [] \n",
    "  \n",
    "        # Call the recursive helper function to store Topological \n",
    "        # Sort starting from all vertices one by one \n",
    "        for i in range(self.V): \n",
    "            if visited[i] == False: \n",
    "                self.topologicalSortUtil(i,visited,stack) \n",
    "  \n",
    "        # Print contents of the stack \n",
    "        print(stack)"
   ]
  },
  {
   "cell_type": "code",
   "execution_count": 28,
   "metadata": {},
   "outputs": [],
   "source": [
    "g= Graph(6) \n",
    "g.add_edge(5, 2); \n",
    "g.add_edge(5, 0); \n",
    "g.add_edge(4, 0); \n",
    "g.add_edge(4, 1); \n",
    "g.add_edge(2, 3); \n",
    "g.add_edge(3, 1); "
   ]
  },
  {
   "cell_type": "code",
   "execution_count": 30,
   "metadata": {},
   "outputs": [
    {
     "name": "stdout",
     "output_type": "stream",
     "text": [
      "[5, 4, 2, 3, 1, 0]\n"
     ]
    }
   ],
   "source": [
    "g.topologicalSort()"
   ]
  },
  {
   "cell_type": "markdown",
   "metadata": {},
   "source": [
    "Time Complexity: The above algorithm is simply DFS with an extra stack. So time complexity is same as DFS which is O(V+E)."
   ]
  },
  {
   "cell_type": "markdown",
   "metadata": {},
   "source": [
    "### Dijkstra algorithm for finding shortest path\n",
    "Shortest path from source to all the vertices"
   ]
  },
  {
   "cell_type": "markdown",
   "metadata": {},
   "source": [
    "<img src=\"../images/dijkstra.png\"  width=\"600\">"
   ]
  },
  {
   "cell_type": "markdown",
   "metadata": {},
   "source": [
    "Given a graph and a source vertex in the graph, find shortest paths from source to all vertices in the given graph.\n",
    "Dijkstra’s algorithm is very similar to Prim’s algorithm for minimum spanning tree. Like Prim’s MST, we generate a SPT (shortest path tree) with given source as root. We maintain two sets, one set contains vertices included in shortest path tree, other set includes vertices not yet included in shortest path tree. At every step of the algorithm, we find a vertex which is in the other set (set of not yet included) and has a minimum distance from the source.\n",
    "\n",
    "Below are the detailed steps used in Dijkstra’s algorithm to find the shortest path from a single source vertex to all other vertices in the given graph.\n",
    "Algorithm\n",
    "```1) Create a set sptSet (shortest path tree set) that keeps track of vertices included in shortest path tree, i.e., whose minimum distance from source is calculated and finalized. Initially, this set is empty.\n",
    "2) Assign a distance value to all vertices in the input graph. Initialize all distance values as INFINITE. Assign distance value as 0 for the source vertex so that it is picked first.\n",
    "3) While sptSet doesn’t include all vertices\n",
    "….a) Pick a vertex u which is not there in sptSet and has minimum distance value.\n",
    "….b) Include u to sptSet.\n",
    "….c) Update distance value of all adjacent vertices of u. To update the distance values, iterate through all adjacent vertices. For every adjacent vertex v, if sum of distance value of u (from source) and weight of edge u-v, is less than the distance value of v, then update the distance value of v.```"
   ]
  },
  {
   "cell_type": "code",
   "execution_count": 8,
   "metadata": {},
   "outputs": [],
   "source": [
    "import sys\n",
    "import numpy as np"
   ]
  },
  {
   "cell_type": "code",
   "execution_count": 12,
   "metadata": {},
   "outputs": [],
   "source": [
    "class Graph:\n",
    "    \n",
    "    def __init__(self,vertices):\n",
    "        self.V = vertices\n",
    "        \n",
    "        # initiate edges with 0 weights\n",
    "        self.graph = [[0 for col in range(vertices)]\n",
    "                      for row in range(vertices)]\n",
    "        \n",
    "    def print_solution(self,dist):\n",
    "        print(\"Vertex \\tDistance from source\")\n",
    "        for node in range(self.V):\n",
    "            print(node, '\\t', dist[node])\n",
    "    \n",
    "    def min_distance(self, dist, spt_set):\n",
    "        \"\"\"\n",
    "        utility function to find vertex with minimum distance as compared\n",
    "        to all other vertices not yet included in shortest distance list\n",
    "        \n",
    "        \"\"\"\n",
    "        min_dist = np.infty\n",
    "        for v in range(self.V):\n",
    "            if dist[v] < min_dist and spt_set[v] == False:\n",
    "                min_dist = dist[v]\n",
    "                min_idx = v\n",
    "        return min_idx\n",
    "    \n",
    "    def dijsktra(self,src):\n",
    "        \"\"\"\n",
    "        src: source node\n",
    "        \"\"\"\n",
    "        dist = [np.infty for v in range(self.V)]\n",
    "        spt_set = [False for v in range(self.V)]\n",
    "        \n",
    "        dist[src] = 0 # distance from source is 0\n",
    "        \n",
    "        for v in range(self.V):\n",
    "            \n",
    "            # it will give src in first iteration\n",
    "            u = self.min_distance(dist, spt_set)  \n",
    "            spt_set[u] = True\n",
    "            \n",
    "            # we then check all adjacent vertices to u\n",
    "            # basically we are now updating the dist matrix\n",
    "            # for reachable adjacent nodes -> i.e self.graph[u][v] > 0\n",
    "            # if dist val is greater than what was dist val before -> dist[v] > dist[u] + self.graph[u][v]\n",
    "            # and if vertex is not yet included in spt_set = spt_set[v] = False\n",
    "            \n",
    "            for v in range(self.V):\n",
    "                if self.graph[u][v] and dist[v] > dist[u] + self.graph[u][v] and spt_set[v] == False:\n",
    "                    dist[v] = dist[u] + self.graph[u][v]\n",
    "            \n",
    "        self.print_solution(dist)"
   ]
  },
  {
   "cell_type": "code",
   "execution_count": 13,
   "metadata": {},
   "outputs": [
    {
     "name": "stdout",
     "output_type": "stream",
     "text": [
      "Vertex \tDistance from source\n",
      "0 \t 0\n",
      "1 \t 4\n",
      "2 \t 12\n",
      "3 \t 19\n",
      "4 \t 21\n",
      "5 \t 11\n",
      "6 \t 9\n",
      "7 \t 8\n",
      "8 \t 14\n"
     ]
    }
   ],
   "source": [
    "# Driver program \n",
    "g  = Graph(9) \n",
    "g.graph = [[0, 4, 0, 0, 0, 0, 0, 8, 0], \n",
    "           [4, 0, 8, 0, 0, 0, 0, 11, 0], \n",
    "           [0, 8, 0, 7, 0, 4, 0, 0, 2], \n",
    "           [0, 0, 7, 0, 9, 14, 0, 0, 0], \n",
    "           [0, 0, 0, 9, 0, 10, 0, 0, 0], \n",
    "           [0, 0, 4, 14, 10, 0, 2, 0, 0], \n",
    "           [0, 0, 0, 0, 0, 2, 0, 1, 6], \n",
    "           [8, 11, 0, 0, 0, 0, 1, 0, 7], \n",
    "           [0, 0, 2, 0, 0, 0, 6, 7, 0] \n",
    "          ]; \n",
    "  \n",
    "g.dijsktra(0); "
   ]
  },
  {
   "cell_type": "markdown",
   "metadata": {},
   "source": [
    "* time complexity: O(V^2)\n",
    "* it doesn't work with negative edge weights"
   ]
  },
  {
   "cell_type": "markdown",
   "metadata": {},
   "source": [
    "### Prim's algorithm for minimum spanning tree"
   ]
  },
  {
   "cell_type": "code",
   "execution_count": null,
   "metadata": {},
   "outputs": [],
   "source": []
  },
  {
   "cell_type": "code",
   "execution_count": null,
   "metadata": {},
   "outputs": [],
   "source": []
  },
  {
   "cell_type": "code",
   "execution_count": null,
   "metadata": {},
   "outputs": [],
   "source": []
  }
 ],
 "metadata": {
  "kernelspec": {
   "display_name": "Python 3",
   "language": "python",
   "name": "python3"
  },
  "language_info": {
   "codemirror_mode": {
    "name": "ipython",
    "version": 3
   },
   "file_extension": ".py",
   "mimetype": "text/x-python",
   "name": "python",
   "nbconvert_exporter": "python",
   "pygments_lexer": "ipython3",
   "version": "3.7.0"
  },
  "toc": {
   "base_numbering": 1,
   "nav_menu": {},
   "number_sections": true,
   "sideBar": true,
   "skip_h1_title": false,
   "title_cell": "Table of Contents",
   "title_sidebar": "Contents",
   "toc_cell": false,
   "toc_position": {},
   "toc_section_display": true,
   "toc_window_display": false
  }
 },
 "nbformat": 4,
 "nbformat_minor": 2
}
