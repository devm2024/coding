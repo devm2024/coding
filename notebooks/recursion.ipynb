{
 "cells": [
  {
   "cell_type": "markdown",
   "metadata": {},
   "source": [
    "# Recursion problems\n",
    "* need a base case (starting point)\n"
   ]
  },
  {
   "cell_type": "markdown",
   "metadata": {},
   "source": [
    "### Permutations without Dups: \n",
    "Write a method to compute all permutations of a string of unique characters."
   ]
  },
  {
   "cell_type": "code",
   "execution_count": 5,
   "metadata": {},
   "outputs": [],
   "source": [
    "st = 'abcd'"
   ]
  },
  {
   "cell_type": "code",
   "execution_count": 17,
   "metadata": {},
   "outputs": [],
   "source": [
    "def perm(st, prefix):\n",
    "    if len(st)==0:\n",
    "        print(prefix)\n",
    "        return\n",
    "        \n",
    "    for i,s in enumerate(st):\n",
    "        rem = st[:i]+st[i+1:]\n",
    "        perm(rem, prefix+st[i])"
   ]
  },
  {
   "cell_type": "code",
   "execution_count": 18,
   "metadata": {},
   "outputs": [
    {
     "name": "stdout",
     "output_type": "stream",
     "text": [
      "abcd\n",
      "abdc\n",
      "acbd\n",
      "acdb\n",
      "adbc\n",
      "adcb\n",
      "bacd\n",
      "badc\n",
      "bcad\n",
      "bcda\n",
      "bdac\n",
      "bdca\n",
      "cabd\n",
      "cadb\n",
      "cbad\n",
      "cbda\n",
      "cdab\n",
      "cdba\n",
      "dabc\n",
      "dacb\n",
      "dbac\n",
      "dbca\n",
      "dcab\n",
      "dcba\n"
     ]
    }
   ],
   "source": [
    "perm(st,'')"
   ]
  },
  {
   "cell_type": "code",
   "execution_count": 19,
   "metadata": {},
   "outputs": [
    {
     "name": "stdout",
     "output_type": "stream",
     "text": [
      "aabc\n",
      "aacb\n",
      "abac\n",
      "abca\n",
      "acab\n",
      "acba\n",
      "aabc\n",
      "aacb\n",
      "abac\n",
      "abca\n",
      "acab\n",
      "acba\n",
      "baac\n",
      "baca\n",
      "baac\n",
      "baca\n",
      "bcaa\n",
      "bcaa\n",
      "caab\n",
      "caba\n",
      "caab\n",
      "caba\n",
      "cbaa\n",
      "cbaa\n"
     ]
    }
   ],
   "source": [
    "# THIS WILL GIVE REPETETIONS AND IS WRONG. SO THIS DOESN'T WORK WHEN DUPLICATES ARE THERE\n",
    "perm('aabc','')"
   ]
  },
  {
   "cell_type": "markdown",
   "metadata": {},
   "source": [
    "O(n!)"
   ]
  },
  {
   "cell_type": "markdown",
   "metadata": {},
   "source": [
    "### Permutation with Dups:\n",
    "find all the possible permutations of a string (in lexographic sorted order)"
   ]
  },
  {
   "cell_type": "markdown",
   "metadata": {},
   "source": [
    "<img src=\"../images/string_perm1.png\"  width=\"600\">"
   ]
  },
  {
   "cell_type": "markdown",
   "metadata": {},
   "source": [
    "* step1: map of char to int\n",
    "* step2: define recursion function which \n",
    "    * fills an empty array of len(n) \n",
    "    * give ending condition, i.e when loop reaches end iteration (i.e print the permuted string)\n",
    "    * loops over string\n",
    "    * give continuing condition. i.e. when count of i is 0, continue \n",
    "    * call function recursively in loop\n",
    "    * decrease count of alphaebet in mapping at each iteration\n",
    "    * increase count again after completion of iterations"
   ]
  },
  {
   "cell_type": "code",
   "execution_count": 32,
   "metadata": {},
   "outputs": [],
   "source": [
    "st = 'aabc'"
   ]
  },
  {
   "cell_type": "code",
   "execution_count": 33,
   "metadata": {},
   "outputs": [],
   "source": [
    "from collections import defaultdict"
   ]
  },
  {
   "cell_type": "code",
   "execution_count": 34,
   "metadata": {},
   "outputs": [],
   "source": [
    "count_map = defaultdict(lambda:0)"
   ]
  },
  {
   "cell_type": "code",
   "execution_count": 35,
   "metadata": {},
   "outputs": [],
   "source": [
    "for k in st:\n",
    "    count_map[k]+=1"
   ]
  },
  {
   "cell_type": "code",
   "execution_count": 36,
   "metadata": {},
   "outputs": [
    {
     "data": {
      "text/plain": [
       "defaultdict(<function __main__.<lambda>()>, {'a': 2, 'b': 1, 'c': 1})"
      ]
     },
     "execution_count": 36,
     "metadata": {},
     "output_type": "execute_result"
    }
   ],
   "source": [
    "count_map"
   ]
  },
  {
   "cell_type": "code",
   "execution_count": 37,
   "metadata": {},
   "outputs": [],
   "source": [
    "# alphabet to count_map mapping\n",
    "# count_map = {}\n",
    "# for k in st:\n",
    "#     if k in count_map.keys():\n",
    "#         count_map[k] = count_map[k]+1\n",
    "#     else:\n",
    "#         count_map[k] = 1"
   ]
  },
  {
   "cell_type": "code",
   "execution_count": 39,
   "metadata": {},
   "outputs": [
    {
     "data": {
      "text/plain": [
       "['a', 'b', 'c']"
      ]
     },
     "execution_count": 39,
     "metadata": {},
     "output_type": "execute_result"
    }
   ],
   "source": [
    "st_keys =sorted(count_map)\n",
    "st_keys"
   ]
  },
  {
   "cell_type": "code",
   "execution_count": 40,
   "metadata": {},
   "outputs": [
    {
     "data": {
      "text/plain": [
       "[2, 1, 1]"
      ]
     },
     "execution_count": 40,
     "metadata": {},
     "output_type": "execute_result"
    }
   ],
   "source": [
    "count_sorted = [count_map[k] for k in st_keys]\n",
    "count_sorted"
   ]
  },
  {
   "cell_type": "code",
   "execution_count": 182,
   "metadata": {},
   "outputs": [],
   "source": [
    "# initialize level\n",
    "level = 0"
   ]
  },
  {
   "cell_type": "code",
   "execution_count": 183,
   "metadata": {},
   "outputs": [],
   "source": [
    "# list of len(n)\n",
    "fill_ar = ['' for i in range(len(st))]"
   ]
  },
  {
   "cell_type": "code",
   "execution_count": 184,
   "metadata": {},
   "outputs": [
    {
     "data": {
      "text/plain": [
       "['', '', '', '']"
      ]
     },
     "execution_count": 184,
     "metadata": {},
     "output_type": "execute_result"
    }
   ],
   "source": [
    "fill_ar"
   ]
  },
  {
   "cell_type": "code",
   "execution_count": 185,
   "metadata": {},
   "outputs": [],
   "source": [
    "def permute_st(st_keys, count_sorted, fill_ar, level):\n",
    "    # ending condition\n",
    "    if level == len(fill_ar):\n",
    "        print(''.join(fill_ar))\n",
    "        return \n",
    "    for i in range(len(st_keys)):\n",
    "        if count_sorted[i] == 0:\n",
    "            continue\n",
    "        fill_ar[level] = st_keys[i] # fill this level of list_keys with this alphabet\n",
    "        count_sorted[i] -= 1 # decrease count of this alphabet from map\n",
    "        permute_st_keysring(st_keys, count_sorted, fill_ar, level+1)\n",
    "        count_sorted[i] += 1  # go back to one level up in recursion"
   ]
  },
  {
   "cell_type": "code",
   "execution_count": 186,
   "metadata": {
    "scrolled": false
   },
   "outputs": [
    {
     "name": "stdout",
     "output_type": "stream",
     "text": [
      "aabc\n",
      "aacb\n",
      "abac\n",
      "abca\n",
      "acab\n",
      "acba\n",
      "baac\n",
      "baca\n",
      "bcaa\n",
      "caab\n",
      "caba\n",
      "cbaa\n"
     ]
    }
   ],
   "source": [
    "permute_st(st_keys, count_sorted, fill_ar, level)"
   ]
  },
  {
   "cell_type": "markdown",
   "metadata": {},
   "source": [
    "* time complexity - O(n!) as we have n! permutations\n",
    "* space complexigty - if not storing the output is O(len(n)) as only saving len(n) chars at a time"
   ]
  },
  {
   "cell_type": "code",
   "execution_count": 188,
   "metadata": {},
   "outputs": [
    {
     "name": "stdout",
     "output_type": "stream",
     "text": [
      "aabc\n",
      "aacb\n",
      "abac\n",
      "abca\n",
      "acab\n",
      "acba\n",
      "baac\n",
      "baca\n",
      "bcaa\n",
      "caab\n",
      "caba\n",
      "cbaa\n"
     ]
    }
   ],
   "source": [
    "def permute(input_str):\n",
    "    # alphabet to count_map mapping\n",
    "    count_map = {}\n",
    "    for k in input_str:\n",
    "        if k in count_map.keys():\n",
    "            count_map[k] = count_map[k]+1\n",
    "        else:\n",
    "            count_map[k] = 1\n",
    "            \n",
    "    st_keys =sorted(count_map)\n",
    "    count_sorted = [count_map[k] for k in st_keys]\n",
    "    level = 0\n",
    "    \n",
    "    fill_ar = ['' for i in range(len(input_str))]\n",
    "    \n",
    "    permute_st(st_keys, count_sorted, fill_ar, level) \n",
    "    \n",
    "def permute_st(st_keys, count_sorted, fill_ar, level):\n",
    "    # ending condition\n",
    "    if level == len(fill_ar):\n",
    "        print(''.join(fill_ar))\n",
    "        return \n",
    "    for i in range(len(st_keys)):\n",
    "        if count_sorted[i] == 0:\n",
    "            continue\n",
    "        fill_ar[level] = st_keys[i] # fill this level of list_keys with this alphabet\n",
    "        count_sorted[i] -= 1 # decrease count of this alphabet from map\n",
    "        permute_st(st_keys, count_sorted, fill_ar, level+1)\n",
    "        count_sorted[i] += 1  # go back to one level up in recursion\n",
    "        \n",
    "if __name__ == '__main__':\n",
    "    permute('aabc')"
   ]
  },
  {
   "cell_type": "markdown",
   "metadata": {},
   "source": [
    "## fibonacci numbers"
   ]
  },
  {
   "cell_type": "code",
   "execution_count": 191,
   "metadata": {},
   "outputs": [],
   "source": [
    "# inefficident code without memoization\n",
    "\n",
    "def fibonacci(n):\n",
    "    \n",
    "    # base cases\n",
    "    if n == 0:\n",
    "        return 0\n",
    "    elif n == 1:\n",
    "        return 1\n",
    "    \n",
    "    # recursion\n",
    "    else:\n",
    "        return fibonacci(n-1) + fibonacci(n-2)"
   ]
  },
  {
   "cell_type": "code",
   "execution_count": 192,
   "metadata": {},
   "outputs": [
    {
     "data": {
      "text/plain": [
       "8"
      ]
     },
     "execution_count": 192,
     "metadata": {},
     "output_type": "execute_result"
    }
   ],
   "source": [
    "fibonacci(6)"
   ]
  },
  {
   "cell_type": "markdown",
   "metadata": {},
   "source": [
    "* time complexity: n! ?\n",
    "* space complexity: "
   ]
  },
  {
   "cell_type": "markdown",
   "metadata": {},
   "source": [
    "## adding element in linked list using recursion"
   ]
  },
  {
   "cell_type": "code",
   "execution_count": 106,
   "metadata": {},
   "outputs": [],
   "source": [
    "class Node:\n",
    "    def __init__(self,data):\n",
    "        self.data = data\n",
    "        self.next = None \n",
    "class Solution: \n",
    "    def display(self,head):\n",
    "        current = head\n",
    "        while current:\n",
    "            print(current.data,end=' ')\n",
    "            current = current.next\n",
    "    def insert(self,head,data): \n",
    "        if head is None:\n",
    "            return Node(data)\n",
    "        elif head.next is None:\n",
    "            head.next = Node(data)\n",
    "        else:\n",
    "            insert(head.next, data)\n",
    "        return head"
   ]
  },
  {
   "cell_type": "code",
   "execution_count": 107,
   "metadata": {},
   "outputs": [
    {
     "name": "stdout",
     "output_type": "stream",
     "text": [
      "2\n",
      "2\n",
      "2\n",
      "2\n",
      "2 3 4 1 "
     ]
    }
   ],
   "source": [
    "mylist= Solution()\n",
    "head=None\n",
    "for i in [2,3,4,1]:\n",
    "    head=mylist.insert(head,i)  \n",
    "    print(head.data)\n",
    "mylist.display(head); "
   ]
  },
  {
   "cell_type": "markdown",
   "metadata": {},
   "source": [
    "### Robot in a Grid: \n",
    "Imagine a robot sitting on the upper left corner of grid with r rows and c columns. The robot can only move in two directions, right and down, but certain cells are \"off limits\" such that the robot cannot step on them. Design an algorithm to find a path for the robot from the top left to the bottom right."
   ]
  },
  {
   "cell_type": "code",
   "execution_count": 20,
   "metadata": {},
   "outputs": [],
   "source": [
    "r=5\n",
    "c=6 "
   ]
  },
  {
   "cell_type": "code",
   "execution_count": 33,
   "metadata": {},
   "outputs": [],
   "source": [
    "T = [[True for i in range(c)] for j in range(r)]"
   ]
  },
  {
   "cell_type": "code",
   "execution_count": 34,
   "metadata": {},
   "outputs": [
    {
     "data": {
      "text/plain": [
       "[[True, True, True, True, True, True],\n",
       " [True, True, True, True, True, True],\n",
       " [True, True, True, True, True, True],\n",
       " [True, True, True, True, True, True],\n",
       " [True, True, True, True, True, True]]"
      ]
     },
     "execution_count": 34,
     "metadata": {},
     "output_type": "execute_result"
    }
   ],
   "source": [
    "T"
   ]
  },
  {
   "cell_type": "code",
   "execution_count": 35,
   "metadata": {},
   "outputs": [],
   "source": [
    "# let's randomly close some cells. I will put False whereever the cell is closed\n",
    "T[4][2] = T[3][1] = T[2][5] = T[1][1] = T[0][4] = False"
   ]
  },
  {
   "cell_type": "code",
   "execution_count": 36,
   "metadata": {
    "scrolled": true
   },
   "outputs": [
    {
     "data": {
      "text/plain": [
       "[[True, True, True, True, False, True],\n",
       " [True, False, True, True, True, True],\n",
       " [True, True, True, True, True, False],\n",
       " [True, False, True, True, True, True],\n",
       " [True, True, False, True, True, True]]"
      ]
     },
     "execution_count": 36,
     "metadata": {},
     "output_type": "execute_result"
    }
   ],
   "source": [
    "T"
   ]
  },
  {
   "cell_type": "code",
   "execution_count": 37,
   "metadata": {},
   "outputs": [],
   "source": [
    "# now let's recursively go either down or right. \n",
    "# algo: try down - if down not allowed try right, if right not allowed go one step above recursive stack and go right\n",
    "# will represent cells that come in path by 1"
   ]
  },
  {
   "cell_type": "code",
   "execution_count": 42,
   "metadata": {},
   "outputs": [],
   "source": [
    "\n",
    "# def robot_grid(r,c):\n",
    "#     path_r = 0\n",
    "#     path_c = 0\n",
    "    \n",
    "#     T[0][0] = 1\n",
    "    \n",
    "#     while path_r < r-1 and path_c < c-1:\n",
    "        \n",
    "#         # if down is allowed, go down (not -99 or last row)\n",
    "#         if T[path_r+1][path_c] != -99 and path_r < r-1:\n",
    "#             path_r+=1\n",
    "#             T[path_r][path_c] = 1\n",
    "#         # if down is not allowed, but right is allowed, go right\n",
    "#         elif ((T[path_r+1][path_c] == -99) or (path_r >= r-1)) and ((T[path_r][path_c+1] != -99) and path_c < c-1):\n",
    "#             path_c+=1\n",
    "#             T[path_r][path_c] = 1\n",
    "#         # if both are not allowed, go one step above recursive stack and go right\n",
    "#         else:\n",
    "            \n",
    "            \n",
    "### need to put more thought into this. could not solve it using this approach. so took from a website"
   ]
  },
  {
   "cell_type": "markdown",
   "metadata": {},
   "source": [
    "https://ianna1009.gitbooks.io/leectcode/content/Cracking%20Coding%20Interview/Chapter8.%20Recursion%20and%20Dynamic%20Programming/82_robot_in_a_grid.html"
   ]
  },
  {
   "cell_type": "code",
   "execution_count": 65,
   "metadata": {},
   "outputs": [],
   "source": [
    "def check_path_availiability_in_cell(T, row, col, path):\n",
    "    \n",
    "    # if reach last small cell or path not available in cell, return False\n",
    "    if row<0 or col<0 or not T[row][col]:\n",
    "        return False\n",
    "\n",
    "    origin = (row == 0) and (col == 0)\n",
    "    \n",
    "    if check_path_availiability_in_cell(T, row-1, col, path) or \\\n",
    "        check_path_availiability_in_cell(T, row, col-1, path) or \\\n",
    "        origin:\n",
    "        path.append((row,col))\n",
    "        return True\n",
    "    return False"
   ]
  },
  {
   "cell_type": "code",
   "execution_count": 66,
   "metadata": {},
   "outputs": [],
   "source": [
    "def get_path(T):\n",
    "    if len(T) == 0 or len(T[0]) == 0: return False  # no path for this\n",
    "    path = []\n",
    "    if check_path_availiability_in_cell(T, len(T)-1, len(T[0])-1, path): return path\n",
    "    else: return None"
   ]
  },
  {
   "cell_type": "code",
   "execution_count": 67,
   "metadata": {},
   "outputs": [
    {
     "data": {
      "text/plain": [
       "[(0, 0),\n",
       " (0, 1),\n",
       " (0, 2),\n",
       " (0, 3),\n",
       " (1, 3),\n",
       " (1, 4),\n",
       " (2, 4),\n",
       " (3, 4),\n",
       " (3, 5),\n",
       " (4, 5)]"
      ]
     },
     "execution_count": 67,
     "metadata": {},
     "output_type": "execute_result"
    }
   ],
   "source": [
    "get_path(T)"
   ]
  },
  {
   "cell_type": "code",
   "execution_count": 36,
   "metadata": {},
   "outputs": [
    {
     "data": {
      "text/plain": [
       "[[True, True, True, True, False, True],\n",
       " [True, False, True, True, True, True],\n",
       " [True, True, True, True, True, False],\n",
       " [True, False, True, True, True, True],\n",
       " [True, True, False, True, True, True]]"
      ]
     },
     "execution_count": 36,
     "metadata": {},
     "output_type": "execute_result"
    }
   ],
   "source": [
    "T"
   ]
  },
  {
   "cell_type": "markdown",
   "metadata": {},
   "source": [
    "O(2^(r+c)), since each path has r+c steps and there are two choices we can make at each step."
   ]
  },
  {
   "cell_type": "markdown",
   "metadata": {},
   "source": [
    "\n",
    "### Magic Index: \n",
    "A magic index in an array A[e... n-1] is defined to be an index such that A[ i] = i. Given a sorted array of distinct integers, write a method to find a magic index, if one exists, in array A."
   ]
  },
  {
   "cell_type": "markdown",
   "metadata": {},
   "source": [
    "It can be done in linear seach with O(n) but we can also do it in binary search in O(log.n)"
   ]
  },
  {
   "cell_type": "code",
   "execution_count": 1,
   "metadata": {},
   "outputs": [],
   "source": [
    "arr = [-10, -1, 0, 3, 10, 11, 30, 50, 100]"
   ]
  },
  {
   "cell_type": "code",
   "execution_count": 10,
   "metadata": {},
   "outputs": [],
   "source": [
    "arr2 = [-10, -1, 0, 9, 10, 11, 30, 50, 100]"
   ]
  },
  {
   "cell_type": "code",
   "execution_count": 31,
   "metadata": {},
   "outputs": [],
   "source": [
    "def magic_index(arr, low, high):\n",
    "    while low<=high:\n",
    "        mid = (low + high)//2\n",
    "\n",
    "        if arr[mid] == mid:\n",
    "            return mid\n",
    "        elif mid > arr[mid]:\n",
    "            return magic_index(arr, mid+1, high)\n",
    "        else:\n",
    "            return magic_index(arr, low, mid-1)\n",
    "\n",
    "    return 'not found'"
   ]
  },
  {
   "cell_type": "code",
   "execution_count": 29,
   "metadata": {},
   "outputs": [
    {
     "data": {
      "text/plain": [
       "3"
      ]
     },
     "execution_count": 29,
     "metadata": {},
     "output_type": "execute_result"
    }
   ],
   "source": [
    "magic_index(arr, 0, len(arr)-1)"
   ]
  },
  {
   "cell_type": "code",
   "execution_count": 30,
   "metadata": {},
   "outputs": [
    {
     "data": {
      "text/plain": [
       "'not found'"
      ]
     },
     "execution_count": 30,
     "metadata": {},
     "output_type": "execute_result"
    }
   ],
   "source": [
    "magic_index(arr2, 0, len(arr2)-1)"
   ]
  },
  {
   "cell_type": "markdown",
   "metadata": {},
   "source": [
    "FOLLOW UP\n",
    "What if the values are not distinct?"
   ]
  },
  {
   "cell_type": "markdown",
   "metadata": {},
   "source": [
    "If we know that the array can have duplicates, then the logic that we used in binary search. i.e. if `mid>arr(mid)` would not work. But we can be sure that if arr[n] is less than equal to n-2, then arr[n-1] will not have magic index. (as list is in ascending and minimum arr[n-1] will be n-2. So we will search minimum of arr[n] and n-1 in left side of index"
   ]
  },
  {
   "cell_type": "code",
   "execution_count": 44,
   "metadata": {},
   "outputs": [],
   "source": [
    "def magic_index_dups(arr, low, high):\n",
    "    if low>high:\n",
    "        return -1\n",
    "    \n",
    "    mid = (low + high)//2\n",
    "    \n",
    "    if mid == arr[mid]:\n",
    "        return mid\n",
    "        \n",
    "    left = magic_index_dups(arr, low, min(arr[mid],mid-1))\n",
    "    if left>=0:\n",
    "        return left\n",
    "    else:\n",
    "        return magic_index_dups(arr, max(arr[mid],mid+1), high)"
   ]
  },
  {
   "cell_type": "code",
   "execution_count": 45,
   "metadata": {},
   "outputs": [],
   "source": [
    "arr = [-10, -5, 2, 2, 2, 3, 4, 7, 9, 12, 13] "
   ]
  },
  {
   "cell_type": "code",
   "execution_count": 46,
   "metadata": {},
   "outputs": [
    {
     "data": {
      "text/plain": [
       "2"
      ]
     },
     "execution_count": 46,
     "metadata": {},
     "output_type": "execute_result"
    }
   ],
   "source": [
    "magic_index_dups(arr,0,len(arr)-1)"
   ]
  },
  {
   "cell_type": "markdown",
   "metadata": {},
   "source": [
    "### Power Set: \n",
    "Write a method to return all subsets of a set."
   ]
  },
  {
   "cell_type": "markdown",
   "metadata": {},
   "source": [
    "Let's say we want to first find out total subsets of specific size k. Total size n of set can be any number bigger than k and then we can find all subsets by iterating k=1 to n\n",
    "  \n",
    "To find all subsets of len(k). We do:\n",
    "* make an empty list of len k and keep on replacing values inplace. Everytime we replace k values, we append to bigger list of list data structure to store all results\n",
    "* we can either include or exclude the current index. If we include, we add in data and move over to next index\n",
    "* if we exclude, we don't add current index in data and add next index in data\n",
    "* do last 2 steps recursively"
   ]
  },
  {
   "cell_type": "code",
   "execution_count": 6,
   "metadata": {},
   "outputs": [],
   "source": [
    "def power_set_utils(orig_set, data, k, cur_idx, i, ans_list):\n",
    "    \n",
    "    # if cur_idx = k, then this combination is ready\n",
    "    if cur_idx==k:\n",
    "#         ans_list.append(data)\n",
    "        print(data)\n",
    "        return\n",
    "    \n",
    "    # if reached the end of list, just return\n",
    "    if i>=len(orig_set):\n",
    "        return\n",
    "    \n",
    "    # want to add i in cur_idx of data?\n",
    "    # add and move forward\n",
    "    data[cur_idx] = orig_set[i]\n",
    "    power_set_utils(orig_set, data, k, cur_idx+1, i+1, ans_list)\n",
    "    \n",
    "    # don't want to add i in cur_idx of data?\n",
    "    # don't add, just ignore and move forward\n",
    "    power_set_utils(orig_set, data, k, cur_idx, i+1, ans_list) \n",
    "\n",
    "\n",
    "def power_set(orig_set, k):\n",
    "    data = list(range(k))\n",
    "    ans_list = []\n",
    "    power_set_utils(orig_set, data, k, 0,0,ans_list)"
   ]
  },
  {
   "cell_type": "code",
   "execution_count": 8,
   "metadata": {},
   "outputs": [
    {
     "name": "stdout",
     "output_type": "stream",
     "text": [
      "[10, 20, 30]\n",
      "[10, 20, 40]\n",
      "[10, 20, 50]\n",
      "[10, 30, 40]\n",
      "[10, 30, 50]\n",
      "[10, 40, 50]\n",
      "[20, 30, 40]\n",
      "[20, 30, 50]\n",
      "[20, 40, 50]\n",
      "[30, 40, 50]\n"
     ]
    }
   ],
   "source": [
    "power_set(orig_set=[10, 20, 30, 40, 50], k=3)"
   ]
  },
  {
   "cell_type": "code",
   "execution_count": 72,
   "metadata": {},
   "outputs": [
    {
     "name": "stdout",
     "output_type": "stream",
     "text": [
      "['a', 'a']\n",
      "['a', 'b']\n",
      "['a', 'c']\n",
      "['a', 'b']\n",
      "['a', 'c']\n",
      "['b', 'c']\n"
     ]
    }
   ],
   "source": [
    "power_set(orig_set=['a', 'a', 'b', 'c'], k=2)"
   ]
  },
  {
   "cell_type": "markdown",
   "metadata": {},
   "source": [
    "### Towers of Hanoi: \n",
    "In the classic problem of the Towers of Hanoi, you have 3 towers and N disks of different sizes which can slide onto any tower. The puzzle starts with disks sorted in ascending order of size from top to bottom (Le., each disk sits on top of an even larger one). You have the following constraints:  \n",
    "(1) Only one disk can be moved at a time.  \n",
    "(2) A disk is slid off the top of one tower onto another tower.  \n",
    "(3) A disk cannot be placed on top of a smaller disk.  \n",
    "Write a program to move the disks from the first tower to the last using stacks.  "
   ]
  },
  {
   "cell_type": "markdown",
   "metadata": {},
   "source": [
    "<img src=\"../images/hanoi.png\"  width=\"600\">"
   ]
  },
  {
   "cell_type": "code",
   "execution_count": 1,
   "metadata": {},
   "outputs": [],
   "source": [
    "from collections import defaultdict"
   ]
  },
  {
   "cell_type": "code",
   "execution_count": 2,
   "metadata": {},
   "outputs": [],
   "source": [
    "def tower(n, fro, to, aux):\n",
    "    \"\"\"\n",
    "    n: number of disks to move\n",
    "    fro: move from\n",
    "    to: move to\n",
    "    aux: disk to use \n",
    "    \"\"\"    \n",
    "    if n==1:  # if only 1 to move. just move where we want\n",
    "        move = list(fro.values())[0].pop()\n",
    "        print(f\"Move disk {move} from {list(fro.keys())[0]} to {list(to.keys())[0]}\")\n",
    "        to[list(to.keys())[0]].append(move)\n",
    "        return\n",
    "    tower(n-1, fro, aux, to)\n",
    "    move2 = list(fro.values())[0].pop()\n",
    "    print(f\"Move disk {move2} from {list(fro.keys())[0]} to {list(to.keys())[0]}\")\n",
    "    to[list(to.keys())[0]].append(move2)\n",
    "    tower(n-1, aux, to, fro)"
   ]
  },
  {
   "cell_type": "code",
   "execution_count": 3,
   "metadata": {},
   "outputs": [],
   "source": [
    "# let A,B, C are three stacks (A -> C)\n",
    "# A has all disks. 'red' -> 'blue' -> 'green' -> 'purple'\n",
    "A = defaultdict(list)\n",
    "B = defaultdict(list)\n",
    "C = defaultdict(list)\n",
    "\n",
    "A = {'A': ['red', 'blue', 'green', 'purple']}\n",
    "B = {'B': []}\n",
    "C = {'C': []}"
   ]
  },
  {
   "cell_type": "code",
   "execution_count": 4,
   "metadata": {},
   "outputs": [
    {
     "name": "stdout",
     "output_type": "stream",
     "text": [
      "Move disk purple from A to B\n",
      "Move disk green from A to C\n",
      "Move disk purple from B to C\n",
      "Move disk blue from A to B\n",
      "Move disk purple from C to A\n",
      "Move disk green from C to B\n",
      "Move disk purple from A to B\n",
      "Move disk red from A to C\n",
      "Move disk purple from B to C\n",
      "Move disk green from B to A\n",
      "Move disk purple from C to A\n",
      "Move disk blue from B to C\n",
      "Move disk purple from A to B\n",
      "Move disk green from A to C\n",
      "Move disk purple from B to C\n"
     ]
    }
   ],
   "source": [
    "tower(4,A,C,B)"
   ]
  },
  {
   "cell_type": "markdown",
   "metadata": {},
   "source": [
    "O(2^n) - exponential"
   ]
  },
  {
   "cell_type": "markdown",
   "metadata": {},
   "source": [
    "### Eight Queens: \n",
    "Write an algorithm to print all ways of arranging eight queens on an 8x8 chess board so that none of them share the same row, column, or diagonal. In this case, \"diagonal\" means all diagonals, not just the two that bisect the board."
   ]
  },
  {
   "cell_type": "code",
   "execution_count": 20,
   "metadata": {},
   "outputs": [],
   "source": [
    "num_to_char = {\n",
    "    '1': '1',\n",
    "    '2': 'ABC',\n",
    "    '3': 'DEF',\n",
    "    '4': 'GHI',\n",
    "    '5': 'JKL',\n",
    "    '6': 'MNO',\n",
    "    '7': 'PQRS',\n",
    "    '8': 'TUV',\n",
    "    '9': 'WXYZ',\n",
    "    '0': '0'\n",
    "}"
   ]
  },
  {
   "cell_type": "code",
   "execution_count": null,
   "metadata": {},
   "outputs": [],
   "source": [
    "num_to_char[int(num)]"
   ]
  },
  {
   "cell_type": "code",
   "execution_count": 26,
   "metadata": {},
   "outputs": [],
   "source": [
    "number = '4654329'\n",
    "word_list = num_to_char[number[0]]  # initialize with values of first digit "
   ]
  },
  {
   "cell_type": "code",
   "execution_count": 28,
   "metadata": {},
   "outputs": [],
   "source": [
    "for num in number[1:]:\n",
    "    new_word_list = []\n",
    "    for char in num_to_char[num]:\n",
    "        for wd in word_list:\n",
    "            new_word_list.append(wd + char)\n",
    "    word_list = new_word_list.copy()"
   ]
  },
  {
   "cell_type": "code",
   "execution_count": 31,
   "metadata": {},
   "outputs": [
    {
     "data": {
      "text/plain": [
       "['GMJGDAW',\n",
       " 'HMJGDAW',\n",
       " 'IMJGDAW',\n",
       " 'GNJGDAW',\n",
       " 'HNJGDAW',\n",
       " 'INJGDAW',\n",
       " 'GOJGDAW',\n",
       " 'HOJGDAW',\n",
       " 'IOJGDAW',\n",
       " 'GMKGDAW',\n",
       " 'HMKGDAW',\n",
       " 'IMKGDAW',\n",
       " 'GNKGDAW',\n",
       " 'HNKGDAW',\n",
       " 'INKGDAW',\n",
       " 'GOKGDAW',\n",
       " 'HOKGDAW',\n",
       " 'IOKGDAW',\n",
       " 'GMLGDAW',\n",
       " 'HMLGDAW',\n",
       " 'IMLGDAW',\n",
       " 'GNLGDAW',\n",
       " 'HNLGDAW',\n",
       " 'INLGDAW',\n",
       " 'GOLGDAW',\n",
       " 'HOLGDAW',\n",
       " 'IOLGDAW',\n",
       " 'GMJHDAW',\n",
       " 'HMJHDAW',\n",
       " 'IMJHDAW',\n",
       " 'GNJHDAW',\n",
       " 'HNJHDAW',\n",
       " 'INJHDAW',\n",
       " 'GOJHDAW',\n",
       " 'HOJHDAW',\n",
       " 'IOJHDAW',\n",
       " 'GMKHDAW',\n",
       " 'HMKHDAW',\n",
       " 'IMKHDAW',\n",
       " 'GNKHDAW',\n",
       " 'HNKHDAW',\n",
       " 'INKHDAW',\n",
       " 'GOKHDAW',\n",
       " 'HOKHDAW',\n",
       " 'IOKHDAW',\n",
       " 'GMLHDAW',\n",
       " 'HMLHDAW',\n",
       " 'IMLHDAW',\n",
       " 'GNLHDAW',\n",
       " 'HNLHDAW',\n",
       " 'INLHDAW',\n",
       " 'GOLHDAW',\n",
       " 'HOLHDAW',\n",
       " 'IOLHDAW',\n",
       " 'GMJIDAW',\n",
       " 'HMJIDAW',\n",
       " 'IMJIDAW',\n",
       " 'GNJIDAW',\n",
       " 'HNJIDAW',\n",
       " 'INJIDAW',\n",
       " 'GOJIDAW',\n",
       " 'HOJIDAW',\n",
       " 'IOJIDAW',\n",
       " 'GMKIDAW',\n",
       " 'HMKIDAW',\n",
       " 'IMKIDAW',\n",
       " 'GNKIDAW',\n",
       " 'HNKIDAW',\n",
       " 'INKIDAW',\n",
       " 'GOKIDAW',\n",
       " 'HOKIDAW',\n",
       " 'IOKIDAW',\n",
       " 'GMLIDAW',\n",
       " 'HMLIDAW',\n",
       " 'IMLIDAW',\n",
       " 'GNLIDAW',\n",
       " 'HNLIDAW',\n",
       " 'INLIDAW',\n",
       " 'GOLIDAW',\n",
       " 'HOLIDAW',\n",
       " 'IOLIDAW',\n",
       " 'GMJGEAW',\n",
       " 'HMJGEAW',\n",
       " 'IMJGEAW',\n",
       " 'GNJGEAW',\n",
       " 'HNJGEAW',\n",
       " 'INJGEAW',\n",
       " 'GOJGEAW',\n",
       " 'HOJGEAW',\n",
       " 'IOJGEAW',\n",
       " 'GMKGEAW',\n",
       " 'HMKGEAW',\n",
       " 'IMKGEAW',\n",
       " 'GNKGEAW',\n",
       " 'HNKGEAW',\n",
       " 'INKGEAW',\n",
       " 'GOKGEAW',\n",
       " 'HOKGEAW',\n",
       " 'IOKGEAW',\n",
       " 'GMLGEAW',\n",
       " 'HMLGEAW',\n",
       " 'IMLGEAW',\n",
       " 'GNLGEAW',\n",
       " 'HNLGEAW',\n",
       " 'INLGEAW',\n",
       " 'GOLGEAW',\n",
       " 'HOLGEAW',\n",
       " 'IOLGEAW',\n",
       " 'GMJHEAW',\n",
       " 'HMJHEAW',\n",
       " 'IMJHEAW',\n",
       " 'GNJHEAW',\n",
       " 'HNJHEAW',\n",
       " 'INJHEAW',\n",
       " 'GOJHEAW',\n",
       " 'HOJHEAW',\n",
       " 'IOJHEAW',\n",
       " 'GMKHEAW',\n",
       " 'HMKHEAW',\n",
       " 'IMKHEAW',\n",
       " 'GNKHEAW',\n",
       " 'HNKHEAW',\n",
       " 'INKHEAW',\n",
       " 'GOKHEAW',\n",
       " 'HOKHEAW',\n",
       " 'IOKHEAW',\n",
       " 'GMLHEAW',\n",
       " 'HMLHEAW',\n",
       " 'IMLHEAW',\n",
       " 'GNLHEAW',\n",
       " 'HNLHEAW',\n",
       " 'INLHEAW',\n",
       " 'GOLHEAW',\n",
       " 'HOLHEAW',\n",
       " 'IOLHEAW',\n",
       " 'GMJIEAW',\n",
       " 'HMJIEAW',\n",
       " 'IMJIEAW',\n",
       " 'GNJIEAW',\n",
       " 'HNJIEAW',\n",
       " 'INJIEAW',\n",
       " 'GOJIEAW',\n",
       " 'HOJIEAW',\n",
       " 'IOJIEAW',\n",
       " 'GMKIEAW',\n",
       " 'HMKIEAW',\n",
       " 'IMKIEAW',\n",
       " 'GNKIEAW',\n",
       " 'HNKIEAW',\n",
       " 'INKIEAW',\n",
       " 'GOKIEAW',\n",
       " 'HOKIEAW',\n",
       " 'IOKIEAW',\n",
       " 'GMLIEAW',\n",
       " 'HMLIEAW',\n",
       " 'IMLIEAW',\n",
       " 'GNLIEAW',\n",
       " 'HNLIEAW',\n",
       " 'INLIEAW',\n",
       " 'GOLIEAW',\n",
       " 'HOLIEAW',\n",
       " 'IOLIEAW',\n",
       " 'GMJGFAW',\n",
       " 'HMJGFAW',\n",
       " 'IMJGFAW',\n",
       " 'GNJGFAW',\n",
       " 'HNJGFAW',\n",
       " 'INJGFAW',\n",
       " 'GOJGFAW',\n",
       " 'HOJGFAW',\n",
       " 'IOJGFAW',\n",
       " 'GMKGFAW',\n",
       " 'HMKGFAW',\n",
       " 'IMKGFAW',\n",
       " 'GNKGFAW',\n",
       " 'HNKGFAW',\n",
       " 'INKGFAW',\n",
       " 'GOKGFAW',\n",
       " 'HOKGFAW',\n",
       " 'IOKGFAW',\n",
       " 'GMLGFAW',\n",
       " 'HMLGFAW',\n",
       " 'IMLGFAW',\n",
       " 'GNLGFAW',\n",
       " 'HNLGFAW',\n",
       " 'INLGFAW',\n",
       " 'GOLGFAW',\n",
       " 'HOLGFAW',\n",
       " 'IOLGFAW',\n",
       " 'GMJHFAW',\n",
       " 'HMJHFAW',\n",
       " 'IMJHFAW',\n",
       " 'GNJHFAW',\n",
       " 'HNJHFAW',\n",
       " 'INJHFAW',\n",
       " 'GOJHFAW',\n",
       " 'HOJHFAW',\n",
       " 'IOJHFAW',\n",
       " 'GMKHFAW',\n",
       " 'HMKHFAW',\n",
       " 'IMKHFAW',\n",
       " 'GNKHFAW',\n",
       " 'HNKHFAW',\n",
       " 'INKHFAW',\n",
       " 'GOKHFAW',\n",
       " 'HOKHFAW',\n",
       " 'IOKHFAW',\n",
       " 'GMLHFAW',\n",
       " 'HMLHFAW',\n",
       " 'IMLHFAW',\n",
       " 'GNLHFAW',\n",
       " 'HNLHFAW',\n",
       " 'INLHFAW',\n",
       " 'GOLHFAW',\n",
       " 'HOLHFAW',\n",
       " 'IOLHFAW',\n",
       " 'GMJIFAW',\n",
       " 'HMJIFAW',\n",
       " 'IMJIFAW',\n",
       " 'GNJIFAW',\n",
       " 'HNJIFAW',\n",
       " 'INJIFAW',\n",
       " 'GOJIFAW',\n",
       " 'HOJIFAW',\n",
       " 'IOJIFAW',\n",
       " 'GMKIFAW',\n",
       " 'HMKIFAW',\n",
       " 'IMKIFAW',\n",
       " 'GNKIFAW',\n",
       " 'HNKIFAW',\n",
       " 'INKIFAW',\n",
       " 'GOKIFAW',\n",
       " 'HOKIFAW',\n",
       " 'IOKIFAW',\n",
       " 'GMLIFAW',\n",
       " 'HMLIFAW',\n",
       " 'IMLIFAW',\n",
       " 'GNLIFAW',\n",
       " 'HNLIFAW',\n",
       " 'INLIFAW',\n",
       " 'GOLIFAW',\n",
       " 'HOLIFAW',\n",
       " 'IOLIFAW',\n",
       " 'GMJGDBW',\n",
       " 'HMJGDBW',\n",
       " 'IMJGDBW',\n",
       " 'GNJGDBW',\n",
       " 'HNJGDBW',\n",
       " 'INJGDBW',\n",
       " 'GOJGDBW',\n",
       " 'HOJGDBW',\n",
       " 'IOJGDBW',\n",
       " 'GMKGDBW',\n",
       " 'HMKGDBW',\n",
       " 'IMKGDBW',\n",
       " 'GNKGDBW',\n",
       " 'HNKGDBW',\n",
       " 'INKGDBW',\n",
       " 'GOKGDBW',\n",
       " 'HOKGDBW',\n",
       " 'IOKGDBW',\n",
       " 'GMLGDBW',\n",
       " 'HMLGDBW',\n",
       " 'IMLGDBW',\n",
       " 'GNLGDBW',\n",
       " 'HNLGDBW',\n",
       " 'INLGDBW',\n",
       " 'GOLGDBW',\n",
       " 'HOLGDBW',\n",
       " 'IOLGDBW',\n",
       " 'GMJHDBW',\n",
       " 'HMJHDBW',\n",
       " 'IMJHDBW',\n",
       " 'GNJHDBW',\n",
       " 'HNJHDBW',\n",
       " 'INJHDBW',\n",
       " 'GOJHDBW',\n",
       " 'HOJHDBW',\n",
       " 'IOJHDBW',\n",
       " 'GMKHDBW',\n",
       " 'HMKHDBW',\n",
       " 'IMKHDBW',\n",
       " 'GNKHDBW',\n",
       " 'HNKHDBW',\n",
       " 'INKHDBW',\n",
       " 'GOKHDBW',\n",
       " 'HOKHDBW',\n",
       " 'IOKHDBW',\n",
       " 'GMLHDBW',\n",
       " 'HMLHDBW',\n",
       " 'IMLHDBW',\n",
       " 'GNLHDBW',\n",
       " 'HNLHDBW',\n",
       " 'INLHDBW',\n",
       " 'GOLHDBW',\n",
       " 'HOLHDBW',\n",
       " 'IOLHDBW',\n",
       " 'GMJIDBW',\n",
       " 'HMJIDBW',\n",
       " 'IMJIDBW',\n",
       " 'GNJIDBW',\n",
       " 'HNJIDBW',\n",
       " 'INJIDBW',\n",
       " 'GOJIDBW',\n",
       " 'HOJIDBW',\n",
       " 'IOJIDBW',\n",
       " 'GMKIDBW',\n",
       " 'HMKIDBW',\n",
       " 'IMKIDBW',\n",
       " 'GNKIDBW',\n",
       " 'HNKIDBW',\n",
       " 'INKIDBW',\n",
       " 'GOKIDBW',\n",
       " 'HOKIDBW',\n",
       " 'IOKIDBW',\n",
       " 'GMLIDBW',\n",
       " 'HMLIDBW',\n",
       " 'IMLIDBW',\n",
       " 'GNLIDBW',\n",
       " 'HNLIDBW',\n",
       " 'INLIDBW',\n",
       " 'GOLIDBW',\n",
       " 'HOLIDBW',\n",
       " 'IOLIDBW',\n",
       " 'GMJGEBW',\n",
       " 'HMJGEBW',\n",
       " 'IMJGEBW',\n",
       " 'GNJGEBW',\n",
       " 'HNJGEBW',\n",
       " 'INJGEBW',\n",
       " 'GOJGEBW',\n",
       " 'HOJGEBW',\n",
       " 'IOJGEBW',\n",
       " 'GMKGEBW',\n",
       " 'HMKGEBW',\n",
       " 'IMKGEBW',\n",
       " 'GNKGEBW',\n",
       " 'HNKGEBW',\n",
       " 'INKGEBW',\n",
       " 'GOKGEBW',\n",
       " 'HOKGEBW',\n",
       " 'IOKGEBW',\n",
       " 'GMLGEBW',\n",
       " 'HMLGEBW',\n",
       " 'IMLGEBW',\n",
       " 'GNLGEBW',\n",
       " 'HNLGEBW',\n",
       " 'INLGEBW',\n",
       " 'GOLGEBW',\n",
       " 'HOLGEBW',\n",
       " 'IOLGEBW',\n",
       " 'GMJHEBW',\n",
       " 'HMJHEBW',\n",
       " 'IMJHEBW',\n",
       " 'GNJHEBW',\n",
       " 'HNJHEBW',\n",
       " 'INJHEBW',\n",
       " 'GOJHEBW',\n",
       " 'HOJHEBW',\n",
       " 'IOJHEBW',\n",
       " 'GMKHEBW',\n",
       " 'HMKHEBW',\n",
       " 'IMKHEBW',\n",
       " 'GNKHEBW',\n",
       " 'HNKHEBW',\n",
       " 'INKHEBW',\n",
       " 'GOKHEBW',\n",
       " 'HOKHEBW',\n",
       " 'IOKHEBW',\n",
       " 'GMLHEBW',\n",
       " 'HMLHEBW',\n",
       " 'IMLHEBW',\n",
       " 'GNLHEBW',\n",
       " 'HNLHEBW',\n",
       " 'INLHEBW',\n",
       " 'GOLHEBW',\n",
       " 'HOLHEBW',\n",
       " 'IOLHEBW',\n",
       " 'GMJIEBW',\n",
       " 'HMJIEBW',\n",
       " 'IMJIEBW',\n",
       " 'GNJIEBW',\n",
       " 'HNJIEBW',\n",
       " 'INJIEBW',\n",
       " 'GOJIEBW',\n",
       " 'HOJIEBW',\n",
       " 'IOJIEBW',\n",
       " 'GMKIEBW',\n",
       " 'HMKIEBW',\n",
       " 'IMKIEBW',\n",
       " 'GNKIEBW',\n",
       " 'HNKIEBW',\n",
       " 'INKIEBW',\n",
       " 'GOKIEBW',\n",
       " 'HOKIEBW',\n",
       " 'IOKIEBW',\n",
       " 'GMLIEBW',\n",
       " 'HMLIEBW',\n",
       " 'IMLIEBW',\n",
       " 'GNLIEBW',\n",
       " 'HNLIEBW',\n",
       " 'INLIEBW',\n",
       " 'GOLIEBW',\n",
       " 'HOLIEBW',\n",
       " 'IOLIEBW',\n",
       " 'GMJGFBW',\n",
       " 'HMJGFBW',\n",
       " 'IMJGFBW',\n",
       " 'GNJGFBW',\n",
       " 'HNJGFBW',\n",
       " 'INJGFBW',\n",
       " 'GOJGFBW',\n",
       " 'HOJGFBW',\n",
       " 'IOJGFBW',\n",
       " 'GMKGFBW',\n",
       " 'HMKGFBW',\n",
       " 'IMKGFBW',\n",
       " 'GNKGFBW',\n",
       " 'HNKGFBW',\n",
       " 'INKGFBW',\n",
       " 'GOKGFBW',\n",
       " 'HOKGFBW',\n",
       " 'IOKGFBW',\n",
       " 'GMLGFBW',\n",
       " 'HMLGFBW',\n",
       " 'IMLGFBW',\n",
       " 'GNLGFBW',\n",
       " 'HNLGFBW',\n",
       " 'INLGFBW',\n",
       " 'GOLGFBW',\n",
       " 'HOLGFBW',\n",
       " 'IOLGFBW',\n",
       " 'GMJHFBW',\n",
       " 'HMJHFBW',\n",
       " 'IMJHFBW',\n",
       " 'GNJHFBW',\n",
       " 'HNJHFBW',\n",
       " 'INJHFBW',\n",
       " 'GOJHFBW',\n",
       " 'HOJHFBW',\n",
       " 'IOJHFBW',\n",
       " 'GMKHFBW',\n",
       " 'HMKHFBW',\n",
       " 'IMKHFBW',\n",
       " 'GNKHFBW',\n",
       " 'HNKHFBW',\n",
       " 'INKHFBW',\n",
       " 'GOKHFBW',\n",
       " 'HOKHFBW',\n",
       " 'IOKHFBW',\n",
       " 'GMLHFBW',\n",
       " 'HMLHFBW',\n",
       " 'IMLHFBW',\n",
       " 'GNLHFBW',\n",
       " 'HNLHFBW',\n",
       " 'INLHFBW',\n",
       " 'GOLHFBW',\n",
       " 'HOLHFBW',\n",
       " 'IOLHFBW',\n",
       " 'GMJIFBW',\n",
       " 'HMJIFBW',\n",
       " 'IMJIFBW',\n",
       " 'GNJIFBW',\n",
       " 'HNJIFBW',\n",
       " 'INJIFBW',\n",
       " 'GOJIFBW',\n",
       " 'HOJIFBW',\n",
       " 'IOJIFBW',\n",
       " 'GMKIFBW',\n",
       " 'HMKIFBW',\n",
       " 'IMKIFBW',\n",
       " 'GNKIFBW',\n",
       " 'HNKIFBW',\n",
       " 'INKIFBW',\n",
       " 'GOKIFBW',\n",
       " 'HOKIFBW',\n",
       " 'IOKIFBW',\n",
       " 'GMLIFBW',\n",
       " 'HMLIFBW',\n",
       " 'IMLIFBW',\n",
       " 'GNLIFBW',\n",
       " 'HNLIFBW',\n",
       " 'INLIFBW',\n",
       " 'GOLIFBW',\n",
       " 'HOLIFBW',\n",
       " 'IOLIFBW',\n",
       " 'GMJGDCW',\n",
       " 'HMJGDCW',\n",
       " 'IMJGDCW',\n",
       " 'GNJGDCW',\n",
       " 'HNJGDCW',\n",
       " 'INJGDCW',\n",
       " 'GOJGDCW',\n",
       " 'HOJGDCW',\n",
       " 'IOJGDCW',\n",
       " 'GMKGDCW',\n",
       " 'HMKGDCW',\n",
       " 'IMKGDCW',\n",
       " 'GNKGDCW',\n",
       " 'HNKGDCW',\n",
       " 'INKGDCW',\n",
       " 'GOKGDCW',\n",
       " 'HOKGDCW',\n",
       " 'IOKGDCW',\n",
       " 'GMLGDCW',\n",
       " 'HMLGDCW',\n",
       " 'IMLGDCW',\n",
       " 'GNLGDCW',\n",
       " 'HNLGDCW',\n",
       " 'INLGDCW',\n",
       " 'GOLGDCW',\n",
       " 'HOLGDCW',\n",
       " 'IOLGDCW',\n",
       " 'GMJHDCW',\n",
       " 'HMJHDCW',\n",
       " 'IMJHDCW',\n",
       " 'GNJHDCW',\n",
       " 'HNJHDCW',\n",
       " 'INJHDCW',\n",
       " 'GOJHDCW',\n",
       " 'HOJHDCW',\n",
       " 'IOJHDCW',\n",
       " 'GMKHDCW',\n",
       " 'HMKHDCW',\n",
       " 'IMKHDCW',\n",
       " 'GNKHDCW',\n",
       " 'HNKHDCW',\n",
       " 'INKHDCW',\n",
       " 'GOKHDCW',\n",
       " 'HOKHDCW',\n",
       " 'IOKHDCW',\n",
       " 'GMLHDCW',\n",
       " 'HMLHDCW',\n",
       " 'IMLHDCW',\n",
       " 'GNLHDCW',\n",
       " 'HNLHDCW',\n",
       " 'INLHDCW',\n",
       " 'GOLHDCW',\n",
       " 'HOLHDCW',\n",
       " 'IOLHDCW',\n",
       " 'GMJIDCW',\n",
       " 'HMJIDCW',\n",
       " 'IMJIDCW',\n",
       " 'GNJIDCW',\n",
       " 'HNJIDCW',\n",
       " 'INJIDCW',\n",
       " 'GOJIDCW',\n",
       " 'HOJIDCW',\n",
       " 'IOJIDCW',\n",
       " 'GMKIDCW',\n",
       " 'HMKIDCW',\n",
       " 'IMKIDCW',\n",
       " 'GNKIDCW',\n",
       " 'HNKIDCW',\n",
       " 'INKIDCW',\n",
       " 'GOKIDCW',\n",
       " 'HOKIDCW',\n",
       " 'IOKIDCW',\n",
       " 'GMLIDCW',\n",
       " 'HMLIDCW',\n",
       " 'IMLIDCW',\n",
       " 'GNLIDCW',\n",
       " 'HNLIDCW',\n",
       " 'INLIDCW',\n",
       " 'GOLIDCW',\n",
       " 'HOLIDCW',\n",
       " 'IOLIDCW',\n",
       " 'GMJGECW',\n",
       " 'HMJGECW',\n",
       " 'IMJGECW',\n",
       " 'GNJGECW',\n",
       " 'HNJGECW',\n",
       " 'INJGECW',\n",
       " 'GOJGECW',\n",
       " 'HOJGECW',\n",
       " 'IOJGECW',\n",
       " 'GMKGECW',\n",
       " 'HMKGECW',\n",
       " 'IMKGECW',\n",
       " 'GNKGECW',\n",
       " 'HNKGECW',\n",
       " 'INKGECW',\n",
       " 'GOKGECW',\n",
       " 'HOKGECW',\n",
       " 'IOKGECW',\n",
       " 'GMLGECW',\n",
       " 'HMLGECW',\n",
       " 'IMLGECW',\n",
       " 'GNLGECW',\n",
       " 'HNLGECW',\n",
       " 'INLGECW',\n",
       " 'GOLGECW',\n",
       " 'HOLGECW',\n",
       " 'IOLGECW',\n",
       " 'GMJHECW',\n",
       " 'HMJHECW',\n",
       " 'IMJHECW',\n",
       " 'GNJHECW',\n",
       " 'HNJHECW',\n",
       " 'INJHECW',\n",
       " 'GOJHECW',\n",
       " 'HOJHECW',\n",
       " 'IOJHECW',\n",
       " 'GMKHECW',\n",
       " 'HMKHECW',\n",
       " 'IMKHECW',\n",
       " 'GNKHECW',\n",
       " 'HNKHECW',\n",
       " 'INKHECW',\n",
       " 'GOKHECW',\n",
       " 'HOKHECW',\n",
       " 'IOKHECW',\n",
       " 'GMLHECW',\n",
       " 'HMLHECW',\n",
       " 'IMLHECW',\n",
       " 'GNLHECW',\n",
       " 'HNLHECW',\n",
       " 'INLHECW',\n",
       " 'GOLHECW',\n",
       " 'HOLHECW',\n",
       " 'IOLHECW',\n",
       " 'GMJIECW',\n",
       " 'HMJIECW',\n",
       " 'IMJIECW',\n",
       " 'GNJIECW',\n",
       " 'HNJIECW',\n",
       " 'INJIECW',\n",
       " 'GOJIECW',\n",
       " 'HOJIECW',\n",
       " 'IOJIECW',\n",
       " 'GMKIECW',\n",
       " 'HMKIECW',\n",
       " 'IMKIECW',\n",
       " 'GNKIECW',\n",
       " 'HNKIECW',\n",
       " 'INKIECW',\n",
       " 'GOKIECW',\n",
       " 'HOKIECW',\n",
       " 'IOKIECW',\n",
       " 'GMLIECW',\n",
       " 'HMLIECW',\n",
       " 'IMLIECW',\n",
       " 'GNLIECW',\n",
       " 'HNLIECW',\n",
       " 'INLIECW',\n",
       " 'GOLIECW',\n",
       " 'HOLIECW',\n",
       " 'IOLIECW',\n",
       " 'GMJGFCW',\n",
       " 'HMJGFCW',\n",
       " 'IMJGFCW',\n",
       " 'GNJGFCW',\n",
       " 'HNJGFCW',\n",
       " 'INJGFCW',\n",
       " 'GOJGFCW',\n",
       " 'HOJGFCW',\n",
       " 'IOJGFCW',\n",
       " 'GMKGFCW',\n",
       " 'HMKGFCW',\n",
       " 'IMKGFCW',\n",
       " 'GNKGFCW',\n",
       " 'HNKGFCW',\n",
       " 'INKGFCW',\n",
       " 'GOKGFCW',\n",
       " 'HOKGFCW',\n",
       " 'IOKGFCW',\n",
       " 'GMLGFCW',\n",
       " 'HMLGFCW',\n",
       " 'IMLGFCW',\n",
       " 'GNLGFCW',\n",
       " 'HNLGFCW',\n",
       " 'INLGFCW',\n",
       " 'GOLGFCW',\n",
       " 'HOLGFCW',\n",
       " 'IOLGFCW',\n",
       " 'GMJHFCW',\n",
       " 'HMJHFCW',\n",
       " 'IMJHFCW',\n",
       " 'GNJHFCW',\n",
       " 'HNJHFCW',\n",
       " 'INJHFCW',\n",
       " 'GOJHFCW',\n",
       " 'HOJHFCW',\n",
       " 'IOJHFCW',\n",
       " 'GMKHFCW',\n",
       " 'HMKHFCW',\n",
       " 'IMKHFCW',\n",
       " 'GNKHFCW',\n",
       " 'HNKHFCW',\n",
       " 'INKHFCW',\n",
       " 'GOKHFCW',\n",
       " 'HOKHFCW',\n",
       " 'IOKHFCW',\n",
       " 'GMLHFCW',\n",
       " 'HMLHFCW',\n",
       " 'IMLHFCW',\n",
       " 'GNLHFCW',\n",
       " 'HNLHFCW',\n",
       " 'INLHFCW',\n",
       " 'GOLHFCW',\n",
       " 'HOLHFCW',\n",
       " 'IOLHFCW',\n",
       " 'GMJIFCW',\n",
       " 'HMJIFCW',\n",
       " 'IMJIFCW',\n",
       " 'GNJIFCW',\n",
       " 'HNJIFCW',\n",
       " 'INJIFCW',\n",
       " 'GOJIFCW',\n",
       " 'HOJIFCW',\n",
       " 'IOJIFCW',\n",
       " 'GMKIFCW',\n",
       " 'HMKIFCW',\n",
       " 'IMKIFCW',\n",
       " 'GNKIFCW',\n",
       " 'HNKIFCW',\n",
       " 'INKIFCW',\n",
       " 'GOKIFCW',\n",
       " 'HOKIFCW',\n",
       " 'IOKIFCW',\n",
       " 'GMLIFCW',\n",
       " 'HMLIFCW',\n",
       " 'IMLIFCW',\n",
       " 'GNLIFCW',\n",
       " 'HNLIFCW',\n",
       " 'INLIFCW',\n",
       " 'GOLIFCW',\n",
       " 'HOLIFCW',\n",
       " 'IOLIFCW',\n",
       " 'GMJGDAX',\n",
       " 'HMJGDAX',\n",
       " 'IMJGDAX',\n",
       " 'GNJGDAX',\n",
       " 'HNJGDAX',\n",
       " 'INJGDAX',\n",
       " 'GOJGDAX',\n",
       " 'HOJGDAX',\n",
       " 'IOJGDAX',\n",
       " 'GMKGDAX',\n",
       " 'HMKGDAX',\n",
       " 'IMKGDAX',\n",
       " 'GNKGDAX',\n",
       " 'HNKGDAX',\n",
       " 'INKGDAX',\n",
       " 'GOKGDAX',\n",
       " 'HOKGDAX',\n",
       " 'IOKGDAX',\n",
       " 'GMLGDAX',\n",
       " 'HMLGDAX',\n",
       " 'IMLGDAX',\n",
       " 'GNLGDAX',\n",
       " 'HNLGDAX',\n",
       " 'INLGDAX',\n",
       " 'GOLGDAX',\n",
       " 'HOLGDAX',\n",
       " 'IOLGDAX',\n",
       " 'GMJHDAX',\n",
       " 'HMJHDAX',\n",
       " 'IMJHDAX',\n",
       " 'GNJHDAX',\n",
       " 'HNJHDAX',\n",
       " 'INJHDAX',\n",
       " 'GOJHDAX',\n",
       " 'HOJHDAX',\n",
       " 'IOJHDAX',\n",
       " 'GMKHDAX',\n",
       " 'HMKHDAX',\n",
       " 'IMKHDAX',\n",
       " 'GNKHDAX',\n",
       " 'HNKHDAX',\n",
       " 'INKHDAX',\n",
       " 'GOKHDAX',\n",
       " 'HOKHDAX',\n",
       " 'IOKHDAX',\n",
       " 'GMLHDAX',\n",
       " 'HMLHDAX',\n",
       " 'IMLHDAX',\n",
       " 'GNLHDAX',\n",
       " 'HNLHDAX',\n",
       " 'INLHDAX',\n",
       " 'GOLHDAX',\n",
       " 'HOLHDAX',\n",
       " 'IOLHDAX',\n",
       " 'GMJIDAX',\n",
       " 'HMJIDAX',\n",
       " 'IMJIDAX',\n",
       " 'GNJIDAX',\n",
       " 'HNJIDAX',\n",
       " 'INJIDAX',\n",
       " 'GOJIDAX',\n",
       " 'HOJIDAX',\n",
       " 'IOJIDAX',\n",
       " 'GMKIDAX',\n",
       " 'HMKIDAX',\n",
       " 'IMKIDAX',\n",
       " 'GNKIDAX',\n",
       " 'HNKIDAX',\n",
       " 'INKIDAX',\n",
       " 'GOKIDAX',\n",
       " 'HOKIDAX',\n",
       " 'IOKIDAX',\n",
       " 'GMLIDAX',\n",
       " 'HMLIDAX',\n",
       " 'IMLIDAX',\n",
       " 'GNLIDAX',\n",
       " 'HNLIDAX',\n",
       " 'INLIDAX',\n",
       " 'GOLIDAX',\n",
       " 'HOLIDAX',\n",
       " 'IOLIDAX',\n",
       " 'GMJGEAX',\n",
       " 'HMJGEAX',\n",
       " 'IMJGEAX',\n",
       " 'GNJGEAX',\n",
       " 'HNJGEAX',\n",
       " 'INJGEAX',\n",
       " 'GOJGEAX',\n",
       " 'HOJGEAX',\n",
       " 'IOJGEAX',\n",
       " 'GMKGEAX',\n",
       " 'HMKGEAX',\n",
       " 'IMKGEAX',\n",
       " 'GNKGEAX',\n",
       " 'HNKGEAX',\n",
       " 'INKGEAX',\n",
       " 'GOKGEAX',\n",
       " 'HOKGEAX',\n",
       " 'IOKGEAX',\n",
       " 'GMLGEAX',\n",
       " 'HMLGEAX',\n",
       " 'IMLGEAX',\n",
       " 'GNLGEAX',\n",
       " 'HNLGEAX',\n",
       " 'INLGEAX',\n",
       " 'GOLGEAX',\n",
       " 'HOLGEAX',\n",
       " 'IOLGEAX',\n",
       " 'GMJHEAX',\n",
       " 'HMJHEAX',\n",
       " 'IMJHEAX',\n",
       " 'GNJHEAX',\n",
       " 'HNJHEAX',\n",
       " 'INJHEAX',\n",
       " 'GOJHEAX',\n",
       " 'HOJHEAX',\n",
       " 'IOJHEAX',\n",
       " 'GMKHEAX',\n",
       " 'HMKHEAX',\n",
       " 'IMKHEAX',\n",
       " 'GNKHEAX',\n",
       " 'HNKHEAX',\n",
       " 'INKHEAX',\n",
       " 'GOKHEAX',\n",
       " 'HOKHEAX',\n",
       " 'IOKHEAX',\n",
       " 'GMLHEAX',\n",
       " 'HMLHEAX',\n",
       " 'IMLHEAX',\n",
       " 'GNLHEAX',\n",
       " 'HNLHEAX',\n",
       " 'INLHEAX',\n",
       " 'GOLHEAX',\n",
       " 'HOLHEAX',\n",
       " 'IOLHEAX',\n",
       " 'GMJIEAX',\n",
       " 'HMJIEAX',\n",
       " 'IMJIEAX',\n",
       " 'GNJIEAX',\n",
       " 'HNJIEAX',\n",
       " 'INJIEAX',\n",
       " 'GOJIEAX',\n",
       " 'HOJIEAX',\n",
       " 'IOJIEAX',\n",
       " 'GMKIEAX',\n",
       " 'HMKIEAX',\n",
       " 'IMKIEAX',\n",
       " 'GNKIEAX',\n",
       " 'HNKIEAX',\n",
       " 'INKIEAX',\n",
       " 'GOKIEAX',\n",
       " 'HOKIEAX',\n",
       " 'IOKIEAX',\n",
       " 'GMLIEAX',\n",
       " 'HMLIEAX',\n",
       " 'IMLIEAX',\n",
       " 'GNLIEAX',\n",
       " 'HNLIEAX',\n",
       " 'INLIEAX',\n",
       " 'GOLIEAX',\n",
       " 'HOLIEAX',\n",
       " 'IOLIEAX',\n",
       " 'GMJGFAX',\n",
       " 'HMJGFAX',\n",
       " 'IMJGFAX',\n",
       " 'GNJGFAX',\n",
       " 'HNJGFAX',\n",
       " 'INJGFAX',\n",
       " 'GOJGFAX',\n",
       " 'HOJGFAX',\n",
       " 'IOJGFAX',\n",
       " 'GMKGFAX',\n",
       " 'HMKGFAX',\n",
       " 'IMKGFAX',\n",
       " 'GNKGFAX',\n",
       " 'HNKGFAX',\n",
       " 'INKGFAX',\n",
       " 'GOKGFAX',\n",
       " 'HOKGFAX',\n",
       " 'IOKGFAX',\n",
       " 'GMLGFAX',\n",
       " 'HMLGFAX',\n",
       " 'IMLGFAX',\n",
       " 'GNLGFAX',\n",
       " 'HNLGFAX',\n",
       " 'INLGFAX',\n",
       " 'GOLGFAX',\n",
       " 'HOLGFAX',\n",
       " 'IOLGFAX',\n",
       " 'GMJHFAX',\n",
       " 'HMJHFAX',\n",
       " 'IMJHFAX',\n",
       " 'GNJHFAX',\n",
       " 'HNJHFAX',\n",
       " 'INJHFAX',\n",
       " 'GOJHFAX',\n",
       " 'HOJHFAX',\n",
       " 'IOJHFAX',\n",
       " 'GMKHFAX',\n",
       " 'HMKHFAX',\n",
       " 'IMKHFAX',\n",
       " 'GNKHFAX',\n",
       " 'HNKHFAX',\n",
       " 'INKHFAX',\n",
       " 'GOKHFAX',\n",
       " 'HOKHFAX',\n",
       " 'IOKHFAX',\n",
       " 'GMLHFAX',\n",
       " 'HMLHFAX',\n",
       " 'IMLHFAX',\n",
       " 'GNLHFAX',\n",
       " 'HNLHFAX',\n",
       " 'INLHFAX',\n",
       " 'GOLHFAX',\n",
       " 'HOLHFAX',\n",
       " 'IOLHFAX',\n",
       " 'GMJIFAX',\n",
       " 'HMJIFAX',\n",
       " 'IMJIFAX',\n",
       " 'GNJIFAX',\n",
       " 'HNJIFAX',\n",
       " 'INJIFAX',\n",
       " 'GOJIFAX',\n",
       " 'HOJIFAX',\n",
       " 'IOJIFAX',\n",
       " 'GMKIFAX',\n",
       " 'HMKIFAX',\n",
       " 'IMKIFAX',\n",
       " 'GNKIFAX',\n",
       " 'HNKIFAX',\n",
       " 'INKIFAX',\n",
       " 'GOKIFAX',\n",
       " 'HOKIFAX',\n",
       " 'IOKIFAX',\n",
       " 'GMLIFAX',\n",
       " 'HMLIFAX',\n",
       " 'IMLIFAX',\n",
       " 'GNLIFAX',\n",
       " 'HNLIFAX',\n",
       " 'INLIFAX',\n",
       " 'GOLIFAX',\n",
       " 'HOLIFAX',\n",
       " 'IOLIFAX',\n",
       " 'GMJGDBX',\n",
       " 'HMJGDBX',\n",
       " 'IMJGDBX',\n",
       " 'GNJGDBX',\n",
       " 'HNJGDBX',\n",
       " 'INJGDBX',\n",
       " 'GOJGDBX',\n",
       " 'HOJGDBX',\n",
       " 'IOJGDBX',\n",
       " 'GMKGDBX',\n",
       " 'HMKGDBX',\n",
       " 'IMKGDBX',\n",
       " 'GNKGDBX',\n",
       " 'HNKGDBX',\n",
       " 'INKGDBX',\n",
       " 'GOKGDBX',\n",
       " 'HOKGDBX',\n",
       " 'IOKGDBX',\n",
       " 'GMLGDBX',\n",
       " 'HMLGDBX',\n",
       " 'IMLGDBX',\n",
       " 'GNLGDBX',\n",
       " 'HNLGDBX',\n",
       " 'INLGDBX',\n",
       " 'GOLGDBX',\n",
       " 'HOLGDBX',\n",
       " 'IOLGDBX',\n",
       " 'GMJHDBX',\n",
       " ...]"
      ]
     },
     "execution_count": 31,
     "metadata": {},
     "output_type": "execute_result"
    }
   ],
   "source": [
    "word_list"
   ]
  },
  {
   "cell_type": "code",
   "execution_count": null,
   "metadata": {},
   "outputs": [],
   "source": []
  }
 ],
 "metadata": {
  "kernelspec": {
   "display_name": "Python 3",
   "language": "python",
   "name": "python3"
  },
  "language_info": {
   "codemirror_mode": {
    "name": "ipython",
    "version": 3
   },
   "file_extension": ".py",
   "mimetype": "text/x-python",
   "name": "python",
   "nbconvert_exporter": "python",
   "pygments_lexer": "ipython3",
   "version": "3.7.0"
  },
  "toc": {
   "base_numbering": 1,
   "nav_menu": {},
   "number_sections": true,
   "sideBar": true,
   "skip_h1_title": false,
   "title_cell": "Table of Contents",
   "title_sidebar": "Contents",
   "toc_cell": false,
   "toc_position": {},
   "toc_section_display": true,
   "toc_window_display": false
  }
 },
 "nbformat": 4,
 "nbformat_minor": 2
}
