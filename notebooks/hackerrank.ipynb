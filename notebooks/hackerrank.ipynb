{
 "cells": [
  {
   "cell_type": "markdown",
   "metadata": {},
   "source": [
    "### Sorting comparator"
   ]
  },
  {
   "cell_type": "code",
   "execution_count": 73,
   "metadata": {},
   "outputs": [],
   "source": [
    "from functools import cmp_to_key\n",
    "class Player:\n",
    "    def __init__(self, name, score):\n",
    "        self.name = name\n",
    "        self.score = score    \n",
    "        \n",
    "    def __repr__(self):\n",
    "        return str(self.name)\n",
    "        \n",
    "    def comparator(a, b):\n",
    "        if a.score > b.score or (a.score == b.score and a.name < b.name):\n",
    "            return -1\n",
    "        else:\n",
    "            return 1"
   ]
  },
  {
   "cell_type": "code",
   "execution_count": 83,
   "metadata": {},
   "outputs": [],
   "source": [
    "n = 2\n",
    "data = []\n",
    "name, score = 'demy', 100\n",
    "score = int(score)\n",
    "player = Player(name, score)\n",
    "data.append(player)\n",
    "\n",
    "name, score = 'david', 100\n",
    "score = int(score)\n",
    "player = Player(name, score)\n",
    "data.append(player)"
   ]
  },
  {
   "cell_type": "code",
   "execution_count": 84,
   "metadata": {},
   "outputs": [
    {
     "name": "stdout",
     "output_type": "stream",
     "text": [
      "demy 100\n",
      "david 100\n"
     ]
    }
   ],
   "source": [
    "for i in data:\n",
    "    print(i.name, i.score)"
   ]
  },
  {
   "cell_type": "code",
   "execution_count": 85,
   "metadata": {},
   "outputs": [],
   "source": [
    "data = sorted(data, key=cmp_to_key(Player.comparator))"
   ]
  },
  {
   "cell_type": "code",
   "execution_count": 87,
   "metadata": {},
   "outputs": [
    {
     "name": "stdout",
     "output_type": "stream",
     "text": [
      "david 100\n",
      "demy 100\n"
     ]
    }
   ],
   "source": [
    "for i in data:\n",
    "    print(i.name, i.score)"
   ]
  },
  {
   "cell_type": "markdown",
   "metadata": {},
   "source": [
    "### Fraudulent Activity Notifications"
   ]
  },
  {
   "cell_type": "code",
   "execution_count": 156,
   "metadata": {},
   "outputs": [],
   "source": [
    "def activityNotifications(expenditure, d):\n",
    "    \n",
    "    notific = 0\n",
    "    for i in range(d, n):\n",
    "        sorted_subar = sorted(expenditure[i-d:i])\n",
    "        len_subar = len(sorted_subar)\n",
    "        if len_subar%2 != 0: median = sorted_subar[len_subar//2]\n",
    "        else: median = (sorted_subar[(len_subar/2)-1]+sorted_subar[(len_subar/2)])/2\n",
    "        \n",
    "        if expenditure[i] >= 2*median:\n",
    "            notific+=1\n",
    "            \n",
    "    return notific"
   ]
  },
  {
   "cell_type": "code",
   "execution_count": 157,
   "metadata": {},
   "outputs": [],
   "source": [
    "exp = [2, 3, 4, 2, 3, 6, 8, 4,5]\n",
    "n = 9"
   ]
  },
  {
   "cell_type": "code",
   "execution_count": 158,
   "metadata": {},
   "outputs": [],
   "source": [
    "k = activityNotifications(exp, 5)"
   ]
  },
  {
   "cell_type": "code",
   "execution_count": 160,
   "metadata": {},
   "outputs": [
    {
     "data": {
      "text/plain": [
       "2"
      ]
     },
     "execution_count": 160,
     "metadata": {},
     "output_type": "execute_result"
    }
   ],
   "source": [
    "k"
   ]
  },
  {
   "cell_type": "markdown",
   "metadata": {},
   "source": [
    "Works but not optimized. O(n^2.logn). We are sorting everytime which is redundant as we are adding one element in sorted list. \n"
   ]
  },
  {
   "cell_type": "code",
   "execution_count": 264,
   "metadata": {},
   "outputs": [],
   "source": [
    "class myqueue:\n",
    "    def __init__(self, que=[]):\n",
    "        self.que = que\n",
    "        self.sz = 0\n",
    "        \n",
    "    def put(self, a):\n",
    "        self.que.append(a)\n",
    "        self.sz+=1\n",
    "        \n",
    "    def remove(self):\n",
    "        if self.sz == 0:\n",
    "            print('empty q')\n",
    "        else:\n",
    "            self.sz -= 1\n",
    "            self.que = self.que[1:]\n",
    "    \n",
    "    def size(self):\n",
    "        return self.sz\n",
    "    \n",
    "    def __repr__(self):\n",
    "        return str(self.que)\n",
    "    \n",
    "    def get_list(self):\n",
    "        return list(self.que)"
   ]
  },
  {
   "cell_type": "code",
   "execution_count": 265,
   "metadata": {},
   "outputs": [],
   "source": [
    "q = myqueue([23,3,4,2])"
   ]
  },
  {
   "cell_type": "code",
   "execution_count": 266,
   "metadata": {},
   "outputs": [
    {
     "data": {
      "text/plain": [
       "[23, 3, 4, 2]"
      ]
     },
     "execution_count": 266,
     "metadata": {},
     "output_type": "execute_result"
    }
   ],
   "source": [
    "q"
   ]
  },
  {
   "cell_type": "code",
   "execution_count": 267,
   "metadata": {},
   "outputs": [],
   "source": [
    "q.put(4)"
   ]
  },
  {
   "cell_type": "code",
   "execution_count": 268,
   "metadata": {},
   "outputs": [],
   "source": [
    "q.put(5)"
   ]
  },
  {
   "cell_type": "code",
   "execution_count": 269,
   "metadata": {},
   "outputs": [],
   "source": [
    "q.put(2)"
   ]
  },
  {
   "cell_type": "code",
   "execution_count": 270,
   "metadata": {},
   "outputs": [
    {
     "data": {
      "text/plain": [
       "[23, 3, 4, 2, 4, 5, 2]"
      ]
     },
     "execution_count": 270,
     "metadata": {},
     "output_type": "execute_result"
    }
   ],
   "source": [
    "q"
   ]
  },
  {
   "cell_type": "code",
   "execution_count": 271,
   "metadata": {},
   "outputs": [],
   "source": [
    "q.remove()"
   ]
  },
  {
   "cell_type": "code",
   "execution_count": 272,
   "metadata": {},
   "outputs": [
    {
     "data": {
      "text/plain": [
       "[3, 4, 2, 4, 5, 2]"
      ]
     },
     "execution_count": 272,
     "metadata": {},
     "output_type": "execute_result"
    }
   ],
   "source": [
    "q"
   ]
  },
  {
   "cell_type": "code",
   "execution_count": 274,
   "metadata": {},
   "outputs": [
    {
     "data": {
      "text/plain": [
       "[3, 4, 2, 4, 5, 2]"
      ]
     },
     "execution_count": 274,
     "metadata": {},
     "output_type": "execute_result"
    }
   ],
   "source": [
    "q.get_list()"
   ]
  },
  {
   "cell_type": "code",
   "execution_count": 343,
   "metadata": {},
   "outputs": [],
   "source": [
    "def activityNotifications(expenditure, d):\n",
    "    \n",
    "    notific = 0\n",
    "    for i in range(d, n-1):\n",
    "        if i == d: \n",
    "            sorted_subar = sorted(expenditure[i-d:i])\n",
    "            sorted_subar_que = myqueue(sorted_subar)\n",
    "            print(sorted_subar_que)\n",
    "                    \n",
    "        else: \n",
    "            print(i)\n",
    "            sorted_subar_que.put(expenditure[i])  # add latest element\n",
    "            sorted_subar_que.remove() # remove the first element\n",
    "            print(sorted_subar_que)\n",
    "            \n",
    "            # check if need to put this number somewhere in between\n",
    "            sorted_subar_list = sorted_subar_que.get_list()\n",
    "            for k in sorted_subar_list[1:-1]:\n",
    "                print(sorted_subar_list)\n",
    "                if sorted_subar_list[-1] <= sorted_subar_list[k] and sorted_subar_list[-1] >= sorted_subar_list[k-1]:\n",
    "                    sorted_subar_list[-1], sorted_subar_list[k] = sorted_subar_list[k], sorted_subar_list[-1]\n",
    "                    break\n",
    "        \n",
    "        len_subar = len(sorted_subar)\n",
    "        if len_subar%2 != 0: median = sorted_subar[len_subar//2]\n",
    "        else: median = (sorted_subar[(len_subar//2)-1]+sorted_subar[(len_subar//2)])/2\n",
    "        \n",
    "        if expenditure[i] >= 2*median:\n",
    "            notific+=1\n",
    "            \n",
    "    return notific"
   ]
  },
  {
   "cell_type": "code",
   "execution_count": 344,
   "metadata": {},
   "outputs": [],
   "source": [
    "exp = [2, 3, 4, 2, 3, 6, 8, 4,5]\n",
    "n = 9"
   ]
  },
  {
   "cell_type": "code",
   "execution_count": 366,
   "metadata": {},
   "outputs": [],
   "source": [
    "# activityNotifications(exp, 3)"
   ]
  },
  {
   "cell_type": "markdown",
   "metadata": {},
   "source": [
    "### Array manipulation"
   ]
  },
  {
   "cell_type": "markdown",
   "metadata": {},
   "source": [
    "Starting with a 1-indexed array of zeros and a list of operations, for each operation add a value to each of the array element between two given indices, inclusive. Once all operations have been performed, return the maximum value in your array.\n",
    "\n",
    "For example, the length of your array of zeros . Your list of queries is as follows:\n",
    "\n"
   ]
  },
  {
   "cell_type": "code",
   "execution_count": 395,
   "metadata": {},
   "outputs": [],
   "source": [
    "queries = [[1,2,100], [2,5,100], [3,4,100]]\n",
    "n=5\n",
    "m=3"
   ]
  },
  {
   "cell_type": "code",
   "execution_count": 396,
   "metadata": {},
   "outputs": [],
   "source": [
    "ar = [0 for i in range(n)]"
   ]
  },
  {
   "cell_type": "code",
   "execution_count": 397,
   "metadata": {},
   "outputs": [
    {
     "name": "stdout",
     "output_type": "stream",
     "text": [
      "[100, 100, 0, 0, 0]\n",
      "[100, 200, 100, 100, 100]\n",
      "[100, 200, 200, 200, 100]\n"
     ]
    }
   ],
   "source": [
    "for i in range(m):\n",
    "    this_query = queries[i]\n",
    "    for j in range(this_query[0]-1, this_query[1]):\n",
    "        ar[j] += this_query[2]\n",
    "    print(ar)"
   ]
  },
  {
   "cell_type": "code",
   "execution_count": 398,
   "metadata": {},
   "outputs": [
    {
     "data": {
      "text/plain": [
       "[100, 200, 200, 200, 100]"
      ]
     },
     "execution_count": 398,
     "metadata": {},
     "output_type": "execute_result"
    }
   ],
   "source": [
    "ar"
   ]
  },
  {
   "cell_type": "markdown",
   "metadata": {},
   "source": [
    "The above code is brute force and has time complexity of O(m.n). Let's try to optimize it. "
   ]
  },
  {
   "cell_type": "code",
   "execution_count": 410,
   "metadata": {},
   "outputs": [
    {
     "name": "stdout",
     "output_type": "stream",
     "text": [
      "200\n"
     ]
    }
   ],
   "source": [
    "ar = [0]*(n+1)\n",
    "for q in queries:\n",
    "    x, y, incr = q\n",
    "    ar[x-1] += incr\n",
    "    if((y)<=len(ar)): ar[y] -= incr;\n",
    "max = x = 0\n",
    "for i in ar:\n",
    "    x=x+i;\n",
    "    if(max<x): max=x;\n",
    "print(max)"
   ]
  },
  {
   "cell_type": "markdown",
   "metadata": {},
   "source": [
    "The above code is O(n) time and O(1) memory"
   ]
  },
  {
   "cell_type": "markdown",
   "metadata": {},
   "source": [
    "Instead of storing the actual values in the array, you store the difference between the current element and the previous element. So you add sum to a[p] showing that a[p] is greater than its previous element by sum. You subtract sum from a[q+1] to show that a[q+1] is less than a[q] by sum (since a[q] was the last element that was added to sum). By the end of all this, you have an array that shows the difference between every successive element. By adding all the positive differences, you get the value of the maximum element\n",
    "\n"
   ]
  },
  {
   "cell_type": "markdown",
   "metadata": {},
   "source": [
    "### Time Conversion (12 Hr to 24 Hr)"
   ]
  },
  {
   "cell_type": "code",
   "execution_count": 463,
   "metadata": {},
   "outputs": [],
   "source": [
    "t = '07:05:45PM' # 19:05:45"
   ]
  },
  {
   "cell_type": "code",
   "execution_count": 469,
   "metadata": {},
   "outputs": [],
   "source": [
    "def timeconvert(t):\n",
    "    if t[:2] == '12' and t[-2:] == 'PM':\n",
    "        return t[:-2]\n",
    "    elif t[-2:] == 'PM':\n",
    "        return str(int(t[:2])+12) + str(t[2:-2])\n",
    "    elif t[:2] == '12' and t[-2:] == 'AM':\n",
    "        return '00' + str(t[2:-2])\n",
    "    else:\n",
    "        return str(t[:-2])"
   ]
  },
  {
   "cell_type": "code",
   "execution_count": 470,
   "metadata": {
    "scrolled": true
   },
   "outputs": [
    {
     "data": {
      "text/plain": [
       "'02:05:45'"
      ]
     },
     "execution_count": 470,
     "metadata": {},
     "output_type": "execute_result"
    }
   ],
   "source": [
    "timeconvert('02:05:45AM')"
   ]
  },
  {
   "cell_type": "markdown",
   "metadata": {},
   "source": [
    "But this is slow code. Let's make it faster"
   ]
  },
  {
   "cell_type": "code",
   "execution_count": 483,
   "metadata": {},
   "outputs": [],
   "source": [
    "s = '2:05:45PM' # 19:05:45"
   ]
  },
  {
   "cell_type": "code",
   "execution_count": 484,
   "metadata": {},
   "outputs": [
    {
     "name": "stdout",
     "output_type": "stream",
     "text": [
      "14:05:45\n"
     ]
    }
   ],
   "source": [
    "t = s.rstrip('APM').split(':')\n",
    "t[0] = int(t[0]) \n",
    "t[0] = t[0] % 12 \n",
    "if 'PM' in s: t[0] += 12 \n",
    "t[0] = \"{0:0=2d}\".format(t[0])  \n",
    "t[0] = str(t[0]) \n",
    "s_out = ':'.join(t) \n",
    "print(s_out)"
   ]
  },
  {
   "cell_type": "markdown",
   "metadata": {},
   "source": [
    "### Password Cracker"
   ]
  },
  {
   "cell_type": "code",
   "execution_count": 487,
   "metadata": {},
   "outputs": [],
   "source": [
    "s = 'wedowhatwemustbecausewecan' "
   ]
  },
  {
   "cell_type": "code",
   "execution_count": 514,
   "metadata": {},
   "outputs": [],
   "source": [
    "words = 'because can do must we what'\n",
    "word_list = words.split(' ')"
   ]
  },
  {
   "cell_type": "code",
   "execution_count": 515,
   "metadata": {},
   "outputs": [
    {
     "data": {
      "text/plain": [
       "['because', 'can', 'do', 'must', 'we', 'what']"
      ]
     },
     "execution_count": 515,
     "metadata": {},
     "output_type": "execute_result"
    }
   ],
   "source": [
    "word_list"
   ]
  },
  {
   "cell_type": "code",
   "execution_count": 488,
   "metadata": {},
   "outputs": [
    {
     "data": {
      "text/plain": [
       "'dowhatmustbecausecan'"
      ]
     },
     "execution_count": 488,
     "metadata": {},
     "output_type": "execute_result"
    }
   ],
   "source": [
    "s.replace('we', '')"
   ]
  },
  {
   "cell_type": "code",
   "execution_count": 501,
   "metadata": {},
   "outputs": [
    {
     "data": {
      "text/plain": [
       "['we', 'we', 'we']"
      ]
     },
     "execution_count": 501,
     "metadata": {},
     "output_type": "execute_result"
    }
   ],
   "source": [
    "['we' for i in range(3)]"
   ]
  },
  {
   "cell_type": "code",
   "execution_count": 497,
   "metadata": {},
   "outputs": [
    {
     "data": {
      "text/plain": [
       "'wewewe'"
      ]
     },
     "execution_count": 497,
     "metadata": {},
     "output_type": "execute_result"
    }
   ],
   "source": [
    "'we'*s.count('we')"
   ]
  },
  {
   "cell_type": "code",
   "execution_count": 519,
   "metadata": {},
   "outputs": [],
   "source": [
    "s = 'helloworld'\n",
    "word_list = ['hello', 'planet']"
   ]
  },
  {
   "cell_type": "code",
   "execution_count": 522,
   "metadata": {},
   "outputs": [],
   "source": [
    "def password_finder(s, word_list):\n",
    "    out_string_list = []\n",
    "    for word in word_list:\n",
    "        if word in s:\n",
    "            for c in range(s.count(word)): # repeat it as many times as word is present\n",
    "                out_string_list.append(word)\n",
    "            s = s.replace(word, '')\n",
    "    if s == '':\n",
    "        print('found')\n",
    "        print(out_string_list)\n",
    "        print(' '.join(out_string_list))\n",
    "    else:\n",
    "        print('not found')"
   ]
  },
  {
   "cell_type": "code",
   "execution_count": 523,
   "metadata": {
    "scrolled": true
   },
   "outputs": [
    {
     "name": "stdout",
     "output_type": "stream",
     "text": [
      "not found\n"
     ]
    }
   ],
   "source": [
    "password_finder(s, word_list)"
   ]
  },
  {
   "cell_type": "markdown",
   "metadata": {},
   "source": [
    "The above solution does not sustain the order "
   ]
  },
  {
   "cell_type": "code",
   "execution_count": 598,
   "metadata": {},
   "outputs": [],
   "source": [
    "def password_finder(s, word_list):\n",
    "    out_string_list = []\n",
    "    # let's just part below it from the above function\n",
    "    \n",
    "    max_word_len = max([len(w) for w in word_list])\n",
    "    \n",
    "    len_found = 0\n",
    "    start = 0\n",
    "    end = 1\n",
    "    \n",
    "    while end<=len(s):\n",
    "        s_tmp = s[start:end]  # loop through string index by index\n",
    "        if len(s_tmp) > max_word_len and s_tmp not in word_list:\n",
    "            return 'not found'\n",
    "            \n",
    "        elif s_tmp in word_list:\n",
    "            start += len(s_tmp)\n",
    "            out_string_list.append(s_tmp)\n",
    "            end += 1\n",
    "            len_found += len(s_tmp)\n",
    "        \n",
    "        else: end+=1\n",
    "                        \n",
    "    if len_found == len(s):\n",
    "        return ' '.join(out_string_list)\n",
    "    else:\n",
    "        return 'not found'"
   ]
  },
  {
   "cell_type": "code",
   "execution_count": 599,
   "metadata": {},
   "outputs": [],
   "source": [
    "s = 'wedowhatwemustbecausewecan' "
   ]
  },
  {
   "cell_type": "code",
   "execution_count": 615,
   "metadata": {},
   "outputs": [],
   "source": [
    "words = 'because can do must we what'\n",
    "word_list = words.split(' ')"
   ]
  },
  {
   "cell_type": "code",
   "execution_count": 616,
   "metadata": {},
   "outputs": [
    {
     "data": {
      "text/plain": [
       "['because', 'can', 'do', 'must', 'we', 'what']"
      ]
     },
     "execution_count": 616,
     "metadata": {},
     "output_type": "execute_result"
    }
   ],
   "source": [
    "word_list"
   ]
  },
  {
   "cell_type": "code",
   "execution_count": 601,
   "metadata": {},
   "outputs": [
    {
     "data": {
      "text/plain": [
       "'not found'"
      ]
     },
     "execution_count": 601,
     "metadata": {},
     "output_type": "execute_result"
    }
   ],
   "source": [
    "password_finder(s, word_list)"
   ]
  },
  {
   "cell_type": "code",
   "execution_count": 581,
   "metadata": {},
   "outputs": [],
   "source": [
    "s =\"\" 'helloworld'\n",
    "word_list = ['hello', 'planet']"
   ]
  },
  {
   "cell_type": "code",
   "execution_count": 582,
   "metadata": {
    "scrolled": true
   },
   "outputs": [
    {
     "name": "stdout",
     "output_type": "stream",
     "text": [
      "not found\n"
     ]
    }
   ],
   "source": [
    "password_finder(s, word_list)"
   ]
  },
  {
   "cell_type": "markdown",
   "metadata": {},
   "source": [
    "This one works and gives answer in order. But it still not optimized. It's bigO is O(n) where n is lenght of string. \n",
    "\n",
    "Let's try to solve it using **recursion** instead"
   ]
  },
  {
   "cell_type": "code",
   "execution_count": 637,
   "metadata": {},
   "outputs": [],
   "source": [
    "def find_passwords(s, word_list, parts=[]):\n",
    "    for i in range(1,len(s)+1):\n",
    "        if s[:i] in word_list:\n",
    "            new_parts = parts + [s[:i]]\n",
    "            if i < len(s):\n",
    "                find_passwords(s[i:], word_list, new_parts)\n",
    "            else:\n",
    "                results.append(new_parts)"
   ]
  },
  {
   "cell_type": "code",
   "execution_count": 638,
   "metadata": {},
   "outputs": [
    {
     "name": "stdout",
     "output_type": "stream",
     "text": [
      "['we', 'do', 'what', 'we', 'must', 'because', 'we', 'can']\n"
     ]
    }
   ],
   "source": [
    "results = []\n",
    "find_passwords(\"wedowhatwemustbecausewecan\", ['because', 'can', 'do', 'must', 'we', 'what'])    \n",
    "print(results[0] if results else 'WRONG PASSWORD')"
   ]
  },
  {
   "cell_type": "markdown",
   "metadata": {},
   "source": [
    "The above doesn't pass most of the tests"
   ]
  },
  {
   "cell_type": "markdown",
   "metadata": {},
   "source": [
    "### Staircase"
   ]
  },
  {
   "cell_type": "code",
   "execution_count": 13,
   "metadata": {},
   "outputs": [],
   "source": [
    "def staircase(n):\n",
    "    for i in range(1,n+1):\n",
    "        to_prnt = ' '*(n-i) + '#'*i\n",
    "        print(to_prnt)"
   ]
  },
  {
   "cell_type": "code",
   "execution_count": 14,
   "metadata": {},
   "outputs": [
    {
     "name": "stdout",
     "output_type": "stream",
     "text": [
      "    #\n",
      "   ##\n",
      "  ###\n",
      " ####\n",
      "#####\n"
     ]
    }
   ],
   "source": [
    "staircase(5)"
   ]
  },
  {
   "cell_type": "markdown",
   "metadata": {},
   "source": [
    "### Camelcase"
   ]
  },
  {
   "cell_type": "code",
   "execution_count": 15,
   "metadata": {},
   "outputs": [],
   "source": [
    "c = 'saveChangesInTheEditor'"
   ]
  },
  {
   "cell_type": "code",
   "execution_count": 24,
   "metadata": {},
   "outputs": [
    {
     "name": "stdout",
     "output_type": "stream",
     "text": [
      "5\n"
     ]
    }
   ],
   "source": [
    "print(sum(map(str.isupper, c)) + 1)"
   ]
  },
  {
   "cell_type": "code",
   "execution_count": 26,
   "metadata": {},
   "outputs": [
    {
     "data": {
      "text/plain": [
       "4"
      ]
     },
     "execution_count": 26,
     "metadata": {},
     "output_type": "execute_result"
    }
   ],
   "source": [
    "sum(map(str.isupper,c))"
   ]
  },
  {
   "cell_type": "markdown",
   "metadata": {},
   "source": [
    "### Sherlock and Anagrams"
   ]
  },
  {
   "cell_type": "markdown",
   "metadata": {},
   "source": [
    "#### hashmap"
   ]
  },
  {
   "cell_type": "code",
   "execution_count": 40,
   "metadata": {},
   "outputs": [],
   "source": [
    "s = 'kkkk'"
   ]
  },
  {
   "cell_type": "code",
   "execution_count": 41,
   "metadata": {},
   "outputs": [],
   "source": [
    "anag = 0\n",
    "map = {}\n",
    "for i in range(len(s)):\n",
    "    for j in range(len(s) - i):\n",
    "        s1 = ''.join(sorted(s[j:j + i + 1]))\n",
    "        map[s1] = map.get(s1, 0) + 1"
   ]
  },
  {
   "cell_type": "code",
   "execution_count": 42,
   "metadata": {
    "scrolled": true
   },
   "outputs": [
    {
     "data": {
      "text/plain": [
       "{'k': 4, 'kk': 3, 'kkk': 2, 'kkkk': 1}"
      ]
     },
     "execution_count": 42,
     "metadata": {},
     "output_type": "execute_result"
    }
   ],
   "source": [
    "map"
   ]
  },
  {
   "cell_type": "code",
   "execution_count": 43,
   "metadata": {},
   "outputs": [],
   "source": [
    "# for key in map:\n",
    "#     anag += (map[key] - 1) * map[key] // 2\n",
    "# print(anag)"
   ]
  },
  {
   "cell_type": "code",
   "execution_count": 44,
   "metadata": {},
   "outputs": [
    {
     "name": "stdout",
     "output_type": "stream",
     "text": [
      "10\n"
     ]
    }
   ],
   "source": [
    "for key in map:\n",
    "    anag += (map[key] - 1) * map[key] // 2\n",
    "print(anag)"
   ]
  },
  {
   "cell_type": "markdown",
   "metadata": {},
   "source": [
    "### Super reduced string\n",
    "Like candy crush"
   ]
  },
  {
   "cell_type": "code",
   "execution_count": 65,
   "metadata": {},
   "outputs": [],
   "source": [
    "s = 'aaabccddd'"
   ]
  },
  {
   "cell_type": "code",
   "execution_count": 74,
   "metadata": {},
   "outputs": [],
   "source": [
    "s = 'baab'"
   ]
  },
  {
   "cell_type": "code",
   "execution_count": 75,
   "metadata": {},
   "outputs": [],
   "source": [
    "def super_reduced(s):\n",
    "    \n",
    "    # not reducible condition \n",
    "    if len(set(s)) == len(s): \n",
    "        return s\n",
    "    else: \n",
    "        for i in range(1,len(s)):\n",
    "            if s[i-1] == s[i]:\n",
    "                print(s[:i-1] + s[i+1:])\n",
    "                super_reduced(s[:i-1] + s[i+1:])\n",
    "    "
   ]
  },
  {
   "cell_type": "code",
   "execution_count": 87,
   "metadata": {},
   "outputs": [],
   "source": [
    "def super_reduced(s):\n",
    "    i=1\n",
    "    while len(s) > 0:\n",
    "        # not reducible condition \n",
    "        if i == len(s): \n",
    "            return s\n",
    "\n",
    "        if s[i-1] == s[i]:\n",
    "            s = s[:i-1] + s[i+1:]\n",
    "            i=1\n",
    "        else:\n",
    "            i+=1\n",
    "            print(i)"
   ]
  },
  {
   "cell_type": "code",
   "execution_count": 88,
   "metadata": {},
   "outputs": [
    {
     "name": "stdout",
     "output_type": "stream",
     "text": [
      "2\n"
     ]
    }
   ],
   "source": [
    "super_reduced(s)"
   ]
  }
 ],
 "metadata": {
  "kernelspec": {
   "display_name": "Python 3",
   "language": "python",
   "name": "python3"
  },
  "language_info": {
   "codemirror_mode": {
    "name": "ipython",
    "version": 3
   },
   "file_extension": ".py",
   "mimetype": "text/x-python",
   "name": "python",
   "nbconvert_exporter": "python",
   "pygments_lexer": "ipython3",
   "version": "3.7.0"
  },
  "toc": {
   "base_numbering": 1,
   "nav_menu": {},
   "number_sections": true,
   "sideBar": true,
   "skip_h1_title": false,
   "title_cell": "Table of Contents",
   "title_sidebar": "Contents",
   "toc_cell": false,
   "toc_position": {},
   "toc_section_display": true,
   "toc_window_display": false
  }
 },
 "nbformat": 4,
 "nbformat_minor": 2
}
