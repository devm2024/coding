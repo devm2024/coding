{
 "cells": [
  {
   "cell_type": "markdown",
   "metadata": {},
   "source": [
    "### binary search using while loop"
   ]
  },
  {
   "cell_type": "code",
   "execution_count": 5,
   "metadata": {},
   "outputs": [
    {
     "name": "stdout",
     "output_type": "stream",
     "text": [
      "-1\n",
      "4\n"
     ]
    }
   ],
   "source": [
    "\"\"\"You're going to write a binary search function.\n",
    "You should use an iterative approach - meaning\n",
    "using loops.\n",
    "Your function should take two inputs:\n",
    "a Python list to search through, and the value\n",
    "you're searching for.\n",
    "Assume the list only has distinct elements,\n",
    "meaning there are no repeated values, and \n",
    "elements are in a strictly increasing order.\n",
    "Return the index of value, or -1 if the value\n",
    "doesn't exist in the list.\"\"\"\n",
    "\n",
    "def binary_search(input_array, value):\n",
    "    \"\"\"Your code goes here.\"\"\"\n",
    "    min_idx = 0\n",
    "    max_idx = len(input_array)-1\n",
    "    \n",
    "    while max_idx>=min_idx:\n",
    "        mid_idx = (min_idx+max_idx)//2\n",
    "        mid_val = input_array[mid_idx]\n",
    "        if mid_val == value:\n",
    "            return mid_idx\n",
    "        elif mid_val > value:\n",
    "            max_idx = mid_idx-1\n",
    "        else:\n",
    "            min_idx = mid_idx+1\n",
    "    return -1\n",
    "\n",
    "test_list = [1,3,9,11,15,19,29]\n",
    "test_val1 = 25\n",
    "test_val2 = 15\n",
    "print(binary_search(test_list, test_val1))\n",
    "print(binary_search(test_list, test_val2))"
   ]
  },
  {
   "cell_type": "markdown",
   "metadata": {},
   "source": [
    "### quick sort"
   ]
  },
  {
   "cell_type": "code",
   "execution_count": null,
   "metadata": {},
   "outputs": [],
   "source": [
    "\"\"\"Implement quick sort in Python.\n",
    "Input a list.\n",
    "Output a sorted list.\"\"\"\n",
    "def quicksort(array):\n",
    "    return []"
   ]
  },
  {
   "cell_type": "code",
   "execution_count": 70,
   "metadata": {},
   "outputs": [],
   "source": [
    "test = [21, 4, 1, 3, 9, 20, 25, 6, 21, 14]\n",
    "# print(quick_sort(test))"
   ]
  },
  {
   "cell_type": "code",
   "execution_count": 71,
   "metadata": {},
   "outputs": [],
   "source": [
    "input_arr = [21, 4, 1, 3, 9, 20, 25, 6, 21, 14]"
   ]
  },
  {
   "cell_type": "code",
   "execution_count": 72,
   "metadata": {},
   "outputs": [],
   "source": [
    "low = 0\n",
    "high = len(input_arr)-1"
   ]
  },
  {
   "cell_type": "code",
   "execution_count": 76,
   "metadata": {},
   "outputs": [],
   "source": [
    "def partition(input_arr, low, high):\n",
    "    \n",
    "    while low<high:\n",
    "        if input_arr[high] <= input_arr[low]:\n",
    "            if high>low+1:\n",
    "                # 1. swap this val with previous\n",
    "                # 2. swap first and pivot index \n",
    "                input_arr[high], input_arr[high-1] = input_arr[high-1], input_arr[high]\n",
    "                input_arr[high], input_arr[low] = input_arr[low], input_arr[high] \n",
    "                high-=1\n",
    "            elif high-1 == low:\n",
    "                # just one swap\n",
    "                # high-1 = low\n",
    "                input_arr[high], input_arr[high-1] = input_arr[high-1], input_arr[high]\n",
    "                high-=1\n",
    "            print('high',high)\n",
    "            print(input_arr)\n",
    "        else:\n",
    "            low+=1      \n",
    "            print('low', low)\n",
    "    \n",
    "    pivot_idx = high\n",
    "    print('pivot ->', pivot_idx)\n",
    "    return pivot_idx"
   ]
  },
  {
   "cell_type": "code",
   "execution_count": 77,
   "metadata": {},
   "outputs": [],
   "source": [
    "def quick_sort(input_arr, low, high):\n",
    "    print('break')\n",
    "    if low<high:\n",
    "        p = partition(input_arr, low, high)\n",
    "#         print(input_arr)\n",
    "\n",
    "        quick_sort(input_arr, low, p-1)\n",
    "        quick_sort(input_arr, p+1, high)"
   ]
  },
  {
   "cell_type": "code",
   "execution_count": 78,
   "metadata": {},
   "outputs": [
    {
     "name": "stdout",
     "output_type": "stream",
     "text": [
      "break\n",
      "low 1\n",
      "low 2\n",
      "low 3\n",
      "low 4\n",
      "low 5\n",
      "low 6\n",
      "high 8\n",
      "[6, 4, 1, 3, 9, 14, 21, 20, 21, 25]\n",
      "high 7\n",
      "[6, 4, 1, 3, 9, 14, 20, 21, 21, 25]\n",
      "low 7\n",
      "pivot -> 7\n",
      "break\n",
      "low 1\n",
      "low 2\n",
      "low 3\n",
      "low 4\n",
      "low 5\n",
      "low 6\n",
      "pivot -> 6\n",
      "break\n",
      "low 1\n",
      "low 2\n",
      "low 3\n",
      "low 4\n",
      "low 5\n",
      "pivot -> 5\n",
      "break\n",
      "low 1\n",
      "low 2\n",
      "low 3\n",
      "low 4\n",
      "pivot -> 4\n",
      "break\n",
      "high 2\n",
      "[1, 4, 3, 6, 9, 14, 20, 21, 21, 25]\n",
      "low 1\n",
      "high 1\n",
      "[1, 3, 4, 6, 9, 14, 20, 21, 21, 25]\n",
      "pivot -> 1\n",
      "break\n",
      "break\n",
      "low 3\n",
      "pivot -> 3\n",
      "break\n",
      "break\n",
      "break\n",
      "break\n",
      "break\n",
      "break\n",
      "low 9\n",
      "pivot -> 9\n",
      "break\n",
      "break\n"
     ]
    }
   ],
   "source": [
    "quick_sort(input_arr, low, high)"
   ]
  },
  {
   "cell_type": "code",
   "execution_count": 79,
   "metadata": {},
   "outputs": [
    {
     "data": {
      "text/plain": [
       "[1, 3, 4, 6, 9, 14, 20, 21, 21, 25]"
      ]
     },
     "execution_count": 79,
     "metadata": {},
     "output_type": "execute_result"
    }
   ],
   "source": [
    "input_arr"
   ]
  },
  {
   "cell_type": "markdown",
   "metadata": {},
   "source": [
    "### End"
   ]
  }
 ],
 "metadata": {
  "kernelspec": {
   "display_name": "Python 3",
   "language": "python",
   "name": "python3"
  },
  "language_info": {
   "codemirror_mode": {
    "name": "ipython",
    "version": 3
   },
   "file_extension": ".py",
   "mimetype": "text/x-python",
   "name": "python",
   "nbconvert_exporter": "python",
   "pygments_lexer": "ipython3",
   "version": "3.7.0"
  },
  "toc": {
   "base_numbering": 1,
   "nav_menu": {},
   "number_sections": true,
   "sideBar": true,
   "skip_h1_title": false,
   "title_cell": "Table of Contents",
   "title_sidebar": "Contents",
   "toc_cell": false,
   "toc_position": {},
   "toc_section_display": true,
   "toc_window_display": false
  }
 },
 "nbformat": 4,
 "nbformat_minor": 2
}
