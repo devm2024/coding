{
 "cells": [
  {
   "cell_type": "markdown",
   "metadata": {},
   "source": [
    "### preorder search and traversal"
   ]
  },
  {
   "cell_type": "code",
   "execution_count": 56,
   "metadata": {},
   "outputs": [],
   "source": [
    "class Node(object):\n",
    "    def __init__(self, value):\n",
    "        self.value = value\n",
    "        self.left = None\n",
    "        self.right = None\n",
    "\n",
    "class BinaryTree(object):\n",
    "    def __init__(self, root):\n",
    "        self.root = Node(root)\n",
    "\n",
    "    def search(self, find_val):\n",
    "        \"\"\"Return True if the value\n",
    "        is in the tree, return\n",
    "        False otherwise.\"\"\"\n",
    "        \n",
    "        return self.preorder_search(self.root, find_val)\n",
    "\n",
    "    def print_tree(self):\n",
    "        \"\"\"Print out all tree nodes\n",
    "        as they are visited in\n",
    "        a pre-order traversal.\"\"\"\n",
    "        \n",
    "        print_solution = self.preorder_print(self.root, [])\n",
    "        for p in print_solution:  # don't print last none\n",
    "            print(p)\n",
    "        \n",
    "    def preorder_search(self, start, find_val):\n",
    "        \"\"\"Helper method - use this to create a \n",
    "        recursive search solution.\"\"\"\n",
    "        \n",
    "        if start:\n",
    "            if start.value == find_val:\n",
    "                return True\n",
    "            else:\n",
    "                return self.preorder_search(start.left, find_val) or self.preorder_search(start.right, find_val)\n",
    "        return False\n",
    "\n",
    "    def preorder_print(self, start, traversal):\n",
    "        \"\"\"Helper method - use this to create a \n",
    "        recursive print solution.\"\"\"\n",
    "        if start:\n",
    "            traversal.append(start.value)\n",
    "            self.preorder_print(start.left, traversal)\n",
    "            self.preorder_print(start.right, traversal)\n",
    "        return traversal\n",
    "\n",
    "\n",
    "# Set up tree\n",
    "tree = BinaryTree(1)\n",
    "tree.root.left = Node(2)\n",
    "tree.root.right = Node(3)\n",
    "tree.root.left.left = Node(4)\n",
    "tree.root.left.right = Node(5)"
   ]
  },
  {
   "cell_type": "code",
   "execution_count": 57,
   "metadata": {},
   "outputs": [
    {
     "name": "stdout",
     "output_type": "stream",
     "text": [
      "4\n",
      "4\n",
      "True\n",
      "False\n"
     ]
    }
   ],
   "source": [
    "# Test search\n",
    "# Should be True\n",
    "print(tree.search(4))\n",
    "# Should be False\n",
    "print(tree.search(6))"
   ]
  },
  {
   "cell_type": "code",
   "execution_count": 58,
   "metadata": {},
   "outputs": [
    {
     "name": "stdout",
     "output_type": "stream",
     "text": [
      "1\n",
      "2\n",
      "4\n",
      "5\n",
      "3\n",
      "None\n"
     ]
    }
   ],
   "source": [
    "# Test print_tree\n",
    "# Should be 1-2-4-5-3\n",
    "print(tree.print_tree())"
   ]
  },
  {
   "cell_type": "markdown",
   "metadata": {},
   "source": [
    "### BST implementation"
   ]
  },
  {
   "cell_type": "code",
   "execution_count": 20,
   "metadata": {},
   "outputs": [],
   "source": [
    "class Node(object):\n",
    "    def __init__(self, value):\n",
    "        self.value = value\n",
    "        self.left = None\n",
    "        self.right = None\n",
    "\n",
    "class BST(object):\n",
    "    def __init__(self, root):\n",
    "        self.root = Node(root)\n",
    "\n",
    "    def insert(self, new_val):\n",
    "        self.insert_util(self.root, new_val)\n",
    "\n",
    "    def search(self, find_val):\n",
    "        return self.search_util(self.root, find_val)\n",
    "    \n",
    "    def search_util(self, start, find_val):\n",
    "        if start:\n",
    "            if start.value == find_val:\n",
    "                return True\n",
    "            elif start.value < find_val:\n",
    "                return self.search_util(start.right, find_val)\n",
    "            else:\n",
    "                return self.search_util(start.left, find_val)\n",
    "        return False\n",
    "    \n",
    "    def insert_util(self, start, new_val):\n",
    "        if start.value < new_val and start.right is None:\n",
    "            # just add to the right of it\n",
    "            start.right = Node(new_val)\n",
    "        elif start.value < new_val and start.right is not None:\n",
    "            # do above process again\n",
    "            self.insert_util(start.right, new_val)\n",
    "        elif start.value > new_val and start.left is None:\n",
    "            # just add to the right of it\n",
    "            start.left = Node(new_val)\n",
    "        elif start.value > new_val and start.left is not None:\n",
    "            # do above process again\n",
    "            self.insert_util(start.left, new_val)    \n",
    "            \n",
    "    def print_tree(self):\n",
    "        \"\"\"Print out all tree nodes\n",
    "        as they are visited in\n",
    "        a pre-order traversal.\"\"\"\n",
    "        \n",
    "        print_solution = self.preorder_print(self.root, [])\n",
    "        for p in print_solution:  # don't print last none\n",
    "            print(p)\n",
    "\n",
    "    def preorder_print(self, start, traversal):\n",
    "        \"\"\"Helper method - use this to create a \n",
    "        recursive print solution.\"\"\"\n",
    "        if start:\n",
    "            traversal.append(start.value)\n",
    "            self.preorder_print(start.left, traversal)\n",
    "            self.preorder_print(start.right, traversal)\n",
    "        return traversal  "
   ]
  },
  {
   "cell_type": "code",
   "execution_count": 21,
   "metadata": {},
   "outputs": [],
   "source": [
    "# Set up tree\n",
    "tree = BST(4)\n",
    "\n",
    "# Insert elements\n",
    "tree.insert(2)\n",
    "tree.insert(1)\n",
    "tree.insert(3)\n",
    "tree.insert(5)"
   ]
  },
  {
   "cell_type": "code",
   "execution_count": 22,
   "metadata": {},
   "outputs": [
    {
     "name": "stdout",
     "output_type": "stream",
     "text": [
      "True\n",
      "False\n"
     ]
    }
   ],
   "source": [
    "# Check search\n",
    "# Should be True\n",
    "print(tree.search(4))\n",
    "# Should be False\n",
    "print(tree.search(6))"
   ]
  },
  {
   "cell_type": "code",
   "execution_count": 23,
   "metadata": {},
   "outputs": [
    {
     "name": "stdout",
     "output_type": "stream",
     "text": [
      "4\n",
      "2\n",
      "1\n",
      "3\n",
      "5\n"
     ]
    }
   ],
   "source": [
    "tree.print_tree()"
   ]
  },
  {
   "cell_type": "markdown",
   "metadata": {},
   "source": [
    "### heap"
   ]
  },
  {
   "cell_type": "markdown",
   "metadata": {},
   "source": [
    "* Insert - is O(log.n) as we first stick new node to the right most empty space and then heapify until we maintian heap properties. Heapify has log.n worst case.  \n",
    "* Delete is similar to insert and is O(log.n). We can just delete root, stick right most node to root and then heapify until convergence\n",
    "* Search is worse than search in binary tree. Here we don't know whether we need to lookup left or right. So search is O(n) and we will need to look at all elements in worst case. \n",
    "* Finding max/min is O(1) as max/min are sitting in the root\n",
    "* Heaps are actually just stored as arrays and their order satisfy heap properties. Storage of array is better than storing in tree as in array we only need value and index. no need of left, right."
   ]
  },
  {
   "cell_type": "code",
   "execution_count": null,
   "metadata": {},
   "outputs": [],
   "source": []
  }
 ],
 "metadata": {
  "kernelspec": {
   "display_name": "Python 3",
   "language": "python",
   "name": "python3"
  },
  "language_info": {
   "codemirror_mode": {
    "name": "ipython",
    "version": 3
   },
   "file_extension": ".py",
   "mimetype": "text/x-python",
   "name": "python",
   "nbconvert_exporter": "python",
   "pygments_lexer": "ipython3",
   "version": "3.7.0"
  },
  "toc": {
   "base_numbering": 1,
   "nav_menu": {},
   "number_sections": true,
   "sideBar": true,
   "skip_h1_title": false,
   "title_cell": "Table of Contents",
   "title_sidebar": "Contents",
   "toc_cell": false,
   "toc_position": {},
   "toc_section_display": true,
   "toc_window_display": false
  }
 },
 "nbformat": 4,
 "nbformat_minor": 2
}
