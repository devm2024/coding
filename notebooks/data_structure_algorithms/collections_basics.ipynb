{
 "cells": [
  {
   "cell_type": "markdown",
   "metadata": {},
   "source": [
    "## linked list"
   ]
  },
  {
   "cell_type": "code",
   "execution_count": 20,
   "metadata": {},
   "outputs": [],
   "source": [
    "\"\"\"The LinkedList code from before is provided below.\n",
    "Add three functions to the LinkedList.\n",
    "\"get_position\" returns the element at a certain position.\n",
    "The \"insert\" function will add an element to a particular\n",
    "spot in the list.\n",
    "\"delete\" will delete the first element with that\n",
    "particular value.\n",
    "Then, use \"Test Run\" and \"Submit\" to run the test cases\n",
    "at the bottom.\"\"\"\n",
    "\n",
    "class Element(object):\n",
    "    def __init__(self, value):\n",
    "        self.value = value\n",
    "        self.next = None\n",
    "        \n",
    "class LinkedList(object):\n",
    "    def __init__(self, head=None):\n",
    "        self.head = head\n",
    "        \n",
    "    def append(self, new_element):\n",
    "        current = self.head\n",
    "        if self.head:\n",
    "            while current.next:\n",
    "                current = current.next\n",
    "            current.next = new_element\n",
    "        else:\n",
    "            self.head = new_element\n",
    "            \n",
    "    def get_position(self, position):\n",
    "        \"\"\"Get an element from a particular position.\n",
    "        Assume the first position is \"1\".\n",
    "        Return \"None\" if position is not in the list.\"\"\"\n",
    "        \n",
    "        # O(k) where k is position\n",
    "        \n",
    "        pos = 1\n",
    "        current = self.head\n",
    "        if current:\n",
    "            while pos < position:\n",
    "                current = current.next\n",
    "                pos+=1\n",
    "            return current\n",
    "        else: \n",
    "            return None\n",
    "        \n",
    "    def insert(self, new_element, position):\n",
    "        \"\"\"Insert a new node at the given position.\n",
    "        Assume the first position is \"1\".\n",
    "        Inserting at position 3 means between\n",
    "        the 2nd and 3rd elements.\"\"\"\n",
    "        \n",
    "        # need to add two connections\n",
    "        # first point new_element -> element at position + 1\n",
    "        # then point element at position -1 -> new_element\n",
    "        \n",
    "        pos=1\n",
    "        current = self.head\n",
    "        current_next = current.next\n",
    "        if position > 1:\n",
    "            while pos < position-1:\n",
    "                current_next = current_next.next\n",
    "                current = current.next\n",
    "                pos+=1\n",
    "            new_element.next = current_next\n",
    "            current.next = new_element\n",
    "        elif position == 1:\n",
    "            new_element.next = current\n",
    "            self.head = new_element\n",
    "        # there should be different case of insert at head. i.e. position == 1\n",
    "    \n",
    "    \n",
    "    def delete(self, value):\n",
    "        \"\"\"Delete the first node with a given value.\"\"\"\n",
    "        \n",
    "        # change of 1 connection\n",
    "        # when match is found. element at match index -1 -> element at match index + 1\n",
    "        \n",
    "        current = self.head\n",
    "        # case when element is in head itself. remove head and return \n",
    "        if current.value == value:\n",
    "            self.head = current.next\n",
    "            return \n",
    "        \n",
    "        # else traverse list\n",
    "        current_next = current.next\n",
    "\n",
    "        while current_next:\n",
    "            if current_next.value == value: \n",
    "                break\n",
    "            current_next = current_next.next\n",
    "            current = current.next\n",
    "\n",
    "        if current_next:  # when loop broke is found while list has elements\n",
    "            current_next = current_next.next\n",
    "            current.next = current_next\n",
    "        else:\n",
    "            return  # when whole list is traversed but not found"
   ]
  },
  {
   "cell_type": "code",
   "execution_count": 21,
   "metadata": {},
   "outputs": [],
   "source": [
    "# delete from solutions\n",
    "# they have used previous instead of first condition in checking if it is there in first node\n",
    "# they also kept check of val in while loop, I used in if condition\n",
    "def delete(self, value):\n",
    "    current = self.head\n",
    "    previous = None\n",
    "    while current.value != value and current.next:\n",
    "        previous = current\n",
    "        current = current.next\n",
    "    if current.value == value:\n",
    "        if previous:\n",
    "            previous.next = current.next\n",
    "        else:\n",
    "            self.head = current.next"
   ]
  },
  {
   "cell_type": "code",
   "execution_count": 22,
   "metadata": {},
   "outputs": [],
   "source": [
    "# Test cases\n",
    "# Set up some Elements\n",
    "e1 = Element(1)\n",
    "e2 = Element(2)\n",
    "e3 = Element(3)\n",
    "e4 = Element(4)\n",
    "\n",
    "# Start setting up a LinkedList\n",
    "ll = LinkedList(e1)\n",
    "ll.append(e2)\n",
    "ll.append(e3)"
   ]
  },
  {
   "cell_type": "code",
   "execution_count": 23,
   "metadata": {},
   "outputs": [
    {
     "name": "stdout",
     "output_type": "stream",
     "text": [
      "3\n",
      "3\n"
     ]
    }
   ],
   "source": [
    "# Test get_position\n",
    "# Should print 3\n",
    "print(ll.head.next.next.value)\n",
    "# Should also print 3\n",
    "print(ll.get_position(3).value)"
   ]
  },
  {
   "cell_type": "code",
   "execution_count": 24,
   "metadata": {},
   "outputs": [
    {
     "name": "stdout",
     "output_type": "stream",
     "text": [
      "4\n"
     ]
    }
   ],
   "source": [
    "# Test insert\n",
    "ll.insert(e4,3)\n",
    "# Should print 4 now\n",
    "print(ll.get_position(3).value)"
   ]
  },
  {
   "cell_type": "code",
   "execution_count": 25,
   "metadata": {},
   "outputs": [
    {
     "name": "stdout",
     "output_type": "stream",
     "text": [
      "2\n",
      "4\n",
      "3\n"
     ]
    }
   ],
   "source": [
    "# Test delete\n",
    "ll.delete(1)\n",
    "# Should print 2 now\n",
    "print(ll.get_position(1).value)\n",
    "# Should print 4 now\n",
    "print(ll.get_position(2).value)\n",
    "# Should print 3 now\n",
    "print(ll.get_position(3).value)"
   ]
  },
  {
   "cell_type": "markdown",
   "metadata": {},
   "source": [
    "### stack implementation using linked list"
   ]
  },
  {
   "cell_type": "code",
   "execution_count": 18,
   "metadata": {},
   "outputs": [],
   "source": [
    "\"\"\"Add a couple methods to our LinkedList class,\n",
    "and use that to implement a Stack.\n",
    "You have 4 functions below to fill in:\n",
    "insert_first, delete_first, push, and pop.\n",
    "Think about this while you're implementing:\n",
    "why is it easier to add an \"insert_first\"\n",
    "function than just use \"append\"?\"\"\"\n",
    "\n",
    "class Element(object):\n",
    "    def __init__(self, value):\n",
    "        self.value = value\n",
    "        self.next = None\n",
    "        \n",
    "class LinkedList(object):\n",
    "    def __init__(self, head=None):\n",
    "        self.head = head\n",
    "        \n",
    "    def append(self, new_element):\n",
    "        current = self.head\n",
    "        if self.head:\n",
    "            while current.next:\n",
    "                current = current.next\n",
    "            current.next = new_element\n",
    "        else:\n",
    "            self.head = new_element\n",
    "\n",
    "    def insert_first(self, new_element):\n",
    "        \"Insert new element as the head of the LinkedList\"\n",
    "        if self.head:\n",
    "            new_element.next = self.head\n",
    "            self.head = new_element\n",
    "        else:\n",
    "            self.head = new_element\n",
    "\n",
    "    def delete_first(self):\n",
    "        \"Delete the first (head) element in the LinkedList as return it\"\n",
    "        delete = self.head\n",
    "        if self.head:\n",
    "            self.head = self.head.next\n",
    "            delete.next = None\n",
    "        return delete\n",
    "\n",
    "class Stack(object):\n",
    "    def __init__(self,top=None):\n",
    "        self.ll = LinkedList(top)\n",
    "\n",
    "    def push(self, new_element):\n",
    "        \"Push (add) a new element onto the top of the stack\"\n",
    "        self.ll.insert_first(new_element)\n",
    "\n",
    "    def pop(self):\n",
    "        \"Pop (remove) the first element off the top of the stack and return it\"\n",
    "        return self.ll.delete_first()"
   ]
  },
  {
   "cell_type": "code",
   "execution_count": 19,
   "metadata": {},
   "outputs": [],
   "source": [
    "# Test cases\n",
    "# Set up some Elements\n",
    "e1 = Element(1)\n",
    "e2 = Element(2)\n",
    "e3 = Element(3)\n",
    "e4 = Element(4)\n",
    "\n",
    "# Start setting up a Stack\n",
    "stack = Stack(e1)"
   ]
  },
  {
   "cell_type": "code",
   "execution_count": 20,
   "metadata": {},
   "outputs": [
    {
     "name": "stdout",
     "output_type": "stream",
     "text": [
      "3\n",
      "2\n",
      "1\n",
      "None\n",
      "4\n"
     ]
    }
   ],
   "source": [
    "# Test stack functionality\n",
    "stack.push(e2)\n",
    "stack.push(e3)\n",
    "print(stack.pop().value)\n",
    "print(stack.pop().value)\n",
    "print(stack.pop().value)\n",
    "print(stack.pop())\n",
    "stack.push(e4)\n",
    "print(stack.pop().value)"
   ]
  },
  {
   "cell_type": "markdown",
   "metadata": {},
   "source": [
    "### queue implementation using list"
   ]
  },
  {
   "cell_type": "code",
   "execution_count": 2,
   "metadata": {},
   "outputs": [
    {
     "name": "stdout",
     "output_type": "stream",
     "text": [
      "1\n",
      "1\n",
      "2\n",
      "3\n",
      "4\n",
      "5\n"
     ]
    }
   ],
   "source": [
    "\"\"\"Make a Queue class using a list!\n",
    "Hint: You can use any Python list method\n",
    "you'd like! Try to write each one in as \n",
    "few lines as possible.\n",
    "Make sure you pass the test cases too!\"\"\"\n",
    "\n",
    "class Queue:\n",
    "    def __init__(self, head=None):\n",
    "        self.storage = [head]\n",
    "\n",
    "    def enqueue(self, new_element):\n",
    "        self.storage.append(new_element)\n",
    "\n",
    "    def peek(self):\n",
    "        return self.storage[0]\n",
    "\n",
    "    def dequeue(self):\n",
    "        return self.storage.pop(0)\n",
    "    \n",
    "# Setup\n",
    "q = Queue(1)\n",
    "q.enqueue(2)\n",
    "q.enqueue(3)\n",
    "\n",
    "# Test peek\n",
    "# Should be 1\n",
    "print(q.peek())\n",
    "\n",
    "# Test dequeue\n",
    "# Should be 1\n",
    "print(q.dequeue())\n",
    "\n",
    "# Test enqueue\n",
    "q.enqueue(4)\n",
    "# Should be 2\n",
    "print(q.dequeue())\n",
    "# Should be 3\n",
    "print(q.dequeue())\n",
    "# Should be 4\n",
    "print(q.dequeue())\n",
    "q.enqueue(5)\n",
    "# Should be 5\n",
    "print(q.peek())"
   ]
  },
  {
   "cell_type": "markdown",
   "metadata": {},
   "source": [
    "### End"
   ]
  }
 ],
 "metadata": {
  "kernelspec": {
   "display_name": "Python 3",
   "language": "python",
   "name": "python3"
  },
  "language_info": {
   "codemirror_mode": {
    "name": "ipython",
    "version": 3
   },
   "file_extension": ".py",
   "mimetype": "text/x-python",
   "name": "python",
   "nbconvert_exporter": "python",
   "pygments_lexer": "ipython3",
   "version": "3.7.0"
  },
  "toc": {
   "base_numbering": 1,
   "nav_menu": {},
   "number_sections": true,
   "sideBar": true,
   "skip_h1_title": false,
   "title_cell": "Table of Contents",
   "title_sidebar": "Contents",
   "toc_cell": false,
   "toc_position": {},
   "toc_section_display": true,
   "toc_window_display": false
  }
 },
 "nbformat": 4,
 "nbformat_minor": 2
}
