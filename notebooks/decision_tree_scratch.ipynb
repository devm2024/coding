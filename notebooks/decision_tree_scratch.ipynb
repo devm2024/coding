{
 "cells": [
  {
   "cell_type": "markdown",
   "metadata": {},
   "source": [
    "## Decision tree from scratch"
   ]
  },
  {
   "cell_type": "code",
   "execution_count": 1,
   "metadata": {},
   "outputs": [],
   "source": [
    "import pandas as pd"
   ]
  },
  {
   "cell_type": "code",
   "execution_count": 5,
   "metadata": {},
   "outputs": [],
   "source": [
    "toy_data = pd.DataFrame({\"color\": [\"green\",\"red\",\"green\",\"yellow\", \"yellow\"],\n",
    "                        \"weight\":[2, 5, 10, 6, 6],\n",
    "                        \"fruit\":[\"grape\", \"apple\", \"watermelon\", \"banana\", \"mango\"]})"
   ]
  },
  {
   "cell_type": "code",
   "execution_count": 6,
   "metadata": {},
   "outputs": [
    {
     "data": {
      "text/html": [
       "<div>\n",
       "<style scoped>\n",
       "    .dataframe tbody tr th:only-of-type {\n",
       "        vertical-align: middle;\n",
       "    }\n",
       "\n",
       "    .dataframe tbody tr th {\n",
       "        vertical-align: top;\n",
       "    }\n",
       "\n",
       "    .dataframe thead th {\n",
       "        text-align: right;\n",
       "    }\n",
       "</style>\n",
       "<table border=\"1\" class=\"dataframe\">\n",
       "  <thead>\n",
       "    <tr style=\"text-align: right;\">\n",
       "      <th></th>\n",
       "      <th>color</th>\n",
       "      <th>weight</th>\n",
       "      <th>fruit</th>\n",
       "    </tr>\n",
       "  </thead>\n",
       "  <tbody>\n",
       "    <tr>\n",
       "      <th>0</th>\n",
       "      <td>green</td>\n",
       "      <td>2</td>\n",
       "      <td>grape</td>\n",
       "    </tr>\n",
       "    <tr>\n",
       "      <th>1</th>\n",
       "      <td>red</td>\n",
       "      <td>5</td>\n",
       "      <td>apple</td>\n",
       "    </tr>\n",
       "    <tr>\n",
       "      <th>2</th>\n",
       "      <td>green</td>\n",
       "      <td>10</td>\n",
       "      <td>watermelon</td>\n",
       "    </tr>\n",
       "    <tr>\n",
       "      <th>3</th>\n",
       "      <td>yellow</td>\n",
       "      <td>6</td>\n",
       "      <td>banana</td>\n",
       "    </tr>\n",
       "    <tr>\n",
       "      <th>4</th>\n",
       "      <td>yellow</td>\n",
       "      <td>6</td>\n",
       "      <td>mango</td>\n",
       "    </tr>\n",
       "  </tbody>\n",
       "</table>\n",
       "</div>"
      ],
      "text/plain": [
       "    color  weight       fruit\n",
       "0   green       2       grape\n",
       "1     red       5       apple\n",
       "2   green      10  watermelon\n",
       "3  yellow       6      banana\n",
       "4  yellow       6       mango"
      ]
     },
     "execution_count": 6,
     "metadata": {},
     "output_type": "execute_result"
    }
   ],
   "source": [
    "# fruit is dependent variable and color, weight are independent \n",
    "toy_data"
   ]
  },
  {
   "cell_type": "markdown",
   "metadata": {},
   "source": [
    "Observe that data is not perfectly separable, i.e. index 3 and 4 have same features but different labels. This was done intensionally to understand how tree handles this case"
   ]
  },
  {
   "cell_type": "code",
   "execution_count": 4,
   "metadata": {},
   "outputs": [],
   "source": [
    "class Node:\n",
    "    def __init__(self, data, left, right):\n",
    "        self.data = data\n",
    "        self.left = left\n",
    "        self.right = right"
   ]
  },
  {
   "cell_type": "code",
   "execution_count": 21,
   "metadata": {},
   "outputs": [],
   "source": [
    "class DecisionTree:\n",
    "    def __init__(self):\n",
    "        pass\n",
    "    \n",
    "    def find_best_split(data):\n",
    "        \"\"\"\n",
    "        data: list of list. each list row vector\n",
    "        \"\"\"\n",
    "        # for given feature in argument\n",
    "        # take uniq and sort the feature values\n",
    "        # iterate through feature values and calls impurity each\n",
    "        # calls information gain. if information gain is better than current best information gain, \n",
    "        # update split val and current information gain\n",
    "        # \n",
    "        # check if is_leaf. don't split\n",
    "        \n",
    "        best_gain_sofar = 0\n",
    "        best_feature = None\n",
    "        best_split_val = None\n",
    "        current_impurity = impurity()\n",
    "        n_features = len(self.data)\n",
    "        \n",
    "        for col in range(n_features):\n",
    "            # uniq val in this column. \n",
    "            uniq_vals = np.unique(self.data[col])\n",
    "            \n",
    "            for val in uniq_vals:\n",
    "                \n",
    "                # try splitting over this val\n",
    "                pass\n",
    "                \n",
    "            \n",
    "            \n",
    "        \n",
    "        \n",
    "    def partition(all_rows, split_idx, split_val):\n",
    "        \" partition the data with given condition. return true rows and false rows\"\n",
    "        true_vals = [], false_vals = []\n",
    "        \n",
    "        if isinstance(split_val, int) or isinstance(split_val, float):\n",
    "            true_vals = [d for d in column_list if d >= split_val]\n",
    "        else: # if categorical var\n",
    "            true_vals = [d for d in column_list if d == split_val]\n",
    "        false_vals = [d for d in column_list if d not in true_vals]  # all columns_list left not taken\n",
    "        return true_vals, false_vals\n",
    "    \n",
    "    def question():\n",
    "        pass\n",
    "            \n",
    "    \n",
    "    def impurity(ys_left, ys_right):\n",
    "        \" sum of variance of 2 nodes \"\n",
    "        pass\n",
    "    \n",
    "    def information_gain():\n",
    "        pass\n",
    "    \n",
    "    def is_leaf():\n",
    "        # used stopping condition\n",
    "        pass"
   ]
  },
  {
   "cell_type": "code",
   "execution_count": null,
   "metadata": {},
   "outputs": [],
   "source": []
  },
  {
   "cell_type": "markdown",
   "metadata": {},
   "source": [
    "## Unit tests"
   ]
  },
  {
   "cell_type": "code",
   "execution_count": 31,
   "metadata": {},
   "outputs": [],
   "source": [
    "def partition(column_list, split_val):\n",
    "    \" partition the data with given condition. return true rows and false rows\"\n",
    "\n",
    "    if isinstance(split_val, int) or isinstance(split_val, float):\n",
    "        true_vals = [d for d in column_list if d >= split_val]\n",
    "    else: # if categorical var\n",
    "        true_vals = [d for d in column_list if d == split_val]\n",
    "\n",
    "    false_vals = [d for d in column_list if d not in true_vals]  # all columns_list left not taken\n",
    "\n",
    "    return true_vals, false_vals"
   ]
  },
  {
   "cell_type": "code",
   "execution_count": 32,
   "metadata": {},
   "outputs": [],
   "source": [
    "# test partition\n",
    "col_list = [1,2,3,4,5,5,12,2,3]\n",
    "split_val = 4\n",
    "true_vals, false_vals = partition(col_list, split_val)"
   ]
  },
  {
   "cell_type": "code",
   "execution_count": 33,
   "metadata": {},
   "outputs": [
    {
     "data": {
      "text/plain": [
       "([4, 5, 5, 12], [1, 2, 3, 2, 3])"
      ]
     },
     "execution_count": 33,
     "metadata": {},
     "output_type": "execute_result"
    }
   ],
   "source": [
    "true_vals, false_vals"
   ]
  },
  {
   "cell_type": "code",
   "execution_count": 38,
   "metadata": {},
   "outputs": [],
   "source": [
    "# test partition for cat var\n",
    "col_list = [\"apple\",\"banana\",\"banana\", \"mango\"]\n",
    "split_val = \"banana\"\n",
    "true_vals, false_vals = partition(col_list, split_val)"
   ]
  },
  {
   "cell_type": "code",
   "execution_count": 39,
   "metadata": {},
   "outputs": [
    {
     "data": {
      "text/plain": [
       "(['banana', 'banana'], ['apple', 'mango'])"
      ]
     },
     "execution_count": 39,
     "metadata": {},
     "output_type": "execute_result"
    }
   ],
   "source": [
    "true_vals, false_vals"
   ]
  },
  {
   "cell_type": "code",
   "execution_count": null,
   "metadata": {},
   "outputs": [],
   "source": []
  }
 ],
 "metadata": {
  "kernelspec": {
   "display_name": "Python 3",
   "language": "python",
   "name": "python3"
  },
  "language_info": {
   "codemirror_mode": {
    "name": "ipython",
    "version": 3
   },
   "file_extension": ".py",
   "mimetype": "text/x-python",
   "name": "python",
   "nbconvert_exporter": "python",
   "pygments_lexer": "ipython3",
   "version": "3.7.0"
  },
  "toc": {
   "base_numbering": 1,
   "nav_menu": {},
   "number_sections": true,
   "sideBar": true,
   "skip_h1_title": false,
   "title_cell": "Table of Contents",
   "title_sidebar": "Contents",
   "toc_cell": false,
   "toc_position": {},
   "toc_section_display": true,
   "toc_window_display": false
  }
 },
 "nbformat": 4,
 "nbformat_minor": 2
}
