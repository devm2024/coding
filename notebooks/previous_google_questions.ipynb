{
 "cells": [
  {
   "cell_type": "markdown",
   "metadata": {},
   "source": [
    "* https://www.impactinterview.com/2009/10/140-google-interview-questions/\n",
    "* https://javarevisited.blogspot.com/2012/01/google-interview-questions-answers-top.html\n",
    "* https://careercup.com/\n",
    "* https://www.geeksforgeeks.org/must-do-coding-questions-for-companies-like-amazon-microsoft-adobe/"
   ]
  },
  {
   "cell_type": "markdown",
   "metadata": {},
   "source": [
    "Prof: Tim Roughgarden's Algorithms class @ Stanford and parts of Prof. Erik Demain's class on Advanced data structures. @ mit"
   ]
  },
  {
   "cell_type": "markdown",
   "metadata": {},
   "source": [
    "* given set of characters duplicates possible, and given dictionary (list of words). Find longest word from dictionary that can be made from given characters. How will you do it if '*' (matches one wild character) is also included?\n",
    "\n",
    "* write a class to define a deck of cards, and write shuffle function for the cards.\n",
    "\n",
    "* Given a function which produces a random integer in the range 1 to 5, write a function which produces a random integer in the range 1 to 7.\n",
    "\n",
    "* Describe the algorithm for a depth-first graph traversal.\n",
    "\n",
    "* Suppose you have an NxN matrix of positive and negative integers. Write some code that finds the sub-matrix with the maximum sum of its elements.\n",
    "\n",
    "* Write some code to reverse a string.\n",
    "\n",
    "* You have given two lists L1 and L2 write an algorithm to see if both the lists are equivalent or not?\n",
    "\n",
    "* You have two sorted arrays, where each element is an interval. Now, merge the two array, overlapping intervals can be merged as a single one. "
   ]
  },
  {
   "cell_type": "markdown",
   "metadata": {},
   "source": [
    "### Given a string S and a set of words D, find the longest word in D that is a subsequence of S.\n",
    "\n",
    "\n",
    "Word W is a subsequence of S if some number of characters, possibly zero, can be deleted from S to form W, without reordering the remaining characters.\n",
    "\n",
    "Note: D can appear in any format (list, hash table, prefix tree, etc.\n",
    "\n"
   ]
  },
  {
   "cell_type": "markdown",
   "metadata": {},
   "source": [
    "https://techdevguide.withgoogle.com/resources/find-longest-word-in-dictionary-that-subsequence-of-given-string/"
   ]
  },
  {
   "cell_type": "code",
   "execution_count": 6,
   "metadata": {},
   "outputs": [],
   "source": [
    "D = {\"able\", \"ale\", \"apple\", \"bale\", \"kangaroo\"}"
   ]
  },
  {
   "cell_type": "code",
   "execution_count": 7,
   "metadata": {},
   "outputs": [],
   "source": [
    "S = \"abppplee\""
   ]
  },
  {
   "cell_type": "markdown",
   "metadata": {},
   "source": [
    "#### function that first checks if one word is subsequence of the other key word"
   ]
  },
  {
   "cell_type": "code",
   "execution_count": 8,
   "metadata": {},
   "outputs": [],
   "source": [
    "def check_subseq(sub, word):\n",
    "    j=0\n",
    "    i=0\n",
    "    while(j<len(sub)):\n",
    "        if i == len(word): return True\n",
    "        \n",
    "        if word[i] != sub[j] :  # char not match, move to next subseq char, but stay at this word char\n",
    "            j+=1                \n",
    "        elif word[i] == sub[j]:  # char match, then move to next chars in both\n",
    "            j+=1 \n",
    "            i+=1\n",
    "    return False\n",
    "\n",
    "# time complexity: O(len(sub))"
   ]
  },
  {
   "cell_type": "code",
   "execution_count": 9,
   "metadata": {},
   "outputs": [
    {
     "data": {
      "text/plain": [
       "True"
      ]
     },
     "execution_count": 9,
     "metadata": {},
     "output_type": "execute_result"
    }
   ],
   "source": [
    "check_subseq('abppplee', 'apple')"
   ]
  },
  {
   "cell_type": "code",
   "execution_count": 10,
   "metadata": {},
   "outputs": [
    {
     "data": {
      "text/plain": [
       "False"
      ]
     },
     "execution_count": 10,
     "metadata": {},
     "output_type": "execute_result"
    }
   ],
   "source": [
    "check_subseq('abppplee', 'bale')"
   ]
  },
  {
   "cell_type": "markdown",
   "metadata": {},
   "source": [
    "#### get all `true` subseq from D and get one with max len"
   ]
  },
  {
   "cell_type": "code",
   "execution_count": 11,
   "metadata": {},
   "outputs": [],
   "source": [
    "def find_max_len_word(S,D):\n",
    "    max_len = 0\n",
    "    for w in D:\n",
    "        if check_subseq(S,w):\n",
    "            if len(w) > max_len:\n",
    "                max_len = len(w)\n",
    "                max_len_word = w\n",
    "    return max_len_word\n",
    "\n",
    "# time complexity: O(len(sub).(words in dict))"
   ]
  },
  {
   "cell_type": "code",
   "execution_count": 12,
   "metadata": {},
   "outputs": [
    {
     "data": {
      "text/plain": [
       "'apple'"
      ]
     },
     "execution_count": 12,
     "metadata": {},
     "output_type": "execute_result"
    }
   ],
   "source": [
    "find_max_len_word(S,D)"
   ]
  },
  {
   "cell_type": "markdown",
   "metadata": {},
   "source": [
    "#### Optimizing it\n",
    "* Can add little bit of optimization in above by sorting words in D with length and exiting loop when match is found. But overall time complexity will remain same\n",
    "* The above algo will perform well for cases where all words are of length close to substring length as it is independent of len(word). But it is far from optimal for cases where word lenghts are <<< len(substring)\n",
    "* We can make it `O(len(S) + total chars for all words in vocab)` by using dictionary. the fact that word in substring can be searched on O(1) with dictionary DS"
   ]
  },
  {
   "cell_type": "code",
   "execution_count": 13,
   "metadata": {},
   "outputs": [
    {
     "data": {
      "text/plain": [
       "{'a': 0, 'b': 1, 'p': 4, 'l': 5, 'e': 7}"
      ]
     },
     "execution_count": 13,
     "metadata": {},
     "output_type": "execute_result"
    }
   ],
   "source": [
    "{v:k for k,v in enumerate(S)}"
   ]
  },
  {
   "cell_type": "code",
   "execution_count": 14,
   "metadata": {},
   "outputs": [],
   "source": [
    "from collections import defaultdict"
   ]
  },
  {
   "cell_type": "code",
   "execution_count": 15,
   "metadata": {},
   "outputs": [],
   "source": [
    "sub_map = defaultdict(list)\n",
    "for k,v in enumerate(S):\n",
    "    sub_map[v].append(k)"
   ]
  },
  {
   "cell_type": "code",
   "execution_count": 16,
   "metadata": {
    "scrolled": true
   },
   "outputs": [
    {
     "data": {
      "text/plain": [
       "defaultdict(list, {'a': [0], 'b': [1], 'p': [2, 3, 4], 'l': [5], 'e': [6, 7]})"
      ]
     },
     "execution_count": 16,
     "metadata": {},
     "output_type": "execute_result"
    }
   ],
   "source": [
    "sub_map"
   ]
  },
  {
   "cell_type": "code",
   "execution_count": 17,
   "metadata": {},
   "outputs": [
    {
     "data": {
      "text/plain": [
       "0"
      ]
     },
     "execution_count": 17,
     "metadata": {},
     "output_type": "execute_result"
    }
   ],
   "source": [
    "len([])"
   ]
  },
  {
   "cell_type": "code",
   "execution_count": 18,
   "metadata": {},
   "outputs": [],
   "source": [
    "def check_subseq_hash(sub, word):\n",
    "    prev_idx = 0\n",
    "    for w in word:\n",
    "        if sub_map[w]:\n",
    "            match = sub_map[w]\n",
    "            if len(match) > 0: idx = match[0] # get first value from list (list is sorted)\n",
    "            else: return False  # empty list\n",
    "            \n",
    "            sub_map[w].remove(idx)  # remove the index now\n",
    "            \n",
    "            if idx < prev_idx:\n",
    "                return False\n",
    "            else: prev_idx = idx\n",
    "        else: return False # false if char not found in substr\n",
    "    return True # true if loop completes successfully \n",
    "             \n",
    "\n",
    "# time complexity: O(len(word))"
   ]
  },
  {
   "cell_type": "code",
   "execution_count": 19,
   "metadata": {},
   "outputs": [
    {
     "data": {
      "text/plain": [
       "True"
      ]
     },
     "execution_count": 19,
     "metadata": {},
     "output_type": "execute_result"
    }
   ],
   "source": [
    "check_subseq_hash('abppplee', 'apple')"
   ]
  },
  {
   "cell_type": "code",
   "execution_count": 20,
   "metadata": {},
   "outputs": [
    {
     "data": {
      "text/plain": [
       "False"
      ]
     },
     "execution_count": 20,
     "metadata": {},
     "output_type": "execute_result"
    }
   ],
   "source": [
    "check_subseq_hash('abppplee', 'bale')"
   ]
  },
  {
   "cell_type": "markdown",
   "metadata": {},
   "source": [
    "This code is wrong. Doesn't work for below case. The below case is actually substring. \"apple\" is there "
   ]
  },
  {
   "cell_type": "code",
   "execution_count": 22,
   "metadata": {},
   "outputs": [
    {
     "data": {
      "text/plain": [
       "False"
      ]
     },
     "execution_count": 22,
     "metadata": {},
     "output_type": "execute_result"
    }
   ],
   "source": [
    "check_subseq_hash(\"aesf02q3012moaspq1e2sppesdfle\", \"apple\")"
   ]
  },
  {
   "cell_type": "markdown",
   "metadata": {},
   "source": [
    "#### if '*' (matches one wild character) is also included, then we can use DP to match substring with words"
   ]
  },
  {
   "cell_type": "markdown",
   "metadata": {},
   "source": [
    "### Write a class to define a deck of cards, and write shuffle function for the cards."
   ]
  },
  {
   "cell_type": "code",
   "execution_count": 73,
   "metadata": {},
   "outputs": [],
   "source": [
    "ar = range(1,53)"
   ]
  },
  {
   "cell_type": "code",
   "execution_count": 76,
   "metadata": {},
   "outputs": [],
   "source": [
    "import numpy as np"
   ]
  },
  {
   "cell_type": "code",
   "execution_count": 78,
   "metadata": {},
   "outputs": [
    {
     "data": {
      "text/plain": [
       "array([38,  5, 30, 44, 34, 24, 52, 50, 31,  7, 35,  3, 41, 16, 21, 19, 29,\n",
       "       45, 10, 20, 17, 28,  8, 48,  4, 39, 26, 51, 23, 14, 40, 15, 13, 32,\n",
       "       18,  1, 47, 49, 36, 42, 33, 12, 37, 27,  2, 25, 22, 43, 46, 11,  9,\n",
       "        6])"
      ]
     },
     "execution_count": 78,
     "metadata": {},
     "output_type": "execute_result"
    }
   ],
   "source": [
    "np.random.permutation(ar)"
   ]
  },
  {
   "cell_type": "markdown",
   "metadata": {},
   "source": [
    "### Find word squares"
   ]
  },
  {
   "cell_type": "markdown",
   "metadata": {},
   "source": [
    "A “word square” is an ordered sequence of K different words of length K that, when written one word per line, reads the same horizontally and vertically. For example:"
   ]
  },
  {
   "cell_type": "code",
   "execution_count": 79,
   "metadata": {},
   "outputs": [],
   "source": [
    "words = ['BALL', 'AREA', 'LEAD', 'LADY']"
   ]
  },
  {
   "cell_type": "markdown",
   "metadata": {},
   "source": [
    "#### Brute force - for loops"
   ]
  },
  {
   "cell_type": "code",
   "execution_count": 94,
   "metadata": {},
   "outputs": [],
   "source": [
    "def check_word_sq(words):\n",
    "    v=0\n",
    "    for i,word in enumerate(words):\n",
    "        if word == ''.join([w[i] for w in words]):\n",
    "            v+=1\n",
    "    if v == len(words): return True\n",
    "    return False\n",
    "\n",
    "# time complexity is O(k^2), space = O(1)"
   ]
  },
  {
   "cell_type": "code",
   "execution_count": 95,
   "metadata": {},
   "outputs": [
    {
     "data": {
      "text/plain": [
       "True"
      ]
     },
     "execution_count": 95,
     "metadata": {},
     "output_type": "execute_result"
    }
   ],
   "source": [
    "check_word_sq(words)"
   ]
  },
  {
   "cell_type": "markdown",
   "metadata": {},
   "source": [
    "#### Second, given an arbitrary list of words, return all the possible word squares it contains. Reordering is allowed."
   ]
  },
  {
   "cell_type": "code",
   "execution_count": 96,
   "metadata": {},
   "outputs": [],
   "source": [
    "word_list = ['AREA', 'BALL', 'DEAR', 'LADY', 'LEAD', 'YARD']"
   ]
  },
  {
   "cell_type": "markdown",
   "metadata": {},
   "source": [
    "can find all combinations by brute force and check each combination whether word square or not. Brute force problem boils down to finding all possible indexes of len(k) from total n words. \n",
    "\n",
    "Simplest way is to do this in k for loops. i.e `n^k` time complexity, which is really bad (`for i in range(n-k), for j in range(i+1,n-k+1), for k in range(j+1, n-k+2) ....`)  \n",
    "\n",
    "This can be improved with `recursion` and can be done in `nCk.k!` time (i.e find all combinations of k words and shuffle them)"
   ]
  },
  {
   "cell_type": "code",
   "execution_count": 148,
   "metadata": {},
   "outputs": [],
   "source": [
    "from itertools import permutations"
   ]
  },
  {
   "cell_type": "code",
   "execution_count": 156,
   "metadata": {},
   "outputs": [],
   "source": [
    "perms = permutations(range(6),4)"
   ]
  },
  {
   "cell_type": "code",
   "execution_count": 157,
   "metadata": {},
   "outputs": [
    {
     "data": {
      "text/plain": [
       "360"
      ]
     },
     "execution_count": 157,
     "metadata": {},
     "output_type": "execute_result"
    }
   ],
   "source": [
    "len(list(perms))"
   ]
  },
  {
   "cell_type": "code",
   "execution_count": 46,
   "metadata": {},
   "outputs": [],
   "source": [
    "def permutations(st, pre):\n",
    "    if len(st) == 0:\n",
    "        print(pre)\n",
    "    for i in range(len(st)):\n",
    "        r = st[:i] + st[i+1:]\n",
    "        permutations(r, pre+st[i])    "
   ]
  },
  {
   "cell_type": "code",
   "execution_count": 49,
   "metadata": {},
   "outputs": [
    {
     "name": "stdout",
     "output_type": "stream",
     "text": [
      "abc\n",
      "acb\n",
      "bac\n",
      "bca\n",
      "cab\n",
      "cba\n"
     ]
    }
   ],
   "source": [
    "permutations(\"abc\",\"\")"
   ]
  },
  {
   "cell_type": "code",
   "execution_count": 57,
   "metadata": {},
   "outputs": [],
   "source": [
    "def permutatations(lst):\n",
    "    if len(lst) == 0:\n",
    "        return []\n",
    "    elif len(lst) == 1:\n",
    "        return [lst]\n",
    "    else:  # do permutations in all other except current one\n",
    "        out = []\n",
    "        for i in range(len(lst)):\n",
    "            x=lst[i]\n",
    "            xs=lst[:i]+lst[i+1:]\n",
    "            for p in permutatations(xs):\n",
    "                print(p)\n",
    "                out.append([x]+list(p))\n",
    "        return out"
   ]
  },
  {
   "cell_type": "code",
   "execution_count": 59,
   "metadata": {},
   "outputs": [
    {
     "name": "stdout",
     "output_type": "stream",
     "text": [
      "['c']\n",
      "['b']\n",
      "['b', 'c']\n",
      "['c', 'b']\n",
      "['c']\n",
      "['a']\n",
      "['a', 'c']\n",
      "['c', 'a']\n",
      "['b']\n",
      "['a']\n",
      "['a', 'b']\n",
      "['b', 'a']\n",
      "[['a', 'b', 'c'], ['a', 'c', 'b'], ['b', 'a', 'c'], ['b', 'c', 'a'], ['c', 'a', 'b'], ['c', 'b', 'a']]\n"
     ]
    }
   ],
   "source": [
    "out = permutatations(list('abc'))\n",
    "print(out)"
   ]
  },
  {
   "cell_type": "code",
   "execution_count": 68,
   "metadata": {},
   "outputs": [],
   "source": [
    "def combinations(k,available,used):\n",
    "    if len(used) == k:\n",
    "        print(used)\n",
    "    elif len(available) == 0:\n",
    "        pass\n",
    "    else:\n",
    "        head = available.pop(0)\n",
    "        used.append(head)\n",
    "        combinations(k,available[:],used[:])\n",
    "        used.pop()\n",
    "        combinations(k,available[:],used[:])"
   ]
  },
  {
   "cell_type": "code",
   "execution_count": 69,
   "metadata": {},
   "outputs": [
    {
     "name": "stdout",
     "output_type": "stream",
     "text": [
      "['AREA', 'BALL']\n",
      "['AREA', 'DEAR']\n",
      "['AREA', 'LADY']\n",
      "['BALL', 'DEAR']\n",
      "['BALL', 'LADY']\n",
      "['DEAR', 'LADY']\n"
     ]
    }
   ],
   "source": [
    "combinations(2,['AREA', 'BALL', 'DEAR', 'LADY'],[])"
   ]
  },
  {
   "cell_type": "code",
   "execution_count": 141,
   "metadata": {},
   "outputs": [],
   "source": [
    "import collections\n",
    "import sys\n",
    "\n",
    "def find_word_squares(words):\n",
    "    # Preprocess words: O(#words * word-length) time and space\n",
    "    words_by_letter_position = collections.defaultdict(set)\n",
    "    for word in words:\n",
    "        for index, letter in enumerate(word):\n",
    "            words_by_letter_position[(index,letter)].add(word)\n",
    "    # For each word, see if we can make a square.  O(#words * word-length^2/2)\n",
    "    # for speed, assuming that set intersection is ~O(1) for small sets.\n",
    "    # Worst-case storage is O(#words * word-length) for very very contrived\n",
    "    # 'words'.  Normal English words will result in much smaller storage demand;\n",
    "    # there is a practical maximum of ~170,000 English words.\n",
    "    for word in words:\n",
    "        # Initialize a set of incomplete possible squares; each item is an N-tuple\n",
    "        # of words that are valid but incomplete word squares.  We could also do\n",
    "        # depth-first via recursion/generators, but this approach is a little\n",
    "        # simpler to read top-to-bottom.\n",
    "        possible_squares = set([(word,)])\n",
    "        # As long as we have any incomplete squares:\n",
    "        while possible_squares:\n",
    "            print('possible_squares:', possible_squares)\n",
    "            square = possible_squares.pop()\n",
    "            # When matching an incomplete square with N words already present,\n",
    "            # we need to match any prospective words to the tuples formed by\n",
    "            # (N, Nth character in word 0), (N, Nth character in word 1), ...\n",
    "            # Only words which satisfy all of those restrictions can be added.\n",
    "            keys = [(i, square[i][len(square)]) for i in range(len(square))]\n",
    "            print('keys:', keys)\n",
    "            possible_matches = [words_by_letter_position[key] for key in keys]\n",
    "            print('possible_matches:', possible_matches)\n",
    "            for valid_word in set.intersection(*possible_matches):\n",
    "                valid_square = square + (valid_word,)\n",
    "                print('valid_square:', valid_square)\n",
    "                # Save valid square in 'ret' if it's complete, or save it as\n",
    "                # a work-to-do item if it's not.\n",
    "                if len(valid_square) == len(word):\n",
    "                    yield valid_square\n",
    "                else:\n",
    "                    possible_squares.add(valid_square)"
   ]
  },
  {
   "cell_type": "code",
   "execution_count": 142,
   "metadata": {},
   "outputs": [],
   "source": [
    "words_by_letter_position = collections.defaultdict(set)\n",
    "for word in word_list:\n",
    "    for index, letter in enumerate(word):\n",
    "        words_by_letter_position[(index,letter)].add(word)"
   ]
  },
  {
   "cell_type": "code",
   "execution_count": 143,
   "metadata": {},
   "outputs": [
    {
     "data": {
      "text/plain": [
       "defaultdict(set,\n",
       "            {(0, 'A'): {'AREA'},\n",
       "             (1, 'R'): {'AREA'},\n",
       "             (2, 'E'): {'AREA'},\n",
       "             (3, 'A'): {'AREA'},\n",
       "             (0, 'B'): {'BALL'},\n",
       "             (1, 'A'): {'BALL', 'LADY', 'YARD'},\n",
       "             (2, 'L'): {'BALL'},\n",
       "             (3, 'L'): {'BALL'},\n",
       "             (0, 'D'): {'DEAR'},\n",
       "             (1, 'E'): {'DEAR', 'LEAD'},\n",
       "             (2, 'A'): {'DEAR', 'LEAD'},\n",
       "             (3, 'R'): {'DEAR'},\n",
       "             (0, 'L'): {'LADY', 'LEAD'},\n",
       "             (2, 'D'): {'LADY'},\n",
       "             (3, 'Y'): {'LADY'},\n",
       "             (3, 'D'): {'LEAD', 'YARD'},\n",
       "             (0, 'Y'): {'YARD'},\n",
       "             (2, 'R'): {'YARD'}})"
      ]
     },
     "execution_count": 143,
     "metadata": {},
     "output_type": "execute_result"
    }
   ],
   "source": [
    "words_by_letter_position"
   ]
  },
  {
   "cell_type": "code",
   "execution_count": 147,
   "metadata": {},
   "outputs": [
    {
     "name": "stdout",
     "output_type": "stream",
     "text": [
      "possible_squares: {('AREA',)}\n",
      "keys: [(0, 'R')]\n",
      "possible_matches: [set()]\n",
      "possible_squares: {('BALL',)}\n",
      "keys: [(0, 'A')]\n",
      "possible_matches: [{'AREA'}]\n",
      "valid_square: ('BALL', 'AREA')\n",
      "possible_squares: {('BALL', 'AREA')}\n",
      "keys: [(0, 'L'), (1, 'E')]\n",
      "possible_matches: [{'LEAD', 'LADY'}, {'DEAR', 'LEAD'}]\n",
      "valid_square: ('BALL', 'AREA', 'LEAD')\n",
      "possible_squares: {('BALL', 'AREA', 'LEAD')}\n",
      "keys: [(0, 'L'), (1, 'A'), (2, 'D')]\n",
      "possible_matches: [{'LEAD', 'LADY'}, {'YARD', 'LADY', 'BALL'}, {'LADY'}]\n",
      "valid_square: ('BALL', 'AREA', 'LEAD', 'LADY')\n",
      "BALL AREA LEAD LADY \n",
      "\n",
      "possible_squares: {('DEAR',)}\n",
      "keys: [(0, 'E')]\n",
      "possible_matches: [set()]\n",
      "possible_squares: {('LADY',)}\n",
      "keys: [(0, 'A')]\n",
      "possible_matches: [{'AREA'}]\n",
      "valid_square: ('LADY', 'AREA')\n",
      "possible_squares: {('LADY', 'AREA')}\n",
      "keys: [(0, 'D'), (1, 'E')]\n",
      "possible_matches: [{'DEAR'}, {'DEAR', 'LEAD'}]\n",
      "valid_square: ('LADY', 'AREA', 'DEAR')\n",
      "possible_squares: {('LADY', 'AREA', 'DEAR')}\n",
      "keys: [(0, 'Y'), (1, 'A'), (2, 'R')]\n",
      "possible_matches: [{'YARD'}, {'YARD', 'LADY', 'BALL'}, {'YARD'}]\n",
      "valid_square: ('LADY', 'AREA', 'DEAR', 'YARD')\n",
      "LADY AREA DEAR YARD \n",
      "\n",
      "possible_squares: {('LEAD',)}\n",
      "keys: [(0, 'E')]\n",
      "possible_matches: [set()]\n",
      "possible_squares: {('YARD',)}\n",
      "keys: [(0, 'A')]\n",
      "possible_matches: [{'AREA'}]\n",
      "valid_square: ('YARD', 'AREA')\n",
      "possible_squares: {('YARD', 'AREA')}\n",
      "keys: [(0, 'R'), (1, 'E')]\n",
      "possible_matches: [set(), {'DEAR', 'LEAD'}]\n"
     ]
    }
   ],
   "source": [
    "for square in find_word_squares(word_list):\n",
    "    print(' '.join(square),'\\n')"
   ]
  },
  {
   "cell_type": "markdown",
   "metadata": {},
   "source": [
    "### Decompress a compressed string.\n",
    "https://techdevguide.withgoogle.com/resources/compress-decompression/?programming_languages=python&types=coding-interview-question#!\n",
    "\n",
    "Your input is a compressed string of the format number[string] and the decompressed output form should be the string written number times. For example:\n",
    "\n",
    "The input\n",
    "\n",
    "3[abc]4[ab]c\n",
    "\n",
    "Would be output as\n",
    "\n",
    "abcabcabcababababc"
   ]
  },
  {
   "cell_type": "code",
   "execution_count": 73,
   "metadata": {},
   "outputs": [],
   "source": [
    "import sys"
   ]
  },
  {
   "cell_type": "code",
   "execution_count": 121,
   "metadata": {},
   "outputs": [],
   "source": [
    "def decompress_str(compress_st, start=0, times=1):\n",
    "    \n",
    "    for _ in range(times):\n",
    "        i = start\n",
    "\n",
    "        # stop this thing at the end or at encounter of ]\n",
    "        while i<len(compress_st) and compress_st[i] != ']':\n",
    "\n",
    "            # start with either letter or number\n",
    "            # if letter\n",
    "            if compress_st[i].islower():\n",
    "                yield compress_st[i]\n",
    "                \n",
    "            else:\n",
    "                # number can be more than 1 digits. \n",
    "                sub_times=0\n",
    "                while compress_st[i].isdigit():\n",
    "                    sub_times = sub_times*10+ int(compress_st[i])\n",
    "                    i+=1\n",
    "                i+=1 # start of [. so skipping one more i\n",
    "\n",
    "                # run recursive operation if an int is found \n",
    "                for item in decompress_str(compress_st, start=i,times=sub_times):\n",
    "#                     print(item)\n",
    "#                     yield item\n",
    "                    if isinstance(item, str):\n",
    "                        yield item\n",
    "                    else:\n",
    "                        i=item \n",
    "            i+=1\n",
    "            \n",
    "#     index of ] or the end\n",
    "    if start>0:\n",
    "        yield i"
   ]
  },
  {
   "cell_type": "code",
   "execution_count": 122,
   "metadata": {},
   "outputs": [],
   "source": [
    "compress_st = '2[2[bc]a]]'"
   ]
  },
  {
   "cell_type": "code",
   "execution_count": 123,
   "metadata": {},
   "outputs": [
    {
     "name": "stdout",
     "output_type": "stream",
     "text": [
      "bcbcabcbca"
     ]
    }
   ],
   "source": [
    "for letter in decompress_str(compress_st):\n",
    "    sys.stdout.write(letter)"
   ]
  },
  {
   "cell_type": "markdown",
   "metadata": {},
   "source": [
    "### Describe the algorithm for a depth-first and breadth-first graph traversal."
   ]
  },
  {
   "cell_type": "markdown",
   "metadata": {},
   "source": [
    "Differerence b/w graph and tree is that graph can contains cycles and thus we definitely need `is_visited` function so that we don't get stuck in infinite loop.  \n",
    "\n",
    "2 main things to keep in mind for DFT algo in graph: \n",
    "* need `is_visited`. therefore initialize with all `is_visited=False`\n",
    "* go to children of children ... before going to neighbours"
   ]
  },
  {
   "cell_type": "code",
   "execution_count": 515,
   "metadata": {},
   "outputs": [],
   "source": [
    "from collections import defaultdict\n",
    "\n",
    "class Graph:\n",
    "    def __init__(self):\n",
    "        self.graph = defaultdict(list)  # format 0: [1,2], node 0 points to node 1 and 2\n",
    "        \n",
    "    def add_edge(self,u,v):\n",
    "        self.graph[u].append(v)\n",
    "        \n",
    "    def dft_util(self,cur_node,is_visited):\n",
    "        \"\"\"\n",
    "        we use 'stack' for this\n",
    "        \"\"\"\n",
    "        is_visited[cur_node] = True  # current node is visited\n",
    "        print(cur_node)\n",
    "        \n",
    "        for node in self.graph[cur_node]:\n",
    "            print('->',cur_node,node)\n",
    "            if not is_visited[node]:\n",
    "                self.dft_util(node,is_visited)\n",
    "    \n",
    "    def dft(self,start_node):\n",
    "        is_visited = [False]*(len(self.graph))  \n",
    "        self.dft_util(start_node, is_visited)\n",
    "        \n",
    "    def bft(self,s):\n",
    "        \"\"\"\n",
    "        for this we use 'queue' ds\n",
    "        \"\"\"\n",
    "        is_visited = [False]*len(self.graph)\n",
    "        q = []\n",
    "        q.append(s)\n",
    "        is_visited[s] = True \n",
    "        \n",
    "        while q:\n",
    "            s = q.pop(0)\n",
    "            print(s)\n",
    "            for i in self.graph[s]:\n",
    "                if is_visited[i]==False:\n",
    "                    q.append(i)\n",
    "                    is_visited[i] = True"
   ]
  },
  {
   "cell_type": "code",
   "execution_count": 516,
   "metadata": {},
   "outputs": [],
   "source": [
    "gr = Graph()"
   ]
  },
  {
   "cell_type": "code",
   "execution_count": 517,
   "metadata": {},
   "outputs": [],
   "source": [
    "gr.add_edge(0,1)\n",
    "gr.add_edge(0,2)\n",
    "gr.add_edge(1,2)\n",
    "gr.add_edge(2,0)\n",
    "gr.add_edge(2,3)\n",
    "gr.add_edge(3,3)"
   ]
  },
  {
   "cell_type": "code",
   "execution_count": 518,
   "metadata": {},
   "outputs": [
    {
     "name": "stdout",
     "output_type": "stream",
     "text": [
      "2\n",
      "0\n",
      "3\n",
      "1\n"
     ]
    }
   ],
   "source": [
    "gr.bft(2)"
   ]
  },
  {
   "cell_type": "code",
   "execution_count": 519,
   "metadata": {},
   "outputs": [
    {
     "name": "stdout",
     "output_type": "stream",
     "text": [
      "2\n",
      "-> 2 0\n",
      "0\n",
      "-> 0 1\n",
      "1\n",
      "-> 1 2\n",
      "-> 0 2\n",
      "-> 2 3\n",
      "3\n",
      "-> 3 3\n"
     ]
    }
   ],
   "source": [
    "gr.dft(2)"
   ]
  },
  {
   "cell_type": "markdown",
   "metadata": {},
   "source": [
    "Both of the above algorithms work on for vertices which are connected ot each other, but not on disconnected components and time complexity for both is `O(Vertices+Edges)`. for it to work for disconnected components, run recursive functions for all vertices by by one rather than starting with vertex `v`"
   ]
  },
  {
   "cell_type": "markdown",
   "metadata": {},
   "source": [
    "### Given a function which produces a random integer in the range 1 to 5, write a function which produces a random integer in the range 1 to 7"
   ]
  },
  {
   "cell_type": "markdown",
   "metadata": {},
   "source": [
    "https://stackoverflow.com/questions/137783/expand-a-random-range-from-1-5-to-1-7"
   ]
  },
  {
   "cell_type": "code",
   "execution_count": 520,
   "metadata": {},
   "outputs": [],
   "source": [
    "import numpy as np\n",
    "import matplotlib.pyplot as plt"
   ]
  },
  {
   "cell_type": "code",
   "execution_count": 523,
   "metadata": {},
   "outputs": [],
   "source": [
    "def rand5():\n",
    "    return np.random.randint(1,5)"
   ]
  },
  {
   "cell_type": "code",
   "execution_count": 550,
   "metadata": {},
   "outputs": [],
   "source": [
    "M =[[ 1, 2, 3, 4, 5 ],[6, 7, 1, 2, 3],[4, 5, 6, 7, 1],[2, 3, 4, 5, 6],[7, 0, 0, 0, 0]]\n",
    "def rand7():\n",
    "    res=0\n",
    "    while res == 0:\n",
    "        i=rand5()\n",
    "        j=rand5()\n",
    "        res=M[i-1][j-1]\n",
    "    return res"
   ]
  },
  {
   "cell_type": "code",
   "execution_count": 553,
   "metadata": {},
   "outputs": [],
   "source": [
    "out = []\n",
    "for i in range(100000):\n",
    "    out.append(rand7())"
   ]
  },
  {
   "cell_type": "code",
   "execution_count": 554,
   "metadata": {},
   "outputs": [
    {
     "data": {
      "text/plain": [
       "(array([12609., 18810.,     0., 12492.,     0., 18649., 12395.,     0.,\n",
       "        12616., 12429.]),\n",
       " array([1. , 1.6, 2.2, 2.8, 3.4, 4. , 4.6, 5.2, 5.8, 6.4, 7. ]),\n",
       " <a list of 10 Patch objects>)"
      ]
     },
     "execution_count": 554,
     "metadata": {},
     "output_type": "execute_result"
    },
    {
     "data": {
      "image/png": "[encoded data removed]",
      "text/plain": [
       "<Figure size 432x288 with 1 Axes>"
      ]
     },
     "metadata": {},
     "output_type": "display_data"
    }
   ],
   "source": [
    "plt.hist(out)"
   ]
  },
  {
   "cell_type": "code",
   "execution_count": 557,
   "metadata": {},
   "outputs": [],
   "source": [
    "out = []\n",
    "for i in range(100000):\n",
    "    out.append(5 * (rand5() - 1) + rand5())"
   ]
  },
  {
   "cell_type": "code",
   "execution_count": 558,
   "metadata": {},
   "outputs": [
    {
     "data": {
      "text/plain": [
       "(array([12577., 12582.,  6243., 12373.,  6254.,  6266., 12429.,  6298.,\n",
       "        12585., 12393.]),\n",
       " array([ 1. ,  2.8,  4.6,  6.4,  8.2, 10. , 11.8, 13.6, 15.4, 17.2, 19. ]),\n",
       " <a list of 10 Patch objects>)"
      ]
     },
     "execution_count": 558,
     "metadata": {},
     "output_type": "execute_result"
    },
    {
     "data": {
      "image/png": "[encoded data removed]",
      "text/plain": [
       "<Figure size 432x288 with 1 Axes>"
      ]
     },
     "metadata": {},
     "output_type": "display_data"
    }
   ],
   "source": [
    "plt.hist(out)"
   ]
  },
  {
   "cell_type": "markdown",
   "metadata": {},
   "source": [
    "### Write some code to reverse a string."
   ]
  },
  {
   "cell_type": "code",
   "execution_count": 559,
   "metadata": {},
   "outputs": [],
   "source": [
    "st = 'whats your name'"
   ]
  },
  {
   "cell_type": "code",
   "execution_count": 560,
   "metadata": {},
   "outputs": [
    {
     "data": {
      "text/plain": [
       "'eman ruoy stahw'"
      ]
     },
     "execution_count": 560,
     "metadata": {},
     "output_type": "execute_result"
    }
   ],
   "source": [
    "st[::-1]"
   ]
  },
  {
   "cell_type": "code",
   "execution_count": 562,
   "metadata": {},
   "outputs": [
    {
     "data": {
      "text/plain": [
       "'eman ruoy stahw'"
      ]
     },
     "execution_count": 562,
     "metadata": {},
     "output_type": "execute_result"
    }
   ],
   "source": [
    "tmp = []\n",
    "for i in range(len(st)):\n",
    "    t=len(st)\n",
    "    tmp.append(st[t-i-1])\n",
    "''.join(tmp)\n",
    "\n",
    "# O(N)"
   ]
  },
  {
   "cell_type": "markdown",
   "metadata": {},
   "source": [
    "### Travelling Salesman Problem (TSP): \n",
    "Given a set of cities and distance between every pair of cities, the problem is to find the shortest possible route that visits every city exactly once and returns to the starting point."
   ]
  },
  {
   "cell_type": "markdown",
   "metadata": {},
   "source": [
    "https://www.geeksforgeeks.org/travelling-salesman-problem-set-1/"
   ]
  },
  {
   "cell_type": "markdown",
   "metadata": {},
   "source": [
    "Naive solution is to check all path permutations and pick one with smallest total path. there are total `(n-1)!` permutations as first and last are fixed. remaining any node combinations can occur. But this is O(n!) time complexity. let's optimize it by DP"
   ]
  },
  {
   "cell_type": "markdown",
   "metadata": {},
   "source": [
    "#### Help karp algorithm using DP\n",
    "NP hard problem. But this apporach can solve it in exponential time"
   ]
  },
  {
   "cell_type": "markdown",
   "metadata": {},
   "source": [
    "<img src=\"../images/traveling_salesman.png\"  width=\"600\">"
   ]
  },
  {
   "cell_type": "markdown",
   "metadata": {},
   "source": [
    "<img src=\"../images/tsp.png\"  width=\"300\">"
   ]
  },
  {
   "cell_type": "code",
   "execution_count": 563,
   "metadata": {},
   "outputs": [],
   "source": [
    "# adjacency matrix based on above picture in graph\n",
    "\n",
    "D = [[0,10,15,20],[10,0,35,25],[15,35,0,30],[20,25,30,0]]"
   ]
  },
  {
   "cell_type": "code",
   "execution_count": 566,
   "metadata": {},
   "outputs": [
    {
     "data": {
      "text/plain": [
       "15"
      ]
     },
     "execution_count": 566,
     "metadata": {},
     "output_type": "execute_result"
    }
   ],
   "source": [
    "D[0][2]"
   ]
  },
  {
   "cell_type": "code",
   "execution_count": 567,
   "metadata": {},
   "outputs": [
    {
     "ename": "IndexError",
     "evalue": "list index out of range",
     "output_type": "error",
     "traceback": [
      "\u001b[0;31m---------------------------------------------------------------------------\u001b[0m",
      "\u001b[0;31mIndexError\u001b[0m                                Traceback (most recent call last)",
      "\u001b[0;32m<ipython-input-567-0efc490ba9bd>\u001b[0m in \u001b[0;36m<module>\u001b[0;34m()\u001b[0m\n\u001b[1;32m      2\u001b[0m \u001b[0;32mfor\u001b[0m \u001b[0mi\u001b[0m \u001b[0;32min\u001b[0m \u001b[0mrange\u001b[0m\u001b[0;34m(\u001b[0m\u001b[0;36m4\u001b[0m\u001b[0;34m)\u001b[0m\u001b[0;34m:\u001b[0m\u001b[0;34m\u001b[0m\u001b[0m\n\u001b[1;32m      3\u001b[0m     \u001b[0;32mfor\u001b[0m \u001b[0mj\u001b[0m \u001b[0;32min\u001b[0m \u001b[0mrange\u001b[0m\u001b[0;34m(\u001b[0m\u001b[0;36m4\u001b[0m\u001b[0;34m)\u001b[0m\u001b[0;34m:\u001b[0m\u001b[0;34m\u001b[0m\u001b[0m\n\u001b[0;32m----> 4\u001b[0;31m         \u001b[0mdp\u001b[0m\u001b[0;34m[\u001b[0m\u001b[0mi\u001b[0m\u001b[0;34m]\u001b[0m\u001b[0;34m[\u001b[0m\u001b[0mj\u001b[0m\u001b[0;34m]\u001b[0m \u001b[0;34m=\u001b[0m \u001b[0;34m-\u001b[0m\u001b[0;36m1\u001b[0m\u001b[0;34m\u001b[0m\u001b[0m\n\u001b[0m",
      "\u001b[0;31mIndexError\u001b[0m: list index out of range"
     ]
    }
   ],
   "source": [
    "dp = []\n",
    "for i in range(4):\n",
    "    for j in range(4):\n",
    "        dp[i][j] = -1"
   ]
  },
  {
   "cell_type": "code",
   "execution_count": 568,
   "metadata": {},
   "outputs": [],
   "source": [
    "mask = [2,3,4]"
   ]
  },
  {
   "cell_type": "code",
   "execution_count": null,
   "metadata": {},
   "outputs": [],
   "source": [
    "def min_cost(mask,pos):\n",
    "    \n",
    "    for c in range(4):\n",
    "        mask_new = mask[:].remove(c)\n",
    "        min_cost(mask_new,pos) + D[pos][1]\n",
    "        \n",
    "        cost = dist(j,pos) + min_cost(S-i-j,j)\n",
    "    return "
   ]
  },
  {
   "cell_type": "markdown",
   "metadata": {},
   "source": [
    "* **time complexity**: O(2^n . n^2) (2^n different subsets and for each subset, we check each vertex and we also check which vertex right before each vertex\n",
    "* **space complexity**: same as time complexity\n"
   ]
  },
  {
   "cell_type": "markdown",
   "metadata": {},
   "source": [
    "### Race with N runners\n",
    "Each runner has a number 1...N, some can be put upside down\n",
    "686 -> 989\n",
    "Underline some numbers\n",
    "\n",
    "1 2 3 4 5 6 7 8 9 10 N=10 return=1"
   ]
  },
  {
   "cell_type": "code",
   "execution_count": 16,
   "metadata": {},
   "outputs": [
    {
     "data": {
      "text/plain": [
       "'989'"
      ]
     },
     "execution_count": 16,
     "metadata": {},
     "output_type": "execute_result"
    }
   ],
   "source": [
    "'989'"
   ]
  },
  {
   "cell_type": "code",
   "execution_count": 17,
   "metadata": {},
   "outputs": [],
   "source": [
    "def underline(n):\n",
    "    valid = [8,9,6]\n",
    "    s=0\n",
    "    for i in list(str(n)):\n",
    "        if int(i) in valid:\n",
    "            s+=1\n",
    "    if s==len(list(str(n))):\n",
    "        return True\n",
    "    else: return False"
   ]
  },
  {
   "cell_type": "code",
   "execution_count": 18,
   "metadata": {
    "scrolled": true
   },
   "outputs": [
    {
     "data": {
      "text/plain": [
       "True"
      ]
     },
     "execution_count": 18,
     "metadata": {},
     "output_type": "execute_result"
    }
   ],
   "source": [
    "underline(698)"
   ]
  },
  {
   "cell_type": "code",
   "execution_count": 19,
   "metadata": {
    "scrolled": true
   },
   "outputs": [
    {
     "data": {
      "text/plain": [
       "False"
      ]
     },
     "execution_count": 19,
     "metadata": {},
     "output_type": "execute_result"
    }
   ],
   "source": [
    "underline(691)"
   ]
  },
  {
   "cell_type": "code",
   "execution_count": 22,
   "metadata": {},
   "outputs": [],
   "source": [
    "def count_upsidable(N):\n",
    "    cnt=0\n",
    "    for n in range(N):\n",
    "        if underline(n):\n",
    "            cnt+=1\n",
    "            print(n)\n",
    "    return cnt"
   ]
  },
  {
   "cell_type": "code",
   "execution_count": 23,
   "metadata": {},
   "outputs": [
    {
     "name": "stdout",
     "output_type": "stream",
     "text": [
      "6\n",
      "8\n",
      "9\n"
     ]
    },
    {
     "data": {
      "text/plain": [
       "3"
      ]
     },
     "execution_count": 23,
     "metadata": {},
     "output_type": "execute_result"
    }
   ],
   "source": [
    "count_upsidable(10)"
   ]
  },
  {
   "cell_type": "code",
   "execution_count": null,
   "metadata": {},
   "outputs": [],
   "source": []
  },
  {
   "cell_type": "code",
   "execution_count": null,
   "metadata": {},
   "outputs": [],
   "source": []
  }
 ],
 "metadata": {
  "kernelspec": {
   "display_name": "Python 3",
   "language": "python",
   "name": "python3"
  },
  "language_info": {
   "codemirror_mode": {
    "name": "ipython",
    "version": 3
   },
   "file_extension": ".py",
   "mimetype": "text/x-python",
   "name": "python",
   "nbconvert_exporter": "python",
   "pygments_lexer": "ipython3",
   "version": "3.7.0"
  },
  "toc": {
   "base_numbering": 1,
   "nav_menu": {},
   "number_sections": true,
   "sideBar": true,
   "skip_h1_title": false,
   "title_cell": "Table of Contents",
   "title_sidebar": "Contents",
   "toc_cell": false,
   "toc_position": {},
   "toc_section_display": true,
   "toc_window_display": false
  }
 },
 "nbformat": 4,
 "nbformat_minor": 2
}
