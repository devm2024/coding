{
 "cells": [
  {
   "cell_type": "markdown",
   "metadata": {},
   "source": [
    "# Dynamic programming concepts and questions with solutions"
   ]
  },
  {
   "cell_type": "markdown",
   "metadata": {},
   "source": [
    "### Libraries"
   ]
  },
  {
   "cell_type": "code",
   "execution_count": 4,
   "metadata": {},
   "outputs": [],
   "source": [
    "import numpy as np"
   ]
  },
  {
   "cell_type": "markdown",
   "metadata": {},
   "source": [
    "### 0-1 knapsack problem\n",
    " \n",
    "iven weights and values of n items, put these items in a knapsack of capacity W to get the maximum total value in the knapsack. In other words, given two integer arrays val[0..n-1] and wt[0..n-1] which represent values and weights associated with n items respectively. Also given an integer W which represents knapsack capacity, find out the maximum value subset of val[] such that sum of the weights of this subset is smaller than or equal to W. You cannot break an item, either pick the complete item, or don’t pick it (0-1 property).\n",
    "\n",
    "* https://www.geeksforgeeks.org/0-1-knapsack-problem-dp-10/\n",
    "* https://www.youtube.com/watch?v=8LusJS5-AGo&index=1&list=PLrmLmBdmIlpsHaNTPP_jHHDx_os9ItYXr"
   ]
  },
  {
   "cell_type": "markdown",
   "metadata": {},
   "source": [
    "<img src=\"images/knapsack.png\"  width=\"600\">"
   ]
  },
  {
   "cell_type": "markdown",
   "metadata": {},
   "source": [
    "<img src=\"images/knapsack2.png\"  width=\"600\">"
   ]
  },
  {
   "cell_type": "code",
   "execution_count": 85,
   "metadata": {},
   "outputs": [],
   "source": [
    "def knapsack(weight_array, values_array, wt):\n",
    "    \"\"\"\n",
    "    just returns the max value yet\n",
    "    \n",
    "    \"\"\"\n",
    "    \n",
    "    # initializing T matrix with 0s\n",
    "    T  = [[0 for i in range(wt+1)] for j in range(len(weight_array))] \n",
    "    n = len(weight_array)\n",
    "    \n",
    "    for i in range(n):  # rows\n",
    "        for j in range(wt+1):  # columns\n",
    "            if i==0:  # only for first row of T matrix \n",
    "                if weight_array[i] > j:\n",
    "                    T[i][j]\n",
    "                else:\n",
    "                    T[i][j] = values_array[i]\n",
    "            if j < weight_array[i]:\n",
    "                T[i][j]= T[i-1][j]  # then don't add this element. just pick from last row\n",
    "            else:\n",
    "                T[i][j] = max(values_array[i] + T[i-1][j-weight_array[i]], T[i-1][j])  # take max(last row, seleciot of whatever weight is remaining)\n",
    "    \n",
    "    return T[n-1][wt], T"
   ]
  },
  {
   "cell_type": "code",
   "execution_count": 109,
   "metadata": {},
   "outputs": [],
   "source": [
    "def knapsack_idx(T, wt, weight_array, values_array):\n",
    "    \"\"\"\n",
    "    finds values and weights to be selected giving maximum value sum\n",
    "    \"\"\"\n",
    "    \n",
    "    i = len(T)-1\n",
    "    j = len(T[0])-1\n",
    "\n",
    "    remaining_wt = wt\n",
    "    selection_idx = []\n",
    "\n",
    "    while remaining_wt>0:\n",
    "        if i < 1:\n",
    "            selection_idx.append(i)\n",
    "            break\n",
    "            \n",
    "        if T[i][j] == T[i-1][j]:\n",
    "            i-=1\n",
    "        else:\n",
    "            selection_idx.append(i)\n",
    "            remaining_wt-= weight_array[i]\n",
    "            j = remaining_wt\n",
    "            i-=1\n",
    "    return [(values_array[i], weight_array[i]) for i in selection_idx]"
   ]
  },
  {
   "cell_type": "code",
   "execution_count": 115,
   "metadata": {},
   "outputs": [],
   "source": [
    "wt = 7\n",
    "weight = [1,3,4,5]  # considering sorted for now\n",
    "values = [1,4,5,7]"
   ]
  },
  {
   "cell_type": "code",
   "execution_count": 116,
   "metadata": {},
   "outputs": [],
   "source": [
    "answer, T = knapsack(weight, values, wt)"
   ]
  },
  {
   "cell_type": "code",
   "execution_count": 117,
   "metadata": {},
   "outputs": [
    {
     "data": {
      "text/plain": [
       "(9,\n",
       " [[0, 1, 1, 1, 1, 1, 1, 1],\n",
       "  [0, 1, 1, 4, 5, 5, 5, 5],\n",
       "  [0, 1, 1, 4, 5, 6, 6, 9],\n",
       "  [0, 1, 1, 4, 5, 7, 8, 9]])"
      ]
     },
     "execution_count": 117,
     "metadata": {},
     "output_type": "execute_result"
    }
   ],
   "source": [
    "answer, T"
   ]
  },
  {
   "cell_type": "code",
   "execution_count": 119,
   "metadata": {},
   "outputs": [
    {
     "name": "stdout",
     "output_type": "stream",
     "text": [
      "[(5, 4), (4, 3)]\n"
     ]
    }
   ],
   "source": [
    "print(knapsack_idx(T, wt, weight, values))"
   ]
  },
  {
   "cell_type": "code",
   "execution_count": 120,
   "metadata": {},
   "outputs": [
    {
     "name": "stdout",
     "output_type": "stream",
     "text": [
      "[(120, 30), (100, 20)]\n",
      "220\n"
     ]
    }
   ],
   "source": [
    "# another test\n",
    "values_array = [60, 100, 120] \n",
    "weight_array = [10, 20, 30] \n",
    "wt = 50\n",
    "answer, T  = knapsack(weight_array, values_array, wt)\n",
    "print(knapsack_idx(T, wt, weight_array, values_array))\n",
    "print(answer)"
   ]
  },
  {
   "cell_type": "markdown",
   "metadata": {},
   "source": [
    "**complexity of this solution:**   \n",
    "Time Complexity: O(nW) where n is the number of items and W is the capacity of knapsack.  \n",
    "Space complexity: same as time"
   ]
  },
  {
   "cell_type": "code",
   "execution_count": null,
   "metadata": {},
   "outputs": [],
   "source": []
  }
 ],
 "metadata": {
  "kernelspec": {
   "display_name": "Python 3",
   "language": "python",
   "name": "python3"
  },
  "language_info": {
   "codemirror_mode": {
    "name": "ipython",
    "version": 3
   },
   "file_extension": ".py",
   "mimetype": "text/x-python",
   "name": "python",
   "nbconvert_exporter": "python",
   "pygments_lexer": "ipython3",
   "version": "3.7.0"
  },
  "toc": {
   "base_numbering": 1,
   "nav_menu": {},
   "number_sections": true,
   "sideBar": true,
   "skip_h1_title": false,
   "title_cell": "Table of Contents",
   "title_sidebar": "Contents",
   "toc_cell": false,
   "toc_position": {},
   "toc_section_display": true,
   "toc_window_display": false
  }
 },
 "nbformat": 4,
 "nbformat_minor": 2
}
