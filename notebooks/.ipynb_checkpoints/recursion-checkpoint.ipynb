{
 "cells": [
  {
   "cell_type": "markdown",
   "metadata": {},
   "source": [
    "# Recursion problems\n",
    "* need a base case (starting point)\n"
   ]
  },
  {
   "cell_type": "markdown",
   "metadata": {},
   "source": [
    "### String permutation problem\n",
    "find all the possible permutations of a string (in lexographic sorted order)"
   ]
  },
  {
   "cell_type": "markdown",
   "metadata": {},
   "source": [
    "<img src=\"../images/string_perm1.png\"  width=\"600\">"
   ]
  },
  {
   "cell_type": "markdown",
   "metadata": {},
   "source": [
    "* step1: map of char to int\n",
    "* step2: define recursion function which \n",
    "    * fills an empty array of len(n) \n",
    "    * give ending condition, i.e when loop reaches end iteration (i.e print the permuted string)\n",
    "    * loops over string\n",
    "    * give continuing condition. i.e. when count of i is 0, continue \n",
    "    * call function recursively in loop\n",
    "    * decrease count of alphaebet in mapping at each iteration\n",
    "    * increase count again after completion of iterations"
   ]
  },
  {
   "cell_type": "code",
   "execution_count": 177,
   "metadata": {},
   "outputs": [],
   "source": [
    "st = 'aabc'"
   ]
  },
  {
   "cell_type": "code",
   "execution_count": 178,
   "metadata": {},
   "outputs": [],
   "source": [
    "# alphabet to count_map mapping\n",
    "count_map = {}\n",
    "for k in st:\n",
    "    if k in count_map.keys():\n",
    "        count_map[k] = count_map[k]+1\n",
    "    else:\n",
    "        count_map[k] = 1"
   ]
  },
  {
   "cell_type": "code",
   "execution_count": 179,
   "metadata": {},
   "outputs": [
    {
     "data": {
      "text/plain": [
       "{'a': 2, 'b': 1, 'c': 1}"
      ]
     },
     "execution_count": 179,
     "metadata": {},
     "output_type": "execute_result"
    }
   ],
   "source": [
    "count_map"
   ]
  },
  {
   "cell_type": "code",
   "execution_count": 180,
   "metadata": {},
   "outputs": [
    {
     "data": {
      "text/plain": [
       "['a', 'b', 'c']"
      ]
     },
     "execution_count": 180,
     "metadata": {},
     "output_type": "execute_result"
    }
   ],
   "source": [
    "st_keys =sorted(count_map)\n",
    "st_keys"
   ]
  },
  {
   "cell_type": "code",
   "execution_count": 181,
   "metadata": {},
   "outputs": [
    {
     "data": {
      "text/plain": [
       "[2, 1, 1]"
      ]
     },
     "execution_count": 181,
     "metadata": {},
     "output_type": "execute_result"
    }
   ],
   "source": [
    "count_sorted = [count_map[k] for k in st_keys]\n",
    "count_sorted"
   ]
  },
  {
   "cell_type": "code",
   "execution_count": 182,
   "metadata": {},
   "outputs": [],
   "source": [
    "# initialize level\n",
    "level = 0"
   ]
  },
  {
   "cell_type": "code",
   "execution_count": 183,
   "metadata": {},
   "outputs": [],
   "source": [
    "# list of len(n)\n",
    "fill_ar = ['' for i in range(len(st))]"
   ]
  },
  {
   "cell_type": "code",
   "execution_count": 184,
   "metadata": {},
   "outputs": [
    {
     "data": {
      "text/plain": [
       "['', '', '', '']"
      ]
     },
     "execution_count": 184,
     "metadata": {},
     "output_type": "execute_result"
    }
   ],
   "source": [
    "fill_ar"
   ]
  },
  {
   "cell_type": "code",
   "execution_count": 185,
   "metadata": {},
   "outputs": [],
   "source": [
    "def permute_st(st_keys, count_sorted, fill_ar, level):\n",
    "    # ending condition\n",
    "    if level == len(fill_ar):\n",
    "        print(''.join(fill_ar))\n",
    "        return \n",
    "    for i in range(len(st_keys)):\n",
    "        if count_sorted[i] == 0:\n",
    "            continue\n",
    "        fill_ar[level] = st_keys[i] # fill this level of list_keys with this alphabet\n",
    "        count_sorted[i] -= 1 # decrease count of this alphabet from map\n",
    "        permute_st_keysring(st_keys, count_sorted, fill_ar, level+1)\n",
    "        count_sorted[i] += 1  # go back to one level up in recursion"
   ]
  },
  {
   "cell_type": "code",
   "execution_count": 186,
   "metadata": {
    "scrolled": false
   },
   "outputs": [
    {
     "name": "stdout",
     "output_type": "stream",
     "text": [
      "aabc\n",
      "aacb\n",
      "abac\n",
      "abca\n",
      "acab\n",
      "acba\n",
      "baac\n",
      "baca\n",
      "bcaa\n",
      "caab\n",
      "caba\n",
      "cbaa\n"
     ]
    }
   ],
   "source": [
    "permute_st(st_keys, count_sorted, fill_ar, level)"
   ]
  },
  {
   "cell_type": "markdown",
   "metadata": {},
   "source": [
    "* time complexity - O(n!) as we have n! permutations\n",
    "* space complexigty - if not storing the output is O(len(n)) as only saving len(n) chars at a time"
   ]
  },
  {
   "cell_type": "code",
   "execution_count": 188,
   "metadata": {},
   "outputs": [
    {
     "name": "stdout",
     "output_type": "stream",
     "text": [
      "aabc\n",
      "aacb\n",
      "abac\n",
      "abca\n",
      "acab\n",
      "acba\n",
      "baac\n",
      "baca\n",
      "bcaa\n",
      "caab\n",
      "caba\n",
      "cbaa\n"
     ]
    }
   ],
   "source": [
    "def permute(input_str):\n",
    "    # alphabet to count_map mapping\n",
    "    count_map = {}\n",
    "    for k in input_str:\n",
    "        if k in count_map.keys():\n",
    "            count_map[k] = count_map[k]+1\n",
    "        else:\n",
    "            count_map[k] = 1\n",
    "            \n",
    "    st_keys =sorted(count_map)\n",
    "    count_sorted = [count_map[k] for k in st_keys]\n",
    "    level = 0\n",
    "    \n",
    "    fill_ar = ['' for i in range(len(input_str))]\n",
    "    \n",
    "    permute_st(st_keys, count_sorted, fill_ar, level) \n",
    "    \n",
    "def permute_st(st_keys, count_sorted, fill_ar, level):\n",
    "    # ending condition\n",
    "    if level == len(fill_ar):\n",
    "        print(''.join(fill_ar))\n",
    "        return \n",
    "    for i in range(len(st_keys)):\n",
    "        if count_sorted[i] == 0:\n",
    "            continue\n",
    "        fill_ar[level] = st_keys[i] # fill this level of list_keys with this alphabet\n",
    "        count_sorted[i] -= 1 # decrease count of this alphabet from map\n",
    "        permute_st(st_keys, count_sorted, fill_ar, level+1)\n",
    "        count_sorted[i] += 1  # go back to one level up in recursion\n",
    "        \n",
    "if __name__ == '__main__':\n",
    "    permute('aabc')"
   ]
  },
  {
   "cell_type": "markdown",
   "metadata": {},
   "source": [
    "## fibonacci numbers"
   ]
  },
  {
   "cell_type": "code",
   "execution_count": 191,
   "metadata": {},
   "outputs": [],
   "source": [
    "# inefficident code without memoization\n",
    "\n",
    "def fibonacci(n):\n",
    "    \n",
    "    # base cases\n",
    "    if n == 0:\n",
    "        return 0\n",
    "    elif n == 1:\n",
    "        return 1\n",
    "    \n",
    "    # recursion\n",
    "    else:\n",
    "        return fibonacci(n-1) + fibonacci(n-2)"
   ]
  },
  {
   "cell_type": "code",
   "execution_count": 192,
   "metadata": {},
   "outputs": [
    {
     "data": {
      "text/plain": [
       "8"
      ]
     },
     "execution_count": 192,
     "metadata": {},
     "output_type": "execute_result"
    }
   ],
   "source": [
    "fibonacci(6)"
   ]
  },
  {
   "cell_type": "markdown",
   "metadata": {},
   "source": [
    "* time complexity: n! ?\n",
    "* space complexity: "
   ]
  },
  {
   "cell_type": "markdown",
   "metadata": {},
   "source": [
    "## adding element in linked list using recursion"
   ]
  },
  {
   "cell_type": "code",
   "execution_count": 106,
   "metadata": {},
   "outputs": [],
   "source": [
    "class Node:\n",
    "    def __init__(self,data):\n",
    "        self.data = data\n",
    "        self.next = None \n",
    "class Solution: \n",
    "    def display(self,head):\n",
    "        current = head\n",
    "        while current:\n",
    "            print(current.data,end=' ')\n",
    "            current = current.next\n",
    "    def insert(self,head,data): \n",
    "        if head is None:\n",
    "            return Node(data)\n",
    "        elif head.next is None:\n",
    "            head.next = Node(data)\n",
    "        else:\n",
    "            insert(head.next, data)\n",
    "        return head"
   ]
  },
  {
   "cell_type": "code",
   "execution_count": 107,
   "metadata": {},
   "outputs": [
    {
     "name": "stdout",
     "output_type": "stream",
     "text": [
      "2\n",
      "2\n",
      "2\n",
      "2\n",
      "2 3 4 1 "
     ]
    }
   ],
   "source": [
    "mylist= Solution()\n",
    "head=None\n",
    "for i in [2,3,4,1]:\n",
    "    head=mylist.insert(head,i)  \n",
    "    print(head.data)\n",
    "mylist.display(head); "
   ]
  }
 ],
 "metadata": {
  "kernelspec": {
   "display_name": "Python 3",
   "language": "python",
   "name": "python3"
  },
  "language_info": {
   "codemirror_mode": {
    "name": "ipython",
    "version": 3
   },
   "file_extension": ".py",
   "mimetype": "text/x-python",
   "name": "python",
   "nbconvert_exporter": "python",
   "pygments_lexer": "ipython3",
   "version": "3.7.0"
  },
  "toc": {
   "base_numbering": 1,
   "nav_menu": {},
   "number_sections": true,
   "sideBar": true,
   "skip_h1_title": false,
   "title_cell": "Table of Contents",
   "title_sidebar": "Contents",
   "toc_cell": false,
   "toc_position": {},
   "toc_section_display": true,
   "toc_window_display": false
  }
 },
 "nbformat": 4,
 "nbformat_minor": 2
}
