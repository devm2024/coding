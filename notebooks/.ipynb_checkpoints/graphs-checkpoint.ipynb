{
 "cells": [
  {
   "cell_type": "markdown",
   "metadata": {},
   "source": [
    "### Topological sort"
   ]
  },
  {
   "cell_type": "markdown",
   "metadata": {},
   "source": [
    "<img src=\"../images/topo_sort.png\"  width=\"600\">"
   ]
  },
  {
   "cell_type": "markdown",
   "metadata": {},
   "source": [
    "<img src=\"../images/topo_sort2.png\"  width=\"600\">"
   ]
  },
  {
   "cell_type": "markdown",
   "metadata": {},
   "source": [
    "Think of **dependency**"
   ]
  },
  {
   "cell_type": "code",
   "execution_count": 22,
   "metadata": {},
   "outputs": [],
   "source": [
    "from collections import defaultdict \n",
    "\n",
    "class Graph:\n",
    "    def __init__(self, vertices):\n",
    "        self.V = vertices  # number of vertices\n",
    "        self.graph  = defaultdict(list)  # dictionary contaiing adjacency list\n",
    "    \n",
    "    def add_edge(self, u,v):\n",
    "        self.graph[u].append(v)\n",
    "\n",
    "    # A recursive function used by topologicalSort \n",
    "    def topologicalSortUtil(self,v,visited,stack): \n",
    "  \n",
    "        # Mark the current node as visited. \n",
    "        visited[v] = True\n",
    "  \n",
    "        # Recur for all the vertices adjacent to this vertex \n",
    "        for i in self.graph[v]: \n",
    "            if visited[i] == False: \n",
    "                self.topologicalSortUtil(i,visited,stack) \n",
    "  \n",
    "        # Push current vertex to stack which stores result \n",
    "        stack.insert(0,v) \n",
    "  \n",
    "    # The function to do Topological Sort. It uses recursive  \n",
    "    # topologicalSortUtil() \n",
    "    def topologicalSort(self): \n",
    "        # Mark all the vertices as not visited \n",
    "        visited = [False]*self.V \n",
    "        stack = [] \n",
    "  \n",
    "        # Call the recursive helper function to store Topological \n",
    "        # Sort starting from all vertices one by one \n",
    "        for i in range(self.V): \n",
    "            if visited[i] == False: \n",
    "                self.topologicalSortUtil(i,visited,stack) \n",
    "  \n",
    "        # Print contents of the stack \n",
    "        print(stack)"
   ]
  },
  {
   "cell_type": "code",
   "execution_count": 28,
   "metadata": {},
   "outputs": [],
   "source": [
    "g= Graph(6) \n",
    "g.add_edge(5, 2); \n",
    "g.add_edge(5, 0); \n",
    "g.add_edge(4, 0); \n",
    "g.add_edge(4, 1); \n",
    "g.add_edge(2, 3); \n",
    "g.add_edge(3, 1); "
   ]
  },
  {
   "cell_type": "code",
   "execution_count": 30,
   "metadata": {},
   "outputs": [
    {
     "name": "stdout",
     "output_type": "stream",
     "text": [
      "[5, 4, 2, 3, 1, 0]\n"
     ]
    }
   ],
   "source": [
    "g.topologicalSort()"
   ]
  },
  {
   "cell_type": "markdown",
   "metadata": {},
   "source": [
    "Time Complexity: The above algorithm is simply DFS with an extra stack. So time complexity is same as DFS which is O(V+E)."
   ]
  }
 ],
 "metadata": {
  "kernelspec": {
   "display_name": "Python 3",
   "language": "python",
   "name": "python3"
  },
  "language_info": {
   "codemirror_mode": {
    "name": "ipython",
    "version": 3
   },
   "file_extension": ".py",
   "mimetype": "text/x-python",
   "name": "python",
   "nbconvert_exporter": "python",
   "pygments_lexer": "ipython3",
   "version": "3.7.0"
  },
  "toc": {
   "base_numbering": 1,
   "nav_menu": {},
   "number_sections": true,
   "sideBar": true,
   "skip_h1_title": false,
   "title_cell": "Table of Contents",
   "title_sidebar": "Contents",
   "toc_cell": false,
   "toc_position": {},
   "toc_section_display": true,
   "toc_window_display": false
  }
 },
 "nbformat": 4,
 "nbformat_minor": 2
}
