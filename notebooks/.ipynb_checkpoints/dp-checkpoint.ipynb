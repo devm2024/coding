{
 "cells": [
  {
   "cell_type": "markdown",
   "metadata": {},
   "source": [
    "# Dynamic programming concepts and questions with solutions"
   ]
  },
  {
   "cell_type": "markdown",
   "metadata": {},
   "source": [
    "### 0-1 knapsack problem\n",
    " \n",
    "iven weights and values of n items, put these items in a knapsack of capacity W to get the maximum total value in the knapsack. In other words, given two integer arrays val[0..n-1] and wt[0..n-1] which represent values and weights associated with n items respectively. Also given an integer W which represents knapsack capacity, find out the maximum value subset of val[] such that sum of the weights of this subset is smaller than or equal to W. You cannot break an item, either pick the complete item, or don’t pick it (0-1 property).\n",
    "\n",
    "* https://www.geeksforgeeks.org/0-1-knapsack-problem-dp-10/\n",
    "* https://www.youtube.com/watch?v=8LusJS5-AGo&index=1&list=PLrmLmBdmIlpsHaNTPP_jHHDx_os9ItYXr"
   ]
  },
  {
   "cell_type": "markdown",
   "metadata": {},
   "source": [
    "<img src=\"../images/knapsack.png\"  width=\"600\">"
   ]
  },
  {
   "cell_type": "markdown",
   "metadata": {},
   "source": [
    "<img src=\"../images/knapsack2.png\"  width=\"600\">"
   ]
  },
  {
   "cell_type": "code",
   "execution_count": 85,
   "metadata": {},
   "outputs": [],
   "source": [
    "def knapsack(weight_array, values_array, wt):\n",
    "    \"\"\"\n",
    "    just returns the max value yet\n",
    "    \n",
    "    \"\"\"\n",
    "    \n",
    "    # initializing T matrix with 0s\n",
    "    T  = [[0 for i in range(wt+1)] for j in range(len(weight_array))] \n",
    "    n = len(weight_array)\n",
    "    \n",
    "    for i in range(n):  # rows\n",
    "        for j in range(wt+1):  # columns\n",
    "            if i==0:  # only for first row of T matrix \n",
    "                if weight_array[i] > j:\n",
    "                    T[i][j]\n",
    "                else:\n",
    "                    T[i][j] = values_array[i]\n",
    "            if j < weight_array[i]:\n",
    "                T[i][j]= T[i-1][j]  # then don't add this element. just pick from last row\n",
    "            else:\n",
    "                T[i][j] = max(values_array[i] + T[i-1][j-weight_array[i]], T[i-1][j])  # take max(last row, seleciot of whatever weight is remaining)\n",
    "    \n",
    "    return T[n-1][wt], T"
   ]
  },
  {
   "cell_type": "code",
   "execution_count": 109,
   "metadata": {},
   "outputs": [],
   "source": [
    "def knapsack_idx(T, wt, weight_array, values_array):\n",
    "    \"\"\"\n",
    "    finds values and weights to be selected giving maximum value sum\n",
    "    \"\"\"\n",
    "    \n",
    "    i = len(T)-1\n",
    "    j = len(T[0])-1\n",
    "\n",
    "    remaining_wt = wt\n",
    "    selection_idx = []\n",
    "\n",
    "    while remaining_wt>0:\n",
    "        if i < 1:\n",
    "            selection_idx.append(i)\n",
    "            break\n",
    "            \n",
    "        if T[i][j] == T[i-1][j]:\n",
    "            i-=1\n",
    "        else:\n",
    "            selection_idx.append(i)\n",
    "            remaining_wt-= weight_array[i]\n",
    "            j = remaining_wt\n",
    "            i-=1\n",
    "    return [(values_array[i], weight_array[i]) for i in selection_idx]"
   ]
  },
  {
   "cell_type": "code",
   "execution_count": 115,
   "metadata": {},
   "outputs": [],
   "source": [
    "wt = 7\n",
    "weight = [1,3,4,5]  # considering sorted for now\n",
    "values = [1,4,5,7]"
   ]
  },
  {
   "cell_type": "code",
   "execution_count": 116,
   "metadata": {},
   "outputs": [],
   "source": [
    "answer, T = knapsack(weight, values, wt)"
   ]
  },
  {
   "cell_type": "code",
   "execution_count": 117,
   "metadata": {},
   "outputs": [
    {
     "data": {
      "text/plain": [
       "(9,\n",
       " [[0, 1, 1, 1, 1, 1, 1, 1],\n",
       "  [0, 1, 1, 4, 5, 5, 5, 5],\n",
       "  [0, 1, 1, 4, 5, 6, 6, 9],\n",
       "  [0, 1, 1, 4, 5, 7, 8, 9]])"
      ]
     },
     "execution_count": 117,
     "metadata": {},
     "output_type": "execute_result"
    }
   ],
   "source": [
    "answer, T"
   ]
  },
  {
   "cell_type": "code",
   "execution_count": 119,
   "metadata": {},
   "outputs": [
    {
     "name": "stdout",
     "output_type": "stream",
     "text": [
      "[(5, 4), (4, 3)]\n"
     ]
    }
   ],
   "source": [
    "print(knapsack_idx(T, wt, weight, values))"
   ]
  },
  {
   "cell_type": "code",
   "execution_count": 120,
   "metadata": {},
   "outputs": [
    {
     "name": "stdout",
     "output_type": "stream",
     "text": [
      "[(120, 30), (100, 20)]\n",
      "220\n"
     ]
    }
   ],
   "source": [
    "# another test\n",
    "values_array = [60, 100, 120] \n",
    "weight_array = [10, 20, 30] \n",
    "wt = 50\n",
    "answer, T  = knapsack(weight_array, values_array, wt)\n",
    "print(knapsack_idx(T, wt, weight_array, values_array))\n",
    "print(answer)"
   ]
  },
  {
   "cell_type": "markdown",
   "metadata": {},
   "source": [
    "**complexity of this solution:**   \n",
    "Time Complexity: O(nW) where n is the number of items and W is the capacity of knapsack.  \n",
    "Space complexity: same as time"
   ]
  },
  {
   "cell_type": "markdown",
   "metadata": {},
   "source": [
    "### Longest common subsequence\n",
    "Given 2 strings, how do we find longest common subsequence between them. Subsequence need not be continuous in the sTring  \n",
    "\n",
    "* https://www.youtube.com/watch?v=NnD96abizww&list=PLrmLmBdmIlpsHaNTPP_jHHDx_os9ItYXr&index=2\n",
    "* https://www.geeksforgeeks.org/longest-common-substring-dp-29/"
   ]
  },
  {
   "cell_type": "markdown",
   "metadata": {},
   "source": [
    "<img src=\"../images/subseq.png\"  width=\"600\">"
   ]
  },
  {
   "cell_type": "markdown",
   "metadata": {},
   "source": [
    "<img src=\"../images/sub2.png\"  width=\"600\">"
   ]
  },
  {
   "cell_type": "code",
   "execution_count": 1,
   "metadata": {},
   "outputs": [],
   "source": [
    "sub1 = 'abcdaf'\n",
    "sub2 = 'acbcf'"
   ]
  },
  {
   "cell_type": "code",
   "execution_count": 5,
   "metadata": {},
   "outputs": [],
   "source": [
    "T = [[0 for i in range(len(sub1)+1)] for j in range(len(sub2)+1)]"
   ]
  },
  {
   "cell_type": "code",
   "execution_count": 6,
   "metadata": {},
   "outputs": [
    {
     "data": {
      "text/plain": [
       "[[0, 0, 0, 0, 0, 0, 0],\n",
       " [0, 0, 0, 0, 0, 0, 0],\n",
       " [0, 0, 0, 0, 0, 0, 0],\n",
       " [0, 0, 0, 0, 0, 0, 0],\n",
       " [0, 0, 0, 0, 0, 0, 0],\n",
       " [0, 0, 0, 0, 0, 0, 0]]"
      ]
     },
     "execution_count": 6,
     "metadata": {},
     "output_type": "execute_result"
    }
   ],
   "source": [
    "T"
   ]
  },
  {
   "cell_type": "code",
   "execution_count": 16,
   "metadata": {},
   "outputs": [],
   "source": [
    "for i in range(len(sub2)+1):\n",
    "    for j in range(len(sub1)+1):\n",
    "        if i == 0 or j == 0:\n",
    "            continue            \n",
    "        elif sub1[j-1] == sub2[i-1]:\n",
    "            T[i][j] = T[i-1][j-1]+1\n",
    "        else:\n",
    "            T[i][j] = max(T[i-1][j], T[i][j-1])"
   ]
  },
  {
   "cell_type": "code",
   "execution_count": 17,
   "metadata": {},
   "outputs": [
    {
     "data": {
      "text/plain": [
       "[[0, 0, 0, 0, 0, 0, 0],\n",
       " [0, 1, 1, 1, 1, 1, 1],\n",
       " [0, 1, 1, 2, 2, 2, 2],\n",
       " [0, 1, 2, 2, 2, 2, 2],\n",
       " [0, 1, 2, 3, 3, 3, 3],\n",
       " [0, 1, 2, 3, 3, 3, 4]]"
      ]
     },
     "execution_count": 17,
     "metadata": {},
     "output_type": "execute_result"
    }
   ],
   "source": [
    "T"
   ]
  },
  {
   "cell_type": "code",
   "execution_count": 27,
   "metadata": {},
   "outputs": [],
   "source": [
    "# traceback to alphabets in sequence\n",
    "\n",
    "end_row =len(T)-1\n",
    "end_col = len(T[0])-1\n",
    "common_sub = []\n",
    "\n",
    "while end_row>0 and end_col>0:\n",
    "    if T[end_row][end_col] == T[end_row-1][end_col] :\n",
    "        end_row-=1 \n",
    "    elif T[end_row][end_col] == T[end_row][end_col-1]:\n",
    "        end_col-=1\n",
    "    else:\n",
    "        common_sub.append(sub2[end_row-1])\n",
    "        end_row-=1\n",
    "        end_col-=1"
   ]
  },
  {
   "cell_type": "code",
   "execution_count": 28,
   "metadata": {},
   "outputs": [
    {
     "data": {
      "text/plain": [
       "['f', 'c', 'b', 'a']"
      ]
     },
     "execution_count": 28,
     "metadata": {},
     "output_type": "execute_result"
    }
   ],
   "source": [
    "common_sub"
   ]
  },
  {
   "cell_type": "markdown",
   "metadata": {},
   "source": [
    "Let's combine this to a function now"
   ]
  },
  {
   "cell_type": "code",
   "execution_count": 46,
   "metadata": {},
   "outputs": [],
   "source": [
    "def common_substr(sub1, sub2):\n",
    "    \n",
    "    # initialize matrix with 0s (1 extra row and col)\n",
    "    T = [[0 for i in range(len(sub1)+1)] for j in range(len(sub2)+1)]\n",
    "    common_sub = []\n",
    "    \n",
    "    for i in range(len(sub2)+1):\n",
    "        for j in range(len(sub1)+1):\n",
    "            if i == 0 or j == 0:\n",
    "                continue            \n",
    "            elif sub1[j-1] == sub2[i-1]:\n",
    "                T[i][j] = T[i-1][j-1]+1\n",
    "                if sub2[i-1] not in common_sub:\n",
    "                    common_sub.append(sub2[i-1])\n",
    "            else:\n",
    "                T[i][j] = max(T[i-1][j], T[i][j-1])\n",
    "    \n",
    "    return common_sub, len(common_sub)"
   ]
  },
  {
   "cell_type": "code",
   "execution_count": 47,
   "metadata": {},
   "outputs": [
    {
     "data": {
      "text/plain": [
       "(['a', 's', 'c', 'b'], 4)"
      ]
     },
     "execution_count": 47,
     "metadata": {},
     "output_type": "execute_result"
    }
   ],
   "source": [
    "common_substr('absc', 'akfscb')"
   ]
  },
  {
   "cell_type": "code",
   "execution_count": 48,
   "metadata": {},
   "outputs": [],
   "source": [
    "X = \"zxabcdezy\"\n",
    "y = \"yzabcdezx\""
   ]
  },
  {
   "cell_type": "code",
   "execution_count": 49,
   "metadata": {},
   "outputs": [
    {
     "data": {
      "text/plain": [
       "(['y', 'z', 'a', 'b', 'c', 'd', 'e', 'x'], 8)"
      ]
     },
     "execution_count": 49,
     "metadata": {},
     "output_type": "execute_result"
    }
   ],
   "source": [
    "common_substr(X, y)"
   ]
  },
  {
   "cell_type": "markdown",
   "metadata": {},
   "source": [
    "Time Complexity: O(m*n)  \n",
    "Auxiliary Space: O(m*n)"
   ]
  },
  {
   "cell_type": "markdown",
   "metadata": {},
   "source": [
    "### Coin changing minimum number of coins problems"
   ]
  },
  {
   "cell_type": "markdown",
   "metadata": {},
   "source": [
    "<img src=\"../images/coin.png\"  width=\"600\">"
   ]
  },
  {
   "cell_type": "code",
   "execution_count": 2,
   "metadata": {},
   "outputs": [],
   "source": [
    "n=11\n",
    "coins = [1,5,6,8]"
   ]
  },
  {
   "cell_type": "code",
   "execution_count": 3,
   "metadata": {},
   "outputs": [],
   "source": [
    "T = [[0 for i in range(n+1)] for j in coins]"
   ]
  },
  {
   "cell_type": "code",
   "execution_count": 4,
   "metadata": {},
   "outputs": [
    {
     "data": {
      "text/plain": [
       "[[0, 0, 0, 0, 0, 0, 0, 0, 0, 0, 0, 0],\n",
       " [0, 0, 0, 0, 0, 0, 0, 0, 0, 0, 0, 0],\n",
       " [0, 0, 0, 0, 0, 0, 0, 0, 0, 0, 0, 0],\n",
       " [0, 0, 0, 0, 0, 0, 0, 0, 0, 0, 0, 0]]"
      ]
     },
     "execution_count": 4,
     "metadata": {},
     "output_type": "execute_result"
    }
   ],
   "source": [
    "T"
   ]
  },
  {
   "cell_type": "code",
   "execution_count": 7,
   "metadata": {},
   "outputs": [],
   "source": [
    "for i in range(len(coins)):\n",
    "    for j in range(n+1):\n",
    "        if j == 0:\n",
    "            pass\n",
    "        elif j >= coins[i]:  \n",
    "            T[i][j] = 1+T[i][j-coins[i]]\n",
    "        else:\n",
    "            T[i][j] = T[i-1][j]"
   ]
  },
  {
   "cell_type": "code",
   "execution_count": 8,
   "metadata": {},
   "outputs": [
    {
     "data": {
      "text/plain": [
       "[[0, 1, 2, 3, 4, 5, 6, 7, 8, 9, 10, 11],\n",
       " [0, 1, 2, 3, 4, 1, 2, 3, 4, 5, 2, 3],\n",
       " [0, 1, 2, 3, 4, 1, 1, 2, 3, 4, 5, 2],\n",
       " [0, 1, 2, 3, 4, 1, 1, 2, 1, 2, 3, 4]]"
      ]
     },
     "execution_count": 8,
     "metadata": {},
     "output_type": "execute_result"
    }
   ],
   "source": [
    "T"
   ]
  },
  {
   "cell_type": "markdown",
   "metadata": {},
   "source": [
    "### Regular expression\n",
    "\n",
    "Check whether string is regex match or not"
   ]
  },
  {
   "cell_type": "markdown",
   "metadata": {},
   "source": [
    "<img src = '../images/regex.png' width='600'>"
   ]
  },
  {
   "cell_type": "code",
   "execution_count": 26,
   "metadata": {},
   "outputs": [],
   "source": [
    "def match_regex(pattern, string):\n",
    "    T = [[False for i in range(len(pattern)+1)] for j in range(len(string)+1)]\n",
    "    \n",
    "    # empty string and pattern always true\n",
    "    T[0][0] = True\n",
    "    \n",
    "    # for 0th row. true only for patten like *, a*, b*, a*b*..\n",
    "    for j in range(1,len(pattern)+1):\n",
    "        if pattern[j-1] == '*':\n",
    "            T[0][j] == T[0][j-2]\n",
    "            \n",
    "    # operations for remaining matrx    \n",
    "    for i in range(1,len(string)+1):\n",
    "        for j in range(1,len(pattern)+1):\n",
    "            if string[i-1] == pattern[j-1] or pattern[j-1] == '.':\n",
    "                T[i][j] = T[i-1][j-1]\n",
    "            elif pattern[j-1] == '*':  \n",
    "                # now check 2 conditions. 1 if 0 char before * condition meets, 2 more than 1 char meets\n",
    "                # for 0 condition\n",
    "                T[i][j] = T[i][j-2]\n",
    "                if pattern[j-2] == string[i-1] or pattern[j-2] == '.':\n",
    "                    T[i][j] = T[i][j] | T[i-1][j]  # whatever is the result of last row (with one or more occurances of char)\n",
    "            else:\n",
    "                T[i][j] = False\n",
    "    return T"
   ]
  },
  {
   "cell_type": "code",
   "execution_count": 27,
   "metadata": {},
   "outputs": [
    {
     "data": {
      "text/plain": [
       "[[True, False, False, False, False, False, False],\n",
       " [False, True, False, True, False, False, False],\n",
       " [False, False, True, True, False, False, False],\n",
       " [False, False, False, True, False, False, False],\n",
       " [False, False, False, False, True, False, False],\n",
       " [False, False, False, False, False, True, False],\n",
       " [False, False, False, False, False, False, True]]"
      ]
     },
     "execution_count": 27,
     "metadata": {},
     "output_type": "execute_result"
    }
   ],
   "source": [
    "match_regex('xa*b.c', 'xaabyc')"
   ]
  },
  {
   "cell_type": "markdown",
   "metadata": {},
   "source": [
    "Answer is last element. \n",
    "\n",
    "Time and space complexities are both O(m.n)"
   ]
  },
  {
   "cell_type": "code",
   "execution_count": null,
   "metadata": {},
   "outputs": [],
   "source": []
  }
 ],
 "metadata": {
  "kernelspec": {
   "display_name": "Python 3",
   "language": "python",
   "name": "python3"
  },
  "language_info": {
   "codemirror_mode": {
    "name": "ipython",
    "version": 3
   },
   "file_extension": ".py",
   "mimetype": "text/x-python",
   "name": "python",
   "nbconvert_exporter": "python",
   "pygments_lexer": "ipython3",
   "version": "3.7.0"
  },
  "toc": {
   "base_numbering": 1,
   "nav_menu": {},
   "number_sections": true,
   "sideBar": true,
   "skip_h1_title": false,
   "title_cell": "Table of Contents",
   "title_sidebar": "Contents",
   "toc_cell": false,
   "toc_position": {},
   "toc_section_display": true,
   "toc_window_display": false
  }
 },
 "nbformat": 4,
 "nbformat_minor": 2
}
