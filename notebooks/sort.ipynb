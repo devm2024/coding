{
 "cells": [
  {
   "cell_type": "markdown",
   "metadata": {},
   "source": [
    "### Counting sort"
   ]
  },
  {
   "cell_type": "code",
   "execution_count": 1,
   "metadata": {},
   "outputs": [],
   "source": [
    "def countsort(ar):\n",
    "    # initiate empty array in range of max and min\n",
    "    count_ar = [0 for i in range(0, max(ar)+1)]\n",
    "\n",
    "    # update cells with number of instances of each element\n",
    "    for i in ar:\n",
    "        count_ar[i] += 1\n",
    "    \n",
    "    # for similicity, making count array with cumulative sum\n",
    "    for i in range(1,len(count_ar)):\n",
    "        count_ar[i] = count_ar[i] + count_ar[i-1]\n",
    "    \n",
    "    # loop through array and fill respective value into empty array with right indexes\n",
    "    sorted_ar = [0 for i in range(len(ar))]\n",
    "    for i in ar:\n",
    "        idx = count_ar[i]\n",
    "        sorted_ar[idx-1] = i\n",
    "        count_ar[i] -= 1\n",
    "    \n",
    "    return sorted_ar"
   ]
  },
  {
   "cell_type": "code",
   "execution_count": 2,
   "metadata": {},
   "outputs": [
    {
     "data": {
      "text/plain": [
       "[1, 2, 2, 3, 4, 4, 23]"
      ]
     },
     "execution_count": 2,
     "metadata": {},
     "output_type": "execute_result"
    }
   ],
   "source": [
    "countsort([2,23,4,1,2,3,4])"
   ]
  },
  {
   "cell_type": "markdown",
   "metadata": {},
   "source": [
    "Complexity:\n",
    "    \n",
    "* time: O(k+n)\n",
    "* space: O(k+n)\n",
    "\n",
    "Bad if range of numbers is high like 1,10,10k\n"
   ]
  },
  {
   "cell_type": "markdown",
   "metadata": {},
   "source": [
    "### Bubble sort"
   ]
  },
  {
   "cell_type": "code",
   "execution_count": 5,
   "metadata": {},
   "outputs": [],
   "source": [
    "# Complete the countSwaps function below.\n",
    "def countSwaps(a):\n",
    "    temp_arr = a.copy()\n",
    "    num_swaps = 0\n",
    "    is_sorted = False\n",
    "    last = n\n",
    "    while not is_sorted:\n",
    "        is_sorted = True\n",
    "        for j in range(last-1):\n",
    "            if temp_arr[j] > temp_arr[j+1]:\n",
    "                temp_arr[j+1], temp_arr[j] = temp_arr[j], temp_arr[j+1]\n",
    "                num_swaps+=1\n",
    "                is_sorted = False  # is_sorted will be true if it didn't then in this condigion\n",
    "        last-=1 # as definitely highest number has been thrown to rightmost\n",
    "        \n",
    "    print(\"Array is sorted in {} swaps\".format(num_swaps))\n",
    "    print(\"First Element: {}\".format(temp_arr[0]))\n",
    "    print(\"Last Element: {}\".format(temp_arr[-1]))"
   ]
  },
  {
   "cell_type": "code",
   "execution_count": 6,
   "metadata": {},
   "outputs": [
    {
     "name": "stdout",
     "output_type": "stream",
     "text": [
      "Array is sorted in 0 swaps\n",
      "First Element: 1\n",
      "Last Element: 3\n"
     ]
    }
   ],
   "source": [
    "n=3\n",
    "countSwaps([1,2,3])"
   ]
  },
  {
   "cell_type": "markdown",
   "metadata": {},
   "source": [
    "* Time complexity: O(n^2) -- Worst algo for sorting\n",
    "* Space compexity: O(1) -- contant \n"
   ]
  },
  {
   "cell_type": "markdown",
   "metadata": {},
   "source": [
    "### Quick sort"
   ]
  },
  {
   "cell_type": "markdown",
   "metadata": {},
   "source": [
    "* Time complexity: O(n.logn) -- average case\n",
    "    * O(n^2) -- worst case"
   ]
  },
  {
   "cell_type": "markdown",
   "metadata": {},
   "source": [
    "### Insersion sort\n",
    "Worst case complexity is O(n^2) as there can be n.(n-1)/2 invsrsions if array is completely reverse. "
   ]
  },
  {
   "cell_type": "code",
   "execution_count": null,
   "metadata": {},
   "outputs": [],
   "source": [
    "\n",
    "/* Function to sort an array using insertion sort*/\n",
    "void insertionSort(int arr[], int n) \n",
    "{ \n",
    "   int i, key, j; \n",
    "   for (i = 1; i < n; i++) \n",
    "   { \n",
    "       key = arr[i]; \n",
    "       j = i-1; \n",
    "   \n",
    "       /* Move elements of arr[0..i-1], that are \n",
    "          greater than key, to one position ahead \n",
    "          of their current position */\n",
    "       while (j >= 0 && arr[j] > key) \n",
    "       { \n",
    "           arr[j+1] = arr[j]; \n",
    "           j = j-1; \n",
    "       } \n",
    "       arr[j+1] = key; \n",
    "   } \n",
    "}"
   ]
  },
  {
   "cell_type": "code",
   "execution_count": 18,
   "metadata": {},
   "outputs": [],
   "source": [
    "def insersion_sort(arr):\n",
    "    for i in range(1,len(arr)):\n",
    "        key = arr[i]\n",
    "        j = i-1\n",
    "        \n",
    "          # move elements of arr[0..i-1], that are \n",
    "          # greater than key, to one position ahead \n",
    "          # of their current position \n",
    "        while j>=0 and arr[j]>key:\n",
    "            arr[j+1] = arr[j]\n",
    "            j=j-1\n",
    "        arr[j+1] = key\n",
    "    return arr"
   ]
  },
  {
   "cell_type": "code",
   "execution_count": 19,
   "metadata": {},
   "outputs": [
    {
     "data": {
      "text/plain": [
       "[1, 4, 10, 20, 21]"
      ]
     },
     "execution_count": 19,
     "metadata": {},
     "output_type": "execute_result"
    }
   ],
   "source": [
    "insersion_sort([20,1,4,10,21])"
   ]
  },
  {
   "cell_type": "code",
   "execution_count": null,
   "metadata": {},
   "outputs": [],
   "source": []
  }
 ],
 "metadata": {
  "kernelspec": {
   "display_name": "Python 3",
   "language": "python",
   "name": "python3"
  },
  "language_info": {
   "codemirror_mode": {
    "name": "ipython",
    "version": 3
   },
   "file_extension": ".py",
   "mimetype": "text/x-python",
   "name": "python",
   "nbconvert_exporter": "python",
   "pygments_lexer": "ipython3",
   "version": "3.7.0"
  },
  "toc": {
   "base_numbering": 1,
   "nav_menu": {},
   "number_sections": true,
   "sideBar": true,
   "skip_h1_title": false,
   "title_cell": "Table of Contents",
   "title_sidebar": "Contents",
   "toc_cell": false,
   "toc_position": {},
   "toc_section_display": true,
   "toc_window_display": false
  }
 },
 "nbformat": 4,
 "nbformat_minor": 2
}
