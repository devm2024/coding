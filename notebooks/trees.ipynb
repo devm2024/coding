{
 "cells": [
  {
   "cell_type": "markdown",
   "metadata": {},
   "source": [
    "# Trees"
   ]
  },
  {
   "cell_type": "markdown",
   "metadata": {},
   "source": [
    "### Tree traversal\n",
    "Preorder, inorder and postorder traversals of binary tree"
   ]
  },
  {
   "cell_type": "markdown",
   "metadata": {},
   "source": [
    "<img src=\"../images/traverse.png\"  width=\"600\">"
   ]
  },
  {
   "cell_type": "markdown",
   "metadata": {},
   "source": [
    "<img src=\"../images/traversal2.png\"  width=\"600\">"
   ]
  },
  {
   "cell_type": "code",
   "execution_count": 9,
   "metadata": {},
   "outputs": [],
   "source": [
    "# basic node class\n",
    "class Node:\n",
    "    def __init__(self, key):\n",
    "        self.val = key\n",
    "        self.left = None\n",
    "        self.right = None"
   ]
  },
  {
   "cell_type": "markdown",
   "metadata": {},
   "source": [
    "#### Preorder"
   ]
  },
  {
   "cell_type": "code",
   "execution_count": 12,
   "metadata": {},
   "outputs": [],
   "source": [
    "# node as per example in above snapshot\n",
    "node = Node(10)\n",
    "node.left = Node(2)\n",
    "node.left.left = Node(6)\n",
    "node.right = Node(5)\n",
    "node.right.left = Node(8)\n",
    "node.right.right = Node(3)"
   ]
  },
  {
   "cell_type": "code",
   "execution_count": 16,
   "metadata": {},
   "outputs": [],
   "source": [
    "def preorder(node: Node):\n",
    "    if node != None:\n",
    "        print(node.val)\n",
    "        preorder(node.left)\n",
    "        preorder(node.right)"
   ]
  },
  {
   "cell_type": "code",
   "execution_count": 17,
   "metadata": {},
   "outputs": [
    {
     "name": "stdout",
     "output_type": "stream",
     "text": [
      "10\n",
      "2\n",
      "6\n",
      "5\n",
      "8\n",
      "3\n"
     ]
    }
   ],
   "source": [
    "preorder(node)"
   ]
  },
  {
   "cell_type": "code",
   "execution_count": 21,
   "metadata": {},
   "outputs": [],
   "source": [
    "def inorder(node: Node):\n",
    "    if node != None:\n",
    "        inorder(node.left)\n",
    "        print(node.val)\n",
    "        inorder(node.right)"
   ]
  },
  {
   "cell_type": "code",
   "execution_count": 22,
   "metadata": {},
   "outputs": [
    {
     "name": "stdout",
     "output_type": "stream",
     "text": [
      "6\n",
      "2\n",
      "10\n",
      "8\n",
      "5\n",
      "3\n"
     ]
    }
   ],
   "source": [
    "inorder(node)"
   ]
  },
  {
   "cell_type": "code",
   "execution_count": 23,
   "metadata": {},
   "outputs": [],
   "source": [
    "def postorder(node: Node):\n",
    "    if node != None:\n",
    "        postorder(node.left)\n",
    "        postorder(node.right)\n",
    "        print(node.val)"
   ]
  },
  {
   "cell_type": "code",
   "execution_count": 24,
   "metadata": {},
   "outputs": [
    {
     "name": "stdout",
     "output_type": "stream",
     "text": [
      "6\n",
      "2\n",
      "8\n",
      "3\n",
      "5\n",
      "10\n"
     ]
    }
   ],
   "source": [
    "postorder(node)"
   ]
  },
  {
   "cell_type": "markdown",
   "metadata": {},
   "source": [
    "Complexity: \n",
    "* Time: O(n) as we need to get all the nodes\n",
    "* Space: height of tree, as maximum nodes to retain in memory are height of tree"
   ]
  },
  {
   "cell_type": "markdown",
   "metadata": {},
   "source": [
    "### Searching binary search tree\n",
    "Given a binary search tree and a key, return node with this key if it exists or return null.\n"
   ]
  },
  {
   "cell_type": "markdown",
   "metadata": {},
   "source": [
    "<img src='../images/bst.png' width=\"600\">"
   ]
  },
  {
   "cell_type": "code",
   "execution_count": 26,
   "metadata": {},
   "outputs": [],
   "source": [
    "node = Node(10)\n",
    "node.left = Node(-5)\n",
    "node.left.left = Node(-10)\n",
    "node.left.right = Node(0)\n",
    "node.left.right.right = Node(5)\n",
    "node.right = Node(30)\n",
    "node.right.right = Node(36)"
   ]
  },
  {
   "cell_type": "code",
   "execution_count": 27,
   "metadata": {},
   "outputs": [],
   "source": [
    "def binary_search(node: Node, k = 0):\n",
    "    if node is None:\n",
    "        return None\n",
    "    elif node.val == k:\n",
    "        return node.val\n",
    "    elif node.val > k:\n",
    "        return binary_search(node.left, k)\n",
    "    else:\n",
    "        return binary_search(node.right, k)"
   ]
  },
  {
   "cell_type": "code",
   "execution_count": 28,
   "metadata": {},
   "outputs": [
    {
     "data": {
      "text/plain": [
       "-5"
      ]
     },
     "execution_count": 28,
     "metadata": {},
     "output_type": "execute_result"
    }
   ],
   "source": [
    "binary_search(node, -5)"
   ]
  },
  {
   "cell_type": "code",
   "execution_count": 29,
   "metadata": {},
   "outputs": [],
   "source": [
    "binary_search(node, 100)"
   ]
  },
  {
   "cell_type": "markdown",
   "metadata": {},
   "source": [
    "Complexity:\n",
    "* Time\n",
    "    * Balanced tree: O(logN)\n",
    "    * Imbalanced tree/ Worst case: O(N)\n",
    "* Memory\n",
    "    * height of tree. worst case and balanced similar to time"
   ]
  },
  {
   "cell_type": "markdown",
   "metadata": {},
   "source": [
    "### k-th smallest element in BST\n",
    "Given root of binary search tree and K as input, find K-th smallest element in BST. Your task is to return the K-th smallest element in BST from the function k_smallest_element().\n",
    "\n",
    "**Note: The Time Complexity will be O(h) where h is the height of the Tree.**\n",
    "\n"
   ]
  },
  {
   "cell_type": "code",
   "execution_count": 46,
   "metadata": {},
   "outputs": [],
   "source": [
    "arr = [20, 8, 4, 22, 12, 21]"
   ]
  },
  {
   "cell_type": "code",
   "execution_count": 47,
   "metadata": {},
   "outputs": [],
   "source": [
    "class Node:\n",
    "    def __init__(self, val,k):\n",
    "        self.data = val\n",
    "        self.right = None\n",
    "        self.left=None   \n",
    "        self.key = k"
   ]
  },
  {
   "cell_type": "code",
   "execution_count": 48,
   "metadata": {},
   "outputs": [],
   "source": [
    "def insert_node(root, node):\n",
    "    # print root, node\n",
    "    ptraverse = root\n",
    "    curparent = root\n",
    "    \n",
    "    # while part is to go from parent node to current node and add stuff there\n",
    "    while(ptraverse != None):\n",
    "        curparent = ptraverse\n",
    "        if node.data<ptraverse.data:\n",
    "            ptraverse.key+=1\n",
    "            ptraverse=ptraverse.left\n",
    "        else:\n",
    "            ptraverse=ptraverse.right\n",
    "    if root is None:\n",
    "        root = node\n",
    "    elif node.data<curparent.data:\n",
    "        curparent.left=node\n",
    "    else:\n",
    "        curparent.right=node\n",
    "    return root\n",
    "\n",
    "def build_bst(root, arr, n):\n",
    "    for it in range(n):\n",
    "        root = insert_node(root, Node(arr[it], 0))\n",
    "    return root"
   ]
  },
  {
   "cell_type": "markdown",
   "metadata": {},
   "source": [
    "k represents number of nodes to the left of root node. while making BST, we are keeping count of number of nodes on the left"
   ]
  },
  {
   "cell_type": "code",
   "execution_count": 49,
   "metadata": {},
   "outputs": [],
   "source": [
    "n = len(arr)\n",
    "root= None\n",
    "root = build_bst(root, arr, n)\n",
    "k = 3"
   ]
  },
  {
   "cell_type": "code",
   "execution_count": 34,
   "metadata": {},
   "outputs": [
    {
     "data": {
      "text/plain": [
       "12"
      ]
     },
     "execution_count": 34,
     "metadata": {},
     "output_type": "execute_result"
    }
   ],
   "source": [
    "root.left.right.data"
   ]
  },
  {
   "cell_type": "code",
   "execution_count": 50,
   "metadata": {},
   "outputs": [
    {
     "data": {
      "text/plain": [
       "1"
      ]
     },
     "execution_count": 50,
     "metadata": {},
     "output_type": "execute_result"
    }
   ],
   "source": [
    "root.right.key"
   ]
  },
  {
   "cell_type": "code",
   "execution_count": 51,
   "metadata": {
    "scrolled": true
   },
   "outputs": [
    {
     "data": {
      "text/plain": [
       "3"
      ]
     },
     "execution_count": 51,
     "metadata": {},
     "output_type": "execute_result"
    }
   ],
   "source": [
    "root.key"
   ]
  },
  {
   "cell_type": "code",
   "execution_count": 61,
   "metadata": {},
   "outputs": [],
   "source": [
    "def k_smallest_element(root, k):\n",
    "    if k == root.key + 1: return root.data\n",
    "    if k <= root.key : return k_smallest_element(root.left, k)\n",
    "    return k_smallest_element(root.right, k - root.key-1)"
   ]
  },
  {
   "cell_type": "markdown",
   "metadata": {},
   "source": [
    "Make use of fact that we are saving number of elements on the left of tree"
   ]
  },
  {
   "cell_type": "markdown",
   "metadata": {},
   "source": [
    "O(h) time complexity where h is height of tree, and O(1) space complexity. worse time taken case will be when you get to find 1st smallest, then will have to traverse whole depth of tree. hence, O(h)"
   ]
  },
  {
   "cell_type": "code",
   "execution_count": 62,
   "metadata": {},
   "outputs": [
    {
     "name": "stdout",
     "output_type": "stream",
     "text": [
      "12\n"
     ]
    }
   ],
   "source": [
    "print(k_smallest_element(root, k))"
   ]
  },
  {
   "cell_type": "code",
   "execution_count": null,
   "metadata": {},
   "outputs": [],
   "source": []
  },
  {
   "cell_type": "code",
   "execution_count": null,
   "metadata": {},
   "outputs": [],
   "source": []
  }
 ],
 "metadata": {
  "kernelspec": {
   "display_name": "Python 3",
   "language": "python",
   "name": "python3"
  },
  "language_info": {
   "codemirror_mode": {
    "name": "ipython",
    "version": 3
   },
   "file_extension": ".py",
   "mimetype": "text/x-python",
   "name": "python",
   "nbconvert_exporter": "python",
   "pygments_lexer": "ipython3",
   "version": "3.7.0"
  },
  "toc": {
   "base_numbering": 1,
   "nav_menu": {},
   "number_sections": true,
   "sideBar": true,
   "skip_h1_title": false,
   "title_cell": "Table of Contents",
   "title_sidebar": "Contents",
   "toc_cell": false,
   "toc_position": {},
   "toc_section_display": true,
   "toc_window_display": false
  }
 },
 "nbformat": 4,
 "nbformat_minor": 2
}
