{
 "cells": [
  {
   "cell_type": "markdown",
   "metadata": {},
   "source": [
    "## Stats/ Traditional ML\n",
    "* **What are the assumptions of a Linear Regression?**\n",
    "Linear relationship  \n",
    "Multivariate normality  \n",
    "No or little multicollinearity  \n",
    "No auto-correlation  \n",
    "Homoscedasticity  \n",
    "https://www.statisticssolutions.com/assumptions-of-linear-regression/\n",
    "\n",
    "\n",
    "* **What is multi-collinearity, how do you fix it in a regression?**  \n",
    "VIF (Variance Inflation Factor) - Iteratively remove columns based on VIF score   \n",
    "L1 regularization (Lasso)     \n",
    "What is happening with multi-colliearity - More variance in weight estimates as X_T.X is not invertible. So not full rank and no unique solution. So VIF of one column is ratio of variance of model estimates with or without a term. \n",
    "\n",
    "\n",
    "* **Explain the difference between bagged and boosting models**\n",
    "Both ensembling   \n",
    "Bagging: Uncorrelated models (when we take uncorrelated models, error variance reduces), independent models, reduces error variance, observations based on bootstrap, handles overfitting\n",
    "Boosting: sequential models (not independent), observations not based on bootstrap but on errors, learns by reducing error bias, can overfit \n",
    " \n",
    "\n",
    "* **What is the relationship between sample size and margin of error?**   \n",
    "Inverse relationship.\n",
    "1/(sqrt(n))  \n",
    "  \n",
    "  \n",
    "* **What are type I and II errors?**  \n",
    "Type I: Probability of rejecting null when it is true  \n",
    "Type II: Probability of not rejecting null when it is false  \n",
    "  \n",
    "    \n",
    "* **What is F distribution?** [link](https://www.youtube.com/watch?v=G_RDxAZJ-ug)\n",
    "Related to chi-square distribution. Chi sq used in comparison of variances. have devg of freedom. \n",
    "Ratio of 2 independent chi sq r.v over dof -> F distribution. Working with ratio of variances (non negative quantity)\n",
    "For F distribution, mean and median, depend upon the deg of freedom in denominator  \n",
    "Chi-sq related to std normal. If z has std normal, then z^2 has chi-square. that's why, variance has chi square. Different dof, different distribution. For dof >=3, pdf increases to max and then decreased after some point. For dof >>>, it approached normal. chi square: mean = dof, variance = 2.dof\n",
    "\n",
    "\n",
    "\n",
    "* **Bias-Variance, underfitting overfitting**  [andew ng video](https://www.youtube.com/watch?v=SjQyLhQIXSM&t=18s)\n",
    "high bias, low variance -> underfitting. (add complexity to model, train deeper network)\n",
    "low bias, high variance -> overfitting (already complex model, reduce complexity by regularization or add data) (reduce complexity if training score good, validation bad, add more data if training \n",
    "\n",
    "look at bias variance by looking at training and validation set errors. \n",
    "\n",
    "\n",
    "  \n",
    "* **mean, var, skew, kurt**  \n",
    "First, second .. 4th moments. If we want normal, it's skew and kurt should be 0. We can use box cox transformation\n",
    "\n",
    "\n",
    "* Diff between supervised, unsupervised, reinforcement learning\n",
    "* **What does p, d, q mean in Arima time series model?**   \n",
    "p - AR(p). Current time series depend on previous with some lag. (upto p)\n",
    "q - MA(q). Current error depend on previous with some lag. (upto q)\n",
    "d - Number of non seasonal differences we need to take in order to make series stationary \n",
    "\n",
    "\n",
    "* **If you have weekly sales and want to predict future sales, which time series models are you going to use?**\n",
    "How many weeks of data do we have? That would define number of parameters we will need to tune. \n",
    "We might have seasonality (possibly with autoregression). So we can start with ARIMA.  \n",
    "\n",
    "* How to deal with outliers, any model to detect it\n",
    "\n",
    "\n",
    "* **What is R squared, diff between r squared and adjusted r squared**\n",
    "R2 (-inf, 1) 1-SSE/SST  \n",
    "It is percentage of variation explained by our independent variables for dependent variable. But R2 always increases by adding more independent variables, even if they don't contribute to model performance. Adjusted R2 adjusts model performance according to independent variables that do not add anything to model performance\n",
    "  \n",
    "   \n",
    "* **What is regularization, difference between Lasso and Ridge**  \n",
    "[andew ang video](https://www.youtube.com/watch?v=D8PJAL-MZv8&list=PLkDaE6sCZn6Hn0vK8co82zjQtt3T2Nkqc&index=6)\n",
    "\n",
    "\n",
    "\n",
    "* **How to deal with unbalanced binary classification**  \n",
    "https://www.kdnuggets.com/2017/06/7-techniques-handle-imbalanced-data.html\n",
    "\n",
    "\n",
    "* **What you should do if a time series model is not stationary**  \n",
    "If we want to make time series model, we can take seasonal and non seasonal differeces to make it stationary. Check if it's stationary or not by dicky fuller test. Null hypotheis of test = time series is not stationary. It checks whether it has unit root or not.\n",
    "\n",
    "  \n",
    "* **What are the different types of Sampling methods that you have used?**   \n",
    "[link](https://www.khanacademy.org/math/statistics-probability/designing-studies/sampling-methods-stats/a/sampling-methods-review)\n",
    "\n",
    "\n",
    "* **What is cross entropy?**  \n",
    "-log(yhat) if y==1  \n",
    "-log(1-yhat) if y==0  \n",
    "  \n",
    "  \n",
    "* **How can you design a product recommendation system based on taxonomy?**   \n",
    "Basically which user like which product. We can build a recommendation engine using collaborative filtering. Create user-product matrix -> find similar products like by simialar users -> than take dot product to find likability of xyz product for user A -> Sort products\n",
    "\n",
    "skip [read](https://www.iis.sinica.edu.tw/page/jise/2013/201301_05.pdf)\n",
    "\n",
    "\n",
    "* **A person is using search engine to find something, you know nothing about her/him, how do you come up with am algorithm that will predict what she/he needs after the user types only a few letters ?**   \n",
    "I will know the location & time of browsing, create a list of logical items from the typed characters and sort them on the basis of their popularity in that area during that time \n",
    "\n",
    "  \n",
    "* How would you deal with an older professional who consulted you but does not believe in your analytical results and sticks to his older methods?\n",
    "\n",
    "* **Feature importance GINI**\n",
    "mean decrease in impurity by xyz feature.  total decrease in node impurity (weighted by the probability of reaching that node (which is approximated by the proportion of samples reaching that node)) averaged over all trees of the ensemble. "
   ]
  },
  {
   "cell_type": "markdown",
   "metadata": {},
   "source": [
    "ML concepts to revise:\n",
    "* PCA\n",
    "* Page Rank"
   ]
  },
  {
   "cell_type": "markdown",
   "metadata": {},
   "source": [
    "Coding questions to do:\n",
    "* **Dedup a given string.** \n",
    "* Print the combinations in a binary tree. \n",
    "* How many sub-spaces can 4 lines divide in 2D? How many sub-spaces can 4 hyperplanes divide in 3D? \n",
    "* **Given n float numbers {x1, .... xn} which are drawn from some truncated normal distribution where all numbers greater than 10 are discarded (and hence all these numbers are <= 10). How do you estimate the mean/sd of the distribution from which these numbers are drawn?**\n",
    "* **Suppose we have all Walmart transactions stored in the format (timestamp, item ID, amount). How do you choose a data structure to store the data so that given any time window (start, end), we can easily query the total amount inside this window?**\n",
    "* Describe some variables that might be useful to tell whether an online transaction is risky.  \n",
    "* **Write a code to reverse a linked list**\n",
    "* Print the matrix in zigzag form.  \n",
    "* **Hanoi tower puzzle. A couple of disks with different size are placed in stack in random order. You can only lift and flip the plates. How can you sort the plates?** \n",
    "* **If tree 1 has millions of nodes, tree 2 has thousands of nodes. How will you find tree 2 is a subtree of tree 1?**\n",
    "* **How sorting in database works?**  \n",
    "* **given two strings find out total number of occurrences of second string in first string.**  \n",
    "* **Median in incoming stream of number.** \n",
    "* Longest Increasing subsequence. \n",
    "* **Max area under Histogram.**\n",
    "* **Print all the pairs which make sum x in an array of n integers?**\n",
    "* **Write an hash function to generate values between 20-100**\n",
    "* **Get max width of a binary tree** [here](https://www.geeksforgeeks.org/maximum-width-of-a-binary-tree/)\n",
    "\n",
    "* **Check if a tree is BST** \n",
    "* **Generate all possible ip address given an ip address**\n",
    "* **Create a list of 10 consecutive integers between 0 and 10** - easy\n",
    "* Given a list of stores and products, derive a store-product summary table containing fraction of products for each store. (SQL)\n",
    "* **Find all the anagrams of a String**\n",
    "* **Write an algorithm to know if a String is palindrome using Linked list.**"
   ]
  },
  {
   "cell_type": "markdown",
   "metadata": {},
   "source": [
    "## Coding prep"
   ]
  },
  {
   "cell_type": "markdown",
   "metadata": {},
   "source": [
    "#### Dedup a given string."
   ]
  },
  {
   "cell_type": "code",
   "execution_count": 19,
   "metadata": {},
   "outputs": [],
   "source": [
    "st = \"sfadnlssasads\""
   ]
  },
  {
   "cell_type": "code",
   "execution_count": 20,
   "metadata": {},
   "outputs": [
    {
     "data": {
      "text/plain": [
       "'nalsfd'"
      ]
     },
     "execution_count": 20,
     "metadata": {},
     "output_type": "execute_result"
    }
   ],
   "source": [
    "\"\".join(list(set(st)))"
   ]
  },
  {
   "cell_type": "markdown",
   "metadata": {},
   "source": [
    "From scratch, implementing using hashtable as O(1) search in hash table"
   ]
  },
  {
   "cell_type": "code",
   "execution_count": 21,
   "metadata": {},
   "outputs": [],
   "source": [
    "hash_set = {}\n",
    "out_s = ''\n",
    "for i in st:\n",
    "    if i not in hash_set:\n",
    "        hash_set[i] = 0\n",
    "        out_s+=i"
   ]
  },
  {
   "cell_type": "code",
   "execution_count": 22,
   "metadata": {},
   "outputs": [
    {
     "data": {
      "text/plain": [
       "'sfadnl'"
      ]
     },
     "execution_count": 22,
     "metadata": {},
     "output_type": "execute_result"
    }
   ],
   "source": [
    "out_s"
   ]
  },
  {
   "cell_type": "markdown",
   "metadata": {},
   "source": [
    "Complexity is O(n)"
   ]
  },
  {
   "cell_type": "code",
   "execution_count": 23,
   "metadata": {},
   "outputs": [
    {
     "data": {
      "text/plain": [
       "['a', 's', 'd', 'a', 's']"
      ]
     },
     "execution_count": 23,
     "metadata": {},
     "output_type": "execute_result"
    }
   ],
   "source": [
    "list('asdas')"
   ]
  },
  {
   "cell_type": "markdown",
   "metadata": {},
   "source": [
    "If we need to do it inplace? \n",
    "Make a list, keep on replacing values inplace if found, else move on. Use two pointers and while"
   ]
  },
  {
   "cell_type": "code",
   "execution_count": 25,
   "metadata": {},
   "outputs": [
    {
     "data": {
      "text/plain": [
       "115"
      ]
     },
     "execution_count": 25,
     "metadata": {},
     "output_type": "execute_result"
    }
   ],
   "source": [
    "ord(\"s\")"
   ]
  },
  {
   "cell_type": "markdown",
   "metadata": {},
   "source": [
    "#### Given n float numbers {x1, .... xn} which are drawn from some truncated normal distribution where all numbers greater than 10 are discarded (and hence all these numbers are <= 10). How do you estimate the mean/sd of the distribution from which these numbers are drawn?"
   ]
  },
  {
   "cell_type": "markdown",
   "metadata": {},
   "source": [
    "**Truncated normal distribution:**\n",
    "Limit normal distribution by thresholding\n"
   ]
  },
  {
   "cell_type": "code",
   "execution_count": 30,
   "metadata": {},
   "outputs": [],
   "source": [
    "from scipy.stats import truncnorm\n",
    "import matplotlib.pyplot as plt\n",
    "import numpy as np"
   ]
  },
  {
   "cell_type": "code",
   "execution_count": 28,
   "metadata": {},
   "outputs": [
    {
     "data": {
      "text/plain": [
       "<scipy.stats._distn_infrastructure.rv_frozen at 0x1061ff668>"
      ]
     },
     "execution_count": 28,
     "metadata": {},
     "output_type": "execute_result"
    }
   ],
   "source": [
    "truncnorm(1,10)"
   ]
  },
  {
   "cell_type": "code",
   "execution_count": 56,
   "metadata": {},
   "outputs": [],
   "source": [
    "a, b = -1000000000, 2\n",
    "mean, var, skew, kurt = truncnorm.stats(a, b, moments='mvsk')"
   ]
  },
  {
   "cell_type": "code",
   "execution_count": 57,
   "metadata": {},
   "outputs": [
    {
     "data": {
      "text/plain": [
       "(array(-0.05524786), array(0.88645195), array(-0.2209357), array(-0.2390626))"
      ]
     },
     "execution_count": 57,
     "metadata": {},
     "output_type": "execute_result"
    }
   ],
   "source": [
    "mean, var, skew, kurt"
   ]
  },
  {
   "cell_type": "code",
   "execution_count": 58,
   "metadata": {},
   "outputs": [],
   "source": [
    "x = np.linspace(truncnorm.ppf(0.001, a, b),\n",
    "                truncnorm.ppf(0.999, a, b), 100)"
   ]
  },
  {
   "cell_type": "code",
   "execution_count": 59,
   "metadata": {},
   "outputs": [
    {
     "data": {
      "text/plain": [
       "[<matplotlib.lines.Line2D at 0x1089d5e80>]"
      ]
     },
     "execution_count": 59,
     "metadata": {},
     "output_type": "execute_result"
    },
    {
     "data": {
      "image/png": "[encoded data removed]",
      "text/plain": [
       "<Figure size 432x288 with 1 Axes>"
      ]
     },
     "metadata": {},
     "output_type": "display_data"
    }
   ],
   "source": [
    "fig, ax = plt.subplots(1, 1)\n",
    "ax.plot(x, truncnorm.pdf(x, a, b), 'r-', lw=5, alpha=0.6, label='truncnorm pdf')"
   ]
  },
  {
   "cell_type": "code",
   "execution_count": 61,
   "metadata": {},
   "outputs": [],
   "source": [
    "??truncnorm.stats"
   ]
  },
  {
   "cell_type": "markdown",
   "metadata": {},
   "source": [
    "#### Suppose we have all Walmart transactions stored in the format (timestamp, item ID, amount). How do you choose a data structure to store the data so that given any time window (start, end), we can easily query the total amount inside this window?"
   ]
  },
  {
   "cell_type": "markdown",
   "metadata": {},
   "source": [
    "It can be easily queries if stored in SQL, `select sum(amt) from table where timestamp > a and timestamp < b`. \n",
    "Similar logic can be applied in dataframe. But is it optimized?"
   ]
  },
  {
   "cell_type": "markdown",
   "metadata": {},
   "source": [
    "Data structure to make query easy is **hashmap** where each time-stamp is stored in one of the buckets"
   ]
  },
  {
   "cell_type": "markdown",
   "metadata": {},
   "source": [
    "#### Write a code to reverse a linked list"
   ]
  },
  {
   "cell_type": "code",
   "execution_count": 298,
   "metadata": {},
   "outputs": [],
   "source": [
    "class Node:\n",
    "    def __init__(self, val):\n",
    "        self.next = None\n",
    "        self.data = val"
   ]
  },
  {
   "cell_type": "code",
   "execution_count": 299,
   "metadata": {},
   "outputs": [],
   "source": [
    "class LinkedList:\n",
    "    def __init__(self):\n",
    "        self.head = None\n",
    "    def insert(self, e):\n",
    "        if not self.head:\n",
    "            self.head = Node(e)\n",
    "        else:\n",
    "            new_node = Node(e)\n",
    "            tmp = self.head\n",
    "            while tmp.next:\n",
    "                tmp = tmp.next\n",
    "            tmp.next = new_node\n",
    "\n",
    "def create_ll(lis):\n",
    "    link = LinkedList()\n",
    "    for i,e in enumerate(lis):\n",
    "        link.insert(e)\n",
    "    return link.head\n",
    "\n",
    "def print_link(link):\n",
    "    if link:\n",
    "        st = str(link.data)\n",
    "\n",
    "        next_node = link\n",
    "        while next_node.next:\n",
    "            next_node = next_node.next\n",
    "            st= st + \"->\" + str(next_node.data)\n",
    "        st = st + \"->\"\n",
    "    print(st)"
   ]
  },
  {
   "cell_type": "code",
   "execution_count": 300,
   "metadata": {},
   "outputs": [],
   "source": [
    "link = create_ll([1,2,3,4,5])"
   ]
  },
  {
   "cell_type": "code",
   "execution_count": 301,
   "metadata": {},
   "outputs": [
    {
     "name": "stdout",
     "output_type": "stream",
     "text": [
      "1->2->3->4->5->\n"
     ]
    }
   ],
   "source": [
    "print_link(link)"
   ]
  },
  {
   "cell_type": "code",
   "execution_count": 118,
   "metadata": {},
   "outputs": [],
   "source": [
    "def reverse_ll(link):\n",
    "    new_node = Node(link.data) # 1->None\n",
    "    tmp = link  # 1 -> [2,3,4,5]\n",
    "    while tmp.next:\n",
    "        tmp = tmp.next\n",
    "        next_node = Node(tmp.data)  # 2-> None\n",
    "        next_node.next = new_node # 2 -> [1 -> None]\n",
    "        new_node = next_node  \n",
    "    \n",
    "    return new_node"
   ]
  },
  {
   "cell_type": "code",
   "execution_count": 119,
   "metadata": {},
   "outputs": [],
   "source": [
    "rev_ll = reverse_ll(link)"
   ]
  },
  {
   "cell_type": "code",
   "execution_count": 120,
   "metadata": {},
   "outputs": [
    {
     "name": "stdout",
     "output_type": "stream",
     "text": [
      "5->4->3->2->1->\n"
     ]
    }
   ],
   "source": [
    "print_link(rev_ll)"
   ]
  },
  {
   "cell_type": "markdown",
   "metadata": {},
   "source": [
    "#### Print all the pairs which make sum x in an array of n integers?\n",
    "Questions to ask: Do we want unique pairs? Are there repetetions of any element in array?"
   ]
  },
  {
   "cell_type": "markdown",
   "metadata": {},
   "source": [
    "O(n.n) is easy with two loops and printing when sum is x"
   ]
  },
  {
   "cell_type": "markdown",
   "metadata": {},
   "source": [
    "O(n.logn) if we sort the array and then start from 2 extreme ends. Initialize l=0, r=end pt. While l<r, if a(l) + a(r) = k, print. if a(l)+a(r)<k: move r-1, else, move l+1. \n",
    "Bt if array is already sorted, this will do best O(logn)"
   ]
  },
  {
   "cell_type": "markdown",
   "metadata": {},
   "source": [
    "O(n) to make a dictionary with each number as key and count of appearance as value. Then another loop O(n) to check if x-(num) present in dictionary"
   ]
  },
  {
   "cell_type": "code",
   "execution_count": 128,
   "metadata": {},
   "outputs": [],
   "source": [
    "n = [1,42,12,22,24,5,145,2,3,0,4]\n",
    "x = 5"
   ]
  },
  {
   "cell_type": "code",
   "execution_count": 129,
   "metadata": {},
   "outputs": [],
   "source": [
    "dic = {}\n",
    "for i in n:\n",
    "    if i not in dic:\n",
    "        dic[i] = 1\n",
    "    else:\n",
    "        dic[i]+=1        "
   ]
  },
  {
   "cell_type": "code",
   "execution_count": 130,
   "metadata": {},
   "outputs": [
    {
     "data": {
      "text/plain": [
       "{1: 1, 42: 1, 12: 1, 22: 1, 24: 1, 5: 1, 145: 1, 2: 1, 3: 1, 0: 1, 4: 1}"
      ]
     },
     "execution_count": 130,
     "metadata": {},
     "output_type": "execute_result"
    }
   ],
   "source": [
    "dic"
   ]
  },
  {
   "cell_type": "code",
   "execution_count": 131,
   "metadata": {},
   "outputs": [
    {
     "name": "stdout",
     "output_type": "stream",
     "text": [
      "1 4\n",
      "5 0\n",
      "2 3\n"
     ]
    }
   ],
   "source": [
    "for i in n:\n",
    "    if x-i in dic and dic[x-i] > 0:\n",
    "        print(i, x-i)\n",
    "        dic[x-i]-=1\n",
    "        dic[i]-=1"
   ]
  },
  {
   "cell_type": "markdown",
   "metadata": {},
   "source": [
    "#### Generate all possible ip address given an ip address\n",
    "A valid IP address must be in the form of A.B.C.D, where A, B, C, and D are numbers from 0-255. The numbers cannot be 0 prefixed unless they are 0."
   ]
  },
  {
   "cell_type": "code",
   "execution_count": 152,
   "metadata": {},
   "outputs": [],
   "source": [
    "st = \"25525511135\""
   ]
  },
  {
   "cell_type": "markdown",
   "metadata": {},
   "source": [
    "2.(55... : is_ip?) recursivley"
   ]
  },
  {
   "cell_type": "code",
   "execution_count": 159,
   "metadata": {},
   "outputs": [],
   "source": [
    "def is_ip(st):\n",
    "    st_list = st.split(\".\")\n",
    "    \n",
    "    for e in st_list:\n",
    "        try:\n",
    "            if int(e) < 0 or int(e) > 255 or len(e)>3:\n",
    "                return False\n",
    "        except ValueError:\n",
    "            print(e)\n",
    "        if len(e) > 1 and e[0] == 0:\n",
    "            return False\n",
    "    return True  "
   ]
  },
  {
   "cell_type": "code",
   "execution_count": 162,
   "metadata": {},
   "outputs": [],
   "source": [
    "def print_all_ipds(st):\n",
    "    if len(st)>12:\n",
    "        return \n",
    "    sub = st\n",
    "    for i in range(1, len(st)-2):\n",
    "        for j in range(i+1, len(st)-1):\n",
    "            for k in range(j+1, len(st)):\n",
    "                sub = sub[:k] + \".\" + sub[k:]\n",
    "                sub = sub[:j] + \".\" + sub[j:]\n",
    "                sub = sub[:i] + \".\" + sub[i:]\n",
    "                if is_ip(sub):\n",
    "                    print(sub)\n",
    "                sub=st"
   ]
  },
  {
   "cell_type": "code",
   "execution_count": 163,
   "metadata": {},
   "outputs": [
    {
     "name": "stdout",
     "output_type": "stream",
     "text": [
      "255.255.11.135\n",
      "255.255.111.35\n"
     ]
    }
   ],
   "source": [
    "print_all_ipds(st)"
   ]
  },
  {
   "cell_type": "markdown",
   "metadata": {},
   "source": [
    "O(n.n.n)"
   ]
  },
  {
   "cell_type": "markdown",
   "metadata": {},
   "source": [
    "#### Check if a tree is BST\n",
    "\n",
    "Binary Search Tree is a node-based binary tree data structure which has the following properties:\n",
    "\n",
    "The left subtree of a node contains only nodes with keys lesser than the node’s key.\n",
    "The right subtree of a node contains only nodes with keys greater than the node’s key.\n",
    "The left and right subtree each must also be a binary search tree."
   ]
  },
  {
   "cell_type": "code",
   "execution_count": 177,
   "metadata": {},
   "outputs": [],
   "source": [
    "class TreeNode:\n",
    "    def __init__(self, val=None):\n",
    "        self.val = val\n",
    "        self.left=None\n",
    "        self.right=None"
   ]
  },
  {
   "cell_type": "code",
   "execution_count": 178,
   "metadata": {},
   "outputs": [],
   "source": [
    "lis_preorder = [2,1,5,4,7,8]"
   ]
  },
  {
   "cell_type": "code",
   "execution_count": 179,
   "metadata": {},
   "outputs": [],
   "source": [
    "tree= TreeNode(2)\n",
    "tree.left=TreeNode(1)\n",
    "tree.right=TreeNode(5)\n",
    "tree.right.left=TreeNode(4)\n",
    "tree.right.right=TreeNode(7)\n",
    "tree.right.right.right=TreeNode(8)"
   ]
  },
  {
   "cell_type": "code",
   "execution_count": 196,
   "metadata": {},
   "outputs": [],
   "source": [
    "def is_bst(root, min_n, max_n):\n",
    "    \n",
    "    # Leaf node or no root. True\n",
    "    if root is None:\n",
    "        return True\n",
    "    \n",
    "    # anything out of range\n",
    "    if root.val < min_n or root.val > max_n:\n",
    "        return False\n",
    "    \n",
    "    return is_bst(root.left, min_n, root.val) and is_bst(root.right, root.val, max_n)"
   ]
  },
  {
   "cell_type": "code",
   "execution_count": 197,
   "metadata": {},
   "outputs": [
    {
     "data": {
      "text/plain": [
       "True"
      ]
     },
     "execution_count": 197,
     "metadata": {},
     "output_type": "execute_result"
    }
   ],
   "source": [
    "is_bst(tree, -1000, 1000)"
   ]
  },
  {
   "cell_type": "markdown",
   "metadata": {},
   "source": [
    "O(n)"
   ]
  },
  {
   "cell_type": "markdown",
   "metadata": {},
   "source": [
    "#### Max rectangular area under Histogram."
   ]
  },
  {
   "cell_type": "markdown",
   "metadata": {},
   "source": [
    "https://www.geeksforgeeks.org/largest-rectangle-under-histogram/"
   ]
  },
  {
   "cell_type": "markdown",
   "metadata": {},
   "source": [
    "#### Given two strings find out total number of occurrences of second string in first string.\n",
    "Question to ask - Continuous or discontinous? "
   ]
  },
  {
   "cell_type": "markdown",
   "metadata": {},
   "source": [
    "Input:  \n",
    "string a = \"GeeksforGeeks\"\n",
    "string b = \"Gks\"\n",
    "\n",
    "Output: 4"
   ]
  },
  {
   "cell_type": "markdown",
   "metadata": {},
   "source": [
    "https://www.geeksforgeeks.org/find-number-times-string-occurs-given-string/"
   ]
  },
  {
   "cell_type": "markdown",
   "metadata": {},
   "source": [
    "#### How does a relational database sort dataset\n",
    "https://www.quora.com/How-does-a-relational-database-sort-datasets-and-why-does-it-do-it-this-way"
   ]
  },
  {
   "cell_type": "markdown",
   "metadata": {},
   "source": [
    "#### Write an hash function to generate values between 20-100  \n",
    "Get remainder if divide by 81 -> Gives value between 0 and 80. Add 20"
   ]
  },
  {
   "cell_type": "markdown",
   "metadata": {},
   "source": [
    "`md5` hash function  \n",
    "`hashlib` library"
   ]
  },
  {
   "cell_type": "code",
   "execution_count": 220,
   "metadata": {},
   "outputs": [],
   "source": [
    "# long(md5.md5(string).hexdigest(),16) % 81 + 20"
   ]
  },
  {
   "cell_type": "code",
   "execution_count": 219,
   "metadata": {},
   "outputs": [
    {
     "data": {
      "text/plain": [
       "0"
      ]
     },
     "execution_count": 219,
     "metadata": {},
     "output_type": "execute_result"
    }
   ],
   "source": [
    "12%2"
   ]
  },
  {
   "cell_type": "code",
   "execution_count": 208,
   "metadata": {},
   "outputs": [],
   "source": [
    "import hashlib"
   ]
  },
  {
   "cell_type": "code",
   "execution_count": 214,
   "metadata": {},
   "outputs": [],
   "source": [
    "st =\"nameisprince\""
   ]
  },
  {
   "cell_type": "code",
   "execution_count": 215,
   "metadata": {},
   "outputs": [
    {
     "data": {
      "text/plain": [
       "b'nameisprince'"
      ]
     },
     "execution_count": 215,
     "metadata": {},
     "output_type": "execute_result"
    }
   ],
   "source": [
    "st.encode()"
   ]
  },
  {
   "cell_type": "code",
   "execution_count": 212,
   "metadata": {},
   "outputs": [],
   "source": [
    "hashb = hashlib.md5(b\"nameisprince\")"
   ]
  },
  {
   "cell_type": "code",
   "execution_count": 213,
   "metadata": {},
   "outputs": [
    {
     "data": {
      "text/plain": [
       "b\"\\xfe\\xdc-w\\x1c?`P\\x8d\\x8eO\\xa6'3\\n\\x07\""
      ]
     },
     "execution_count": 213,
     "metadata": {},
     "output_type": "execute_result"
    }
   ],
   "source": [
    "hashb.digest()"
   ]
  },
  {
   "cell_type": "code",
   "execution_count": 216,
   "metadata": {},
   "outputs": [
    {
     "data": {
      "text/plain": [
       "'fedc2d771c3f60508d8e4fa627330a07'"
      ]
     },
     "execution_count": 216,
     "metadata": {},
     "output_type": "execute_result"
    }
   ],
   "source": [
    "hashb.hexdigest()"
   ]
  },
  {
   "cell_type": "markdown",
   "metadata": {},
   "source": [
    "#### If tree 1 has millions of nodes, tree 2 has thousands of nodes. How will you find tree 2 is a subtree of tree 1? "
   ]
  },
  {
   "cell_type": "code",
   "execution_count": 222,
   "metadata": {},
   "outputs": [],
   "source": [
    "class Node:\n",
    "    def __init__(self, data):\n",
    "        self.data = data\n",
    "        self.left = None\n",
    "        self.right = None"
   ]
  },
  {
   "cell_type": "code",
   "execution_count": 235,
   "metadata": {},
   "outputs": [],
   "source": [
    "def is_identical(root1, root2):\n",
    "    \"\"\"\n",
    "    checks if two trees with given root are identical\n",
    "    \"\"\"\n",
    "    # base case\n",
    "    if root1 is None and root2 is None:\n",
    "        return True\n",
    "    \n",
    "    # if one tree reaches leaf, other deosn't\n",
    "    if root1 is None or root2 is None:\n",
    "        return False\n",
    "    \n",
    "    # everything should match\n",
    "    return (root1.data == root2.data and \n",
    "           is_identical(root1.left, root2.left) and\n",
    "           is_identical(root1.right, root2.right))\n",
    "\n",
    "\n",
    "def check_subtree(T,S):\n",
    "    \"\"\"\n",
    "    T - original tree\n",
    "    S - subtree\n",
    "    \"\"\"\n",
    "    if S is None:\n",
    "        return True\n",
    "    if T is None:\n",
    "        return False\n",
    "    \n",
    "    if is_identical(T, S):\n",
    "        return True\n",
    "    \n",
    "    return is_identical(T.left, S) or\\\n",
    "            is_identical(T.right, S)"
   ]
  },
  {
   "cell_type": "code",
   "execution_count": 236,
   "metadata": {},
   "outputs": [],
   "source": [
    "# Driver program to test above function \n",
    "  \n",
    "\"\"\" TREE 1 \n",
    "     Construct the following tree \n",
    "              26 \n",
    "            /   \\ \n",
    "          10     3 \n",
    "        /    \\     \\ \n",
    "      4      6      3 \n",
    "       \\ \n",
    "        30 \n",
    "    \"\"\"\n",
    "  \n",
    "T = Node(26) \n",
    "T.right = Node(3) \n",
    "T.right.right  = Node(3) \n",
    "T.left = Node(10) \n",
    "T.left.left = Node(4) \n",
    "T.left.left.right = Node(30) \n",
    "T.left.right = Node(6)"
   ]
  },
  {
   "cell_type": "code",
   "execution_count": 237,
   "metadata": {},
   "outputs": [
    {
     "name": "stdout",
     "output_type": "stream",
     "text": [
      "Tree 2 is subtree of Tree 1\n"
     ]
    }
   ],
   "source": [
    "\"\"\" TREE 2 \n",
    "     Construct the following tree \n",
    "          10 \n",
    "        /    \\ \n",
    "      4      6 \n",
    "       \\ \n",
    "        30 \n",
    "    \"\"\"\n",
    "S = Node(10) \n",
    "S.right = Node(6) \n",
    "S.left = Node(4) \n",
    "S.left.right = Node(30) \n",
    "  \n",
    "if check_subtree(T, S): \n",
    "    print(\"Tree 2 is subtree of Tree 1\")\n",
    "else:\n",
    "    print(\"Tree 2 is not a subtree of Tree 1\")"
   ]
  },
  {
   "cell_type": "markdown",
   "metadata": {},
   "source": [
    "O(m.n)"
   ]
  },
  {
   "cell_type": "markdown",
   "metadata": {},
   "source": [
    "#### Median in incoming stream of number.\n",
    "Use of insersion sort"
   ]
  },
  {
   "cell_type": "code",
   "execution_count": 238,
   "metadata": {},
   "outputs": [],
   "source": [
    "def insert_sorted(arr,x):\n",
    "    \"\"\"\n",
    "    Insert item x in list arr, and keep it sorted assuming arr is sorted.\n",
    "    \"\"\"\n",
    "    arr.append(x)\n",
    "    i = len(arr)-1\n",
    "    key = arr[i]\n",
    "    j = i-1\n",
    "    \n",
    "    while j>=0 and arr[j]>key:\n",
    "        arr[j+1] = arr[j]\n",
    "        j=j-1\n",
    "    arr[j+1] = key\n",
    "    return arr"
   ]
  },
  {
   "cell_type": "code",
   "execution_count": 239,
   "metadata": {},
   "outputs": [],
   "source": [
    "new_ar = insert_sorted([3,5,15,25],10)"
   ]
  },
  {
   "cell_type": "code",
   "execution_count": 240,
   "metadata": {},
   "outputs": [
    {
     "data": {
      "text/plain": [
       "[3, 5, 10, 15, 25]"
      ]
     },
     "execution_count": 240,
     "metadata": {},
     "output_type": "execute_result"
    }
   ],
   "source": [
    "new_ar"
   ]
  },
  {
   "cell_type": "code",
   "execution_count": 241,
   "metadata": {},
   "outputs": [],
   "source": [
    "if len(new_ar)%2 == 0:\n",
    "    med = (new_ar[len(new_ar)//2] + new_ar[len(new_ar)//2-1])/2.\n",
    "else:\n",
    "    med = new_ar[len(new_ar)//2]"
   ]
  },
  {
   "cell_type": "code",
   "execution_count": 242,
   "metadata": {},
   "outputs": [
    {
     "data": {
      "text/plain": [
       "10"
      ]
     },
     "execution_count": 242,
     "metadata": {},
     "output_type": "execute_result"
    }
   ],
   "source": [
    "med"
   ]
  },
  {
   "cell_type": "markdown",
   "metadata": {},
   "source": [
    "But **insersion sort** will always give polynomial solution. \n",
    "Can use **self balancing trees** -> Elements on left contain less than median, right contain more than median"
   ]
  },
  {
   "cell_type": "markdown",
   "metadata": {},
   "source": [
    "Addition of new element in log"
   ]
  },
  {
   "cell_type": "markdown",
   "metadata": {},
   "source": [
    "#### String permutations"
   ]
  },
  {
   "cell_type": "code",
   "execution_count": 245,
   "metadata": {},
   "outputs": [],
   "source": [
    "st = \"abcd\""
   ]
  },
  {
   "cell_type": "markdown",
   "metadata": {},
   "source": [
    "Easiest - Use `itertools`"
   ]
  },
  {
   "cell_type": "code",
   "execution_count": 247,
   "metadata": {},
   "outputs": [],
   "source": [
    "from itertools import permutations"
   ]
  },
  {
   "cell_type": "code",
   "execution_count": 251,
   "metadata": {},
   "outputs": [],
   "source": [
    "?permutations"
   ]
  },
  {
   "cell_type": "code",
   "execution_count": 249,
   "metadata": {},
   "outputs": [
    {
     "data": {
      "text/plain": [
       "[('a', 'b', 'c', 'd'),\n",
       " ('a', 'b', 'd', 'c'),\n",
       " ('a', 'c', 'b', 'd'),\n",
       " ('a', 'c', 'd', 'b'),\n",
       " ('a', 'd', 'b', 'c'),\n",
       " ('a', 'd', 'c', 'b'),\n",
       " ('b', 'a', 'c', 'd'),\n",
       " ('b', 'a', 'd', 'c'),\n",
       " ('b', 'c', 'a', 'd'),\n",
       " ('b', 'c', 'd', 'a'),\n",
       " ('b', 'd', 'a', 'c'),\n",
       " ('b', 'd', 'c', 'a'),\n",
       " ('c', 'a', 'b', 'd'),\n",
       " ('c', 'a', 'd', 'b'),\n",
       " ('c', 'b', 'a', 'd'),\n",
       " ('c', 'b', 'd', 'a'),\n",
       " ('c', 'd', 'a', 'b'),\n",
       " ('c', 'd', 'b', 'a'),\n",
       " ('d', 'a', 'b', 'c'),\n",
       " ('d', 'a', 'c', 'b'),\n",
       " ('d', 'b', 'a', 'c'),\n",
       " ('d', 'b', 'c', 'a'),\n",
       " ('d', 'c', 'a', 'b'),\n",
       " ('d', 'c', 'b', 'a')]"
      ]
     },
     "execution_count": 249,
     "metadata": {},
     "output_type": "execute_result"
    }
   ],
   "source": [
    "list(permutations(st))"
   ]
  },
  {
   "cell_type": "code",
   "execution_count": 256,
   "metadata": {},
   "outputs": [],
   "source": [
    "def permutations2(st, prefix):\n",
    "    # some closing condition\n",
    "    if len(st) == 0:\n",
    "        print(prefix)\n",
    "    \n",
    "    # loop through string and keep on calling it\n",
    "    for i in range(len(st)):\n",
    "        r = st[:i] + st[i+1:]\n",
    "        permutations2(r, prefix+st[i])"
   ]
  },
  {
   "cell_type": "code",
   "execution_count": 257,
   "metadata": {},
   "outputs": [
    {
     "name": "stdout",
     "output_type": "stream",
     "text": [
      "abcd\n",
      "abdc\n",
      "acbd\n",
      "acdb\n",
      "adbc\n",
      "adcb\n",
      "bacd\n",
      "badc\n",
      "bcad\n",
      "bcda\n",
      "bdac\n",
      "bdca\n",
      "cabd\n",
      "cadb\n",
      "cbad\n",
      "cbda\n",
      "cdab\n",
      "cdba\n",
      "dabc\n",
      "dacb\n",
      "dbac\n",
      "dbca\n",
      "dcab\n",
      "dcba\n"
     ]
    }
   ],
   "source": [
    "permutations2(st,\"\")"
   ]
  },
  {
   "cell_type": "markdown",
   "metadata": {},
   "source": [
    "#### Find all the anagrams of a String"
   ]
  },
  {
   "cell_type": "code",
   "execution_count": 262,
   "metadata": {},
   "outputs": [],
   "source": [
    "from collections import defaultdict"
   ]
  },
  {
   "cell_type": "code",
   "execution_count": 264,
   "metadata": {},
   "outputs": [],
   "source": [
    "def is_anagram(s1,s2):\n",
    "    d1 = defaultdict(lambda: 0)\n",
    "    d2 = defaultdict(lambda: 0)\n",
    "    \n",
    "    # obvious cases\n",
    "    if len(s1) != len(s2):\n",
    "        return False\n",
    "     \n",
    "    for i in range(len(s1)):\n",
    "        d1[s1[i]]+=1\n",
    "        d2[s2[i]]+=1\n",
    "    \n",
    "    return d1==d2"
   ]
  },
  {
   "cell_type": "code",
   "execution_count": 267,
   "metadata": {},
   "outputs": [
    {
     "data": {
      "text/plain": [
       "True"
      ]
     },
     "execution_count": 267,
     "metadata": {},
     "output_type": "execute_result"
    }
   ],
   "source": [
    "is_anagram(\"listen\", \"silent\")"
   ]
  },
  {
   "cell_type": "markdown",
   "metadata": {},
   "source": [
    "O(n) to create dic. and O(1) comparisons of hashmaps"
   ]
  },
  {
   "cell_type": "markdown",
   "metadata": {},
   "source": [
    "#### Write an algorithm to know if a String is palindrome using Linked list."
   ]
  },
  {
   "cell_type": "markdown",
   "metadata": {},
   "source": [
    "Basically, reversing a string using linked list and then comparing reversed and unreversed strings. "
   ]
  },
  {
   "cell_type": "markdown",
   "metadata": {},
   "source": [
    "https://www.geeksforgeeks.org/function-to-check-if-a-singly-linked-list-is-palindrome/"
   ]
  },
  {
   "cell_type": "markdown",
   "metadata": {},
   "source": [
    "Implementation using stack O(n) time and space"
   ]
  },
  {
   "cell_type": "markdown",
   "metadata": {},
   "source": [
    "Linked list class and it's reverse function have been defined in one of the code chunks above. Using that "
   ]
  },
  {
   "cell_type": "code",
   "execution_count": 277,
   "metadata": {},
   "outputs": [
    {
     "name": "stdout",
     "output_type": "stream",
     "text": [
      "1->2->3->4->5->\n"
     ]
    }
   ],
   "source": [
    "print_link(link)"
   ]
  },
  {
   "cell_type": "code",
   "execution_count": 304,
   "metadata": {},
   "outputs": [],
   "source": [
    "def traverse_stack_compare(link):\n",
    "    \n",
    "    stack = []\n",
    "    tmp = link # head\n",
    "    \n",
    "    # making stack while traversing\n",
    "    while tmp.next:\n",
    "        stack.append(tmp.data)  # appending from stack\n",
    "        tmp=tmp.next\n",
    "    stack.append(tmp.data)\n",
    "    \n",
    "    # popping stack, traversing and comparing\n",
    "    tmp = link # head\n",
    "    while tmp.next:\n",
    "        if tmp.data != stack.pop():\n",
    "            return False\n",
    "        tmp=tmp.next\n",
    "    if tmp.data != stack.pop():\n",
    "        return False\n",
    "    \n",
    "    return True"
   ]
  },
  {
   "cell_type": "code",
   "execution_count": 306,
   "metadata": {},
   "outputs": [
    {
     "data": {
      "text/plain": [
       "False"
      ]
     },
     "execution_count": 306,
     "metadata": {},
     "output_type": "execute_result"
    }
   ],
   "source": [
    "traverse_stack_compare(link)"
   ]
  },
  {
   "cell_type": "code",
   "execution_count": 302,
   "metadata": {},
   "outputs": [],
   "source": [
    "link2 = create_ll([\"r\",\"a\",\"d\",\"a\",\"r\"])"
   ]
  },
  {
   "cell_type": "code",
   "execution_count": 305,
   "metadata": {},
   "outputs": [
    {
     "data": {
      "text/plain": [
       "True"
      ]
     },
     "execution_count": 305,
     "metadata": {},
     "output_type": "execute_result"
    }
   ],
   "source": [
    "traverse_stack_compare(link2)"
   ]
  },
  {
   "cell_type": "markdown",
   "metadata": {},
   "source": [
    "#### Shortest Palindrome\n",
    "Given a string s, you are allowed to convert it to a palindrome by adding characters in front of it. Find and return the shortest palindrome you can find by performing this transformation."
   ]
  },
  {
   "cell_type": "markdown",
   "metadata": {},
   "source": [
    "Method:\n",
    "1. First print reversed string as it is. It is palindrome\n",
    "2. now remove redundant characters which even after getting removed give palindrome. \n",
    "3. For that we compare biggest length of suffixes from reversed matching with all prefixes of original\n",
    "4. Remove the one that is largest matching length from \"right\" part of reversed string "
   ]
  },
  {
   "cell_type": "code",
   "execution_count": 358,
   "metadata": {},
   "outputs": [],
   "source": [
    "st = \"ananab\""
   ]
  },
  {
   "cell_type": "code",
   "execution_count": 359,
   "metadata": {},
   "outputs": [],
   "source": [
    "#1. \n",
    "rev_st = st[::-1]"
   ]
  },
  {
   "cell_type": "code",
   "execution_count": 360,
   "metadata": {},
   "outputs": [
    {
     "data": {
      "text/plain": [
       "'banana'"
      ]
     },
     "execution_count": 360,
     "metadata": {},
     "output_type": "execute_result"
    }
   ],
   "source": [
    "rev_st"
   ]
  },
  {
   "cell_type": "code",
   "execution_count": 364,
   "metadata": {},
   "outputs": [
    {
     "name": "stdout",
     "output_type": "stream",
     "text": [
      "pre: a\n",
      "suf: a\n",
      "\n",
      "pre: an\n",
      "suf: na\n",
      "\n",
      "pre: ana\n",
      "suf: ana\n",
      "\n",
      "pre: anan\n",
      "suf: nana\n",
      "\n",
      "pre: anana\n",
      "suf: anana\n",
      "\n"
     ]
    }
   ],
   "source": [
    "# obviously length of st and rev_st are going to be same. \n",
    "# So we can just use one iteration to compare largest suffix and prefix\n",
    "match_len = 0\n",
    "for i in range(1,len(st)):\n",
    "    pre = st[:i]\n",
    "    suf = rev_st[-i:]\n",
    "    print(\"pre:\", pre)\n",
    "    print(\"suf:\", suf)\n",
    "    print(\"\")\n",
    "    if pre==suf:\n",
    "        new_long = pre\n",
    "        match_len = len(pre)"
   ]
  },
  {
   "cell_type": "code",
   "execution_count": 365,
   "metadata": {},
   "outputs": [
    {
     "data": {
      "text/plain": [
       "'anana'"
      ]
     },
     "execution_count": 365,
     "metadata": {},
     "output_type": "execute_result"
    }
   ],
   "source": [
    "new_long"
   ]
  },
  {
   "cell_type": "code",
   "execution_count": 369,
   "metadata": {},
   "outputs": [],
   "source": [
    "# putting it all in a function\n",
    "\n",
    "def shortest_palindrome(st):\n",
    "    \n",
    "    rev_st = st[::-1]\n",
    "    \n",
    "     # first check if already palindrom\n",
    "    if st==rev_st:\n",
    "        return st\n",
    "    \n",
    "    match_len = 0\n",
    "    for i in range(1,len(st)):\n",
    "        pre = st[:i]\n",
    "        suf = rev_st[-i:]\n",
    "\n",
    "        if pre==suf:\n",
    "            new_long = pre\n",
    "            match_len = len(pre)\n",
    "            \n",
    "    ans_st = rev_st[:len(rev_st)-match_len] + st\n",
    "    return ans_st"
   ]
  },
  {
   "cell_type": "code",
   "execution_count": 370,
   "metadata": {},
   "outputs": [
    {
     "data": {
      "text/plain": [
       "'bananab'"
      ]
     },
     "execution_count": 370,
     "metadata": {},
     "output_type": "execute_result"
    }
   ],
   "source": [
    "shortest_palindrome(st)"
   ]
  },
  {
   "cell_type": "code",
   "execution_count": 371,
   "metadata": {},
   "outputs": [
    {
     "data": {
      "text/plain": [
       "'a'"
      ]
     },
     "execution_count": 371,
     "metadata": {},
     "output_type": "execute_result"
    }
   ],
   "source": [
    "shortest_palindrome(\"a\")"
   ]
  },
  {
   "cell_type": "markdown",
   "metadata": {},
   "source": [
    "#### Longest Consecutive Sequence"
   ]
  },
  {
   "cell_type": "markdown",
   "metadata": {},
   "source": [
    "Given an unsorted array of integers, find the length of the longest consecutive elements sequence.\n",
    "\n",
    "Your algorithm should run in O(n) complexity.\n",
    "\n",
    "```\n",
    "Input: [100, 4, 200, 1, 3, 2]\n",
    "Output: 4\n",
    "Explanation: The longest consecutive elements sequence is [1, 2, 3, 4]. Therefore its length is 4.\n",
    "```"
   ]
  },
  {
   "cell_type": "markdown",
   "metadata": {},
   "source": [
    "O(n.logn) by sorting"
   ]
  },
  {
   "cell_type": "code",
   "execution_count": 395,
   "metadata": {},
   "outputs": [],
   "source": [
    "def long_cons_seq(lis):\n",
    "    if len(lis)==0:\n",
    "        return 0\n",
    "    # deduplciate\n",
    "    lis = list(set(lis))\n",
    "    \n",
    "    sort_lis = sorted(lis)\n",
    "    print(sort_lis)\n",
    "\n",
    "    max_len = 1\n",
    "    this_one = 1\n",
    "    for i in range(1,len(sort_lis)):\n",
    "        if sort_lis[i] == sort_lis[i-1]+1:\n",
    "            this_one+=1\n",
    "            max_len = max(max_len, this_one)\n",
    "        else:\n",
    "            this_one=1\n",
    "    return max_len"
   ]
  },
  {
   "cell_type": "code",
   "execution_count": 396,
   "metadata": {
    "scrolled": true
   },
   "outputs": [
    {
     "name": "stdout",
     "output_type": "stream",
     "text": [
      "[1, 2, 3, 4, 100, 200]\n"
     ]
    },
    {
     "data": {
      "text/plain": [
       "4"
      ]
     },
     "execution_count": 396,
     "metadata": {},
     "output_type": "execute_result"
    }
   ],
   "source": [
    "long_cons_seq([100, 4, 200, 1, 3, 2])"
   ]
  },
  {
   "cell_type": "code",
   "execution_count": 397,
   "metadata": {
    "scrolled": true
   },
   "outputs": [
    {
     "name": "stdout",
     "output_type": "stream",
     "text": [
      "[0, 1, 2]\n"
     ]
    },
    {
     "data": {
      "text/plain": [
       "3"
      ]
     },
     "execution_count": 397,
     "metadata": {},
     "output_type": "execute_result"
    }
   ],
   "source": [
    "long_cons_seq([1,2,0,1])"
   ]
  },
  {
   "cell_type": "code",
   "execution_count": 398,
   "metadata": {
    "scrolled": true
   },
   "outputs": [
    {
     "name": "stdout",
     "output_type": "stream",
     "text": [
      "[-1, 0, 1, 3, 4, 5, 6, 7, 8, 9]\n"
     ]
    },
    {
     "data": {
      "text/plain": [
       "7"
      ]
     },
     "execution_count": 398,
     "metadata": {},
     "output_type": "execute_result"
    }
   ],
   "source": [
    "long_cons_seq([9,1,4,7,3,-1,0,5,8,-1,6])"
   ]
  },
  {
   "cell_type": "markdown",
   "metadata": {},
   "source": [
    "#### merge k sorted lists"
   ]
  },
  {
   "cell_type": "code",
   "execution_count": 400,
   "metadata": {},
   "outputs": [],
   "source": [
    "k1=[1,4,5] \n",
    "k2=[1,3,4]\n",
    "k3=[2,6] "
   ]
  },
  {
   "cell_type": "code",
   "execution_count": 403,
   "metadata": {},
   "outputs": [],
   "source": [
    "# let's solve subproblem first. \n",
    "# merge 2 sorted lists\n",
    "\n",
    "def merge2list(k1,k2):\n",
    "    \n",
    "    i=0\n",
    "    j=0\n",
    "    len_k1 = len(k1)\n",
    "    len_k2 = len(k2)\n",
    "    new_list = []\n",
    "    \n",
    "    while i<len_k1 and j<len_k2:\n",
    "        if k1[i] <= k2[j]:\n",
    "            new_list.append(k1[i])\n",
    "            i+=1\n",
    "        else:\n",
    "            new_list.append(k2[j])\n",
    "            j+=1\n",
    "    \n",
    "    # append any remaining elements\n",
    "    # one of 2 list has definitely ended\n",
    "    if i < len_k1:\n",
    "        new_list.extend(k1[i:])\n",
    "    \n",
    "    if j < len_k2:\n",
    "        new_list.extend(k2[j:])\n",
    "        \n",
    "    return new_list"
   ]
  },
  {
   "cell_type": "code",
   "execution_count": 404,
   "metadata": {},
   "outputs": [
    {
     "data": {
      "text/plain": [
       "[1, 1, 3, 4, 4, 5]"
      ]
     },
     "execution_count": 404,
     "metadata": {},
     "output_type": "execute_result"
    }
   ],
   "source": [
    "merge2list(k1,k2)"
   ]
  },
  {
   "cell_type": "code",
   "execution_count": 407,
   "metadata": {},
   "outputs": [],
   "source": [
    "def mergeKlist(klist):\n",
    "    new_list = []\n",
    "    for k in klist:\n",
    "        new_list = merge2list(new_list, k)\n",
    "    return new_list"
   ]
  },
  {
   "cell_type": "code",
   "execution_count": 409,
   "metadata": {},
   "outputs": [
    {
     "data": {
      "text/plain": [
       "[1, 1, 2, 3, 4, 4, 5, 6]"
      ]
     },
     "execution_count": 409,
     "metadata": {},
     "output_type": "execute_result"
    }
   ],
   "source": [
    "mergeKlist([k1,k2,k3])"
   ]
  },
  {
   "cell_type": "markdown",
   "metadata": {},
   "source": [
    "#### Longest Valid Parentheses\n",
    "Given a string containing just the characters '(' and ')', find the length of the longest valid (well-formed) parentheses substring.\n",
    "\n"
   ]
  },
  {
   "cell_type": "markdown",
   "metadata": {},
   "source": [
    "```\n",
    "Input: \")()())\"\n",
    "Output: 4\n",
    "Explanation: The longest valid parentheses substring is \"()()\"\n",
    "```"
   ]
  },
  {
   "cell_type": "code",
   "execution_count": 410,
   "metadata": {},
   "outputs": [],
   "source": [
    "par = \")()())\""
   ]
  },
  {
   "cell_type": "code",
   "execution_count": 414,
   "metadata": {},
   "outputs": [],
   "source": [
    "def long_valid_par(par):\n",
    "    \n",
    "    stack = []\n",
    "    ct = 0\n",
    "    for i in range(len(par)):\n",
    "        if par[i] == \"(\":\n",
    "            stack.append(0)\n",
    "        else:\n",
    "            if stack:\n",
    "                stack.pop()\n",
    "                ct+=2\n",
    "    return ct"
   ]
  },
  {
   "cell_type": "code",
   "execution_count": 415,
   "metadata": {},
   "outputs": [
    {
     "data": {
      "text/plain": [
       "4"
      ]
     },
     "execution_count": 415,
     "metadata": {},
     "output_type": "execute_result"
    }
   ],
   "source": [
    "long_valid_par(par)"
   ]
  },
  {
   "cell_type": "code",
   "execution_count": 423,
   "metadata": {},
   "outputs": [
    {
     "data": {
      "text/plain": [
       "6"
      ]
     },
     "execution_count": 423,
     "metadata": {},
     "output_type": "execute_result"
    }
   ],
   "source": [
    "long_valid_par(\")()((())\")"
   ]
  },
  {
   "cell_type": "markdown",
   "metadata": {},
   "source": [
    "But above solution would not give continuous substring. It will still count in case of discontinuity. \n"
   ]
  },
  {
   "cell_type": "code",
   "execution_count": 434,
   "metadata": {},
   "outputs": [],
   "source": [
    "def long_valid_par_con(par):\n",
    "    stack=[-1]\n",
    "    max_len = 0\n",
    "    for i in range(len(par)):\n",
    "        if par[i] == \"(\":\n",
    "            stack.append(i)\n",
    "        elif par[i] == \")\":\n",
    "            stack.pop()\n",
    "            if len(stack)>0:\n",
    "                max_len=max(max_len, i-stack[-1])  # top most of stack\n",
    "            else: \n",
    "                stack.append(i)\n",
    "    return max_len"
   ]
  },
  {
   "cell_type": "code",
   "execution_count": 435,
   "metadata": {},
   "outputs": [
    {
     "data": {
      "text/plain": [
       "4"
      ]
     },
     "execution_count": 435,
     "metadata": {},
     "output_type": "execute_result"
    }
   ],
   "source": [
    "long_valid_par_con(\")()((())\")"
   ]
  },
  {
   "cell_type": "markdown",
   "metadata": {},
   "source": [
    "#### Word Break II"
   ]
  },
  {
   "cell_type": "code",
   "execution_count": 483,
   "metadata": {},
   "outputs": [],
   "source": [
    "word_list = [\"apple\", \"pen\", \"applepen\", \"pine\", \"pineapple\"]"
   ]
  },
  {
   "cell_type": "code",
   "execution_count": 484,
   "metadata": {},
   "outputs": [],
   "source": [
    "st = \"pineapplepenapple\""
   ]
  },
  {
   "cell_type": "code",
   "execution_count": 501,
   "metadata": {},
   "outputs": [],
   "source": [
    "d = defaultdict(list)\n",
    "for j in range(len(st)+1):\n",
    "    for i in range(j,-1,-1):\n",
    "        tmp_st = st[i:j]\n",
    "        if tmp_st in word_list:\n",
    "                if len(d[i])>0:\n",
    "                    for elem in d[i]:\n",
    "                        d[j].append(elem+\" \"+tmp_st)  \n",
    "                else:\n",
    "                    d[j].append(tmp_st)"
   ]
  },
  {
   "cell_type": "code",
   "execution_count": 502,
   "metadata": {},
   "outputs": [
    {
     "data": {
      "text/plain": [
       "defaultdict(list,\n",
       "            {0: [],\n",
       "             4: ['pine'],\n",
       "             9: ['pine apple', 'pineapple'],\n",
       "             12: ['pine apple pen', 'pineapple pen', 'pine applepen'],\n",
       "             17: ['pine apple pen apple',\n",
       "              'pineapple pen apple',\n",
       "              'pine applepen apple']})"
      ]
     },
     "execution_count": 502,
     "metadata": {},
     "output_type": "execute_result"
    }
   ],
   "source": [
    "d"
   ]
  },
  {
   "cell_type": "markdown",
   "metadata": {},
   "source": [
    "#### Triplet sum in array"
   ]
  },
  {
   "cell_type": "code",
   "execution_count": 524,
   "metadata": {},
   "outputs": [],
   "source": [
    "A = [1, 4, 45, 6, 10, 8, 2] \n",
    "s = 22"
   ]
  },
  {
   "cell_type": "code",
   "execution_count": 534,
   "metadata": {},
   "outputs": [],
   "source": [
    "# O(n) to make dict\n",
    "d=defaultdict(lambda:0)\n",
    "for i in A:\n",
    "    d[i]+=1"
   ]
  },
  {
   "cell_type": "code",
   "execution_count": 535,
   "metadata": {},
   "outputs": [
    {
     "data": {
      "text/plain": [
       "defaultdict(<function __main__.<lambda>()>,\n",
       "            {1: 1, 4: 1, 45: 1, 6: 1, 10: 1, 8: 1, 2: 1})"
      ]
     },
     "execution_count": 535,
     "metadata": {},
     "output_type": "execute_result"
    }
   ],
   "source": [
    "d"
   ]
  },
  {
   "cell_type": "code",
   "execution_count": 536,
   "metadata": {},
   "outputs": [],
   "source": [
    "# O(n)\n",
    "def twosum(A,s):\n",
    "    two_sums = []\n",
    "    for elem in A:\n",
    "        if d[s-elem] > 0:\n",
    "            two_sums.append([elem, s-elem])\n",
    "            d[s-elem]-=1\n",
    "            d[elem]-=1\n",
    "    return two_sums"
   ]
  },
  {
   "cell_type": "code",
   "execution_count": 537,
   "metadata": {},
   "outputs": [
    {
     "data": {
      "text/plain": [
       "[[4, 6], [8, 2]]"
      ]
     },
     "execution_count": 537,
     "metadata": {},
     "output_type": "execute_result"
    }
   ],
   "source": [
    "twosum(A,10)"
   ]
  },
  {
   "cell_type": "code",
   "execution_count": 538,
   "metadata": {},
   "outputs": [],
   "source": [
    "#O(n^2)\n",
    "def threesum(A,s):\n",
    "    \n",
    "    three_sums=[]\n",
    "    for i,elem in enumerate(A):\n",
    "        \n",
    "        # check if s-elem is present in two sum\n",
    "        two_sums = twosum(A[i:], s-elem)\n",
    "        if len(two_sums)>0:\n",
    "            two_sums_with_new = [m+[elem] for m in two_sums]\n",
    "            three_sums.append(two_sums_with_new)\n",
    "    return three_sums"
   ]
  },
  {
   "cell_type": "code",
   "execution_count": 539,
   "metadata": {},
   "outputs": [
    {
     "data": {
      "text/plain": [
       "[[[8, 10, 4]]]"
      ]
     },
     "execution_count": 539,
     "metadata": {},
     "output_type": "execute_result"
    }
   ],
   "source": [
    "threesum(A,s)"
   ]
  },
  {
   "cell_type": "markdown",
   "metadata": {},
   "source": [
    "#### binary search"
   ]
  },
  {
   "cell_type": "code",
   "execution_count": 568,
   "metadata": {},
   "outputs": [],
   "source": [
    "a = [1,2,3,3,4,5,6]\n",
    "k=4"
   ]
  },
  {
   "cell_type": "code",
   "execution_count": 575,
   "metadata": {},
   "outputs": [],
   "source": [
    "def bs(a,k):\n",
    "    st = 0\n",
    "    end=len(a)-1\n",
    "    \n",
    "    while st<=end:\n",
    "        mid = (end+st+1)//2\n",
    "        if k==a[mid]:\n",
    "            print(\"index:\",mid)\n",
    "            return\n",
    "        elif k>mid:\n",
    "            st = mid+1\n",
    "        elif k<mid:\n",
    "            end = mid-1\n",
    "    return \"not found\""
   ]
  },
  {
   "cell_type": "code",
   "execution_count": 576,
   "metadata": {},
   "outputs": [
    {
     "name": "stdout",
     "output_type": "stream",
     "text": [
      "index: 4\n"
     ]
    }
   ],
   "source": [
    "bs(a,k)"
   ]
  },
  {
   "cell_type": "code",
   "execution_count": null,
   "metadata": {},
   "outputs": [],
   "source": []
  }
 ],
 "metadata": {
  "kernelspec": {
   "display_name": "Python 3",
   "language": "python",
   "name": "python3"
  },
  "language_info": {
   "codemirror_mode": {
    "name": "ipython",
    "version": 3
   },
   "file_extension": ".py",
   "mimetype": "text/x-python",
   "name": "python",
   "nbconvert_exporter": "python",
   "pygments_lexer": "ipython3",
   "version": "3.7.0"
  },
  "toc": {
   "base_numbering": 1,
   "nav_menu": {},
   "number_sections": true,
   "sideBar": true,
   "skip_h1_title": false,
   "title_cell": "Table of Contents",
   "title_sidebar": "Contents",
   "toc_cell": false,
   "toc_position": {},
   "toc_section_display": true,
   "toc_window_display": false
  }
 },
 "nbformat": 4,
 "nbformat_minor": 2
}
